{
 "cells": [
  {
   "cell_type": "code",
   "execution_count": 4,
   "metadata": {},
   "outputs": [],
   "source": [
    "import pandas as pd\n",
    "\n",
    "################################################\n",
    "# 读取数据\n",
    "################################################\n",
    "df_original = pd.read_csv(\"../data/train_data.csv\")\n",
    "n_original = df_original.shape[0]\n",
    "df_submit = pd.read_csv(\"../data/sample_submission.csv\")\n",
    "df = pd.concat([df_original, df_submit], axis=0).reset_index(drop=True)\n",
    "\n",
    "# Features from GRU\n",
    "df = pd.read_csv(\"../data/GRU_features_predict_only.csv\", index_col=0).merge(\n",
    "    df,\n",
    "    on='id'\n",
    ")\n",
    "\n",
    "# Features from other pretrained model\n",
    "df = pd.read_csv(\"../data/pretrained_feature_predict.csv\", index_col=0).merge(\n",
    "    df,\n",
    "    on='id'\n",
    ")\n"
   ]
  }
 ],
 "metadata": {
  "kernelspec": {
   "display_name": "sklearn-env",
   "language": "python",
   "name": "python3"
  },
  "language_info": {
   "codemirror_mode": {
    "name": "ipython",
    "version": 3
   },
   "file_extension": ".py",
   "mimetype": "text/x-python",
   "name": "python",
   "nbconvert_exporter": "python",
   "pygments_lexer": "ipython3",
   "version": "3.10.13"
  }
 },
 "nbformat": 4,
 "nbformat_minor": 2
}
