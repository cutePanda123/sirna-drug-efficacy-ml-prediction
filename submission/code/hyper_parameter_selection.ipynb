{
 "cells": [
  {
   "cell_type": "code",
   "execution_count": 23,
   "metadata": {},
   "outputs": [],
   "source": [
    "################################################\n",
    "# 加载数据和特征工程\n",
    "################################################\n",
    "\n",
    "%run load_data.ipynb\n",
    "%run build_features.ipynb"
   ]
  },
  {
   "cell_type": "code",
   "execution_count": 24,
   "metadata": {},
   "outputs": [],
   "source": [
    "################################################\n",
    "# 准备数据格式\n",
    "################################################\n",
    "\n",
    "features = combined_data.iloc[:n_original, :-1]\n",
    "targets = combined_data.iloc[:n_original, -1]"
   ]
  },
  {
   "cell_type": "code",
   "execution_count": 25,
   "metadata": {},
   "outputs": [],
   "source": [
    "################################################\n",
    "# 定义自定义评分器\n",
    "################################################\n",
    "\n",
    "import lightgbm as lgb\n",
    "from sklearn.model_selection import GridSearchCV\n",
    "import numpy as np\n",
    "from sklearn.metrics import mean_absolute_error, make_scorer\n",
    "\n",
    "def calculate_validation_score(y_true, y_pred, threshold=30):\n",
    "    mae = np.mean(np.abs(y_true - y_pred))\n",
    "\n",
    "    y_true_binary = ((y_true <= threshold) & (y_true >= 0)).astype(int)\n",
    "    y_pred_binary = ((y_pred <= threshold) & (y_pred >= 0)).astype(int)\n",
    "\n",
    "    mask = (y_pred >= 0) & (y_pred <= threshold)\n",
    "    range_mae = (\n",
    "        mean_absolute_error(y_true[mask], y_pred[mask]) if np.sum(mask) > 0 else 100\n",
    "    )\n",
    "\n",
    "    if np.sum(y_pred_binary) > 0:\n",
    "        precision = (np.array(y_pred_binary) & y_true_binary).sum()/np.sum(y_pred_binary)\n",
    "    else:\n",
    "        precision = 0\n",
    "    if np.sum(y_true_binary) > 0:\n",
    "        recall = (np.array(y_pred_binary) & y_true_binary).sum()/np.sum(y_true_binary)\n",
    "    else:\n",
    "        recall = 0\n",
    "\n",
    "    if precision + recall == 0:\n",
    "        f1 = 0\n",
    "    else:\n",
    "        f1 = 2 * precision * recall / (precision + recall)\n",
    "    score = (1 - mae / 100) * 0.5 + (1 - range_mae / 100) * f1 * 0.5\n",
    "    return score\n",
    "\n",
    "custom_scorer = make_scorer(calculate_validation_score, greater_is_better=True)\n"
   ]
  },
  {
   "cell_type": "code",
   "execution_count": null,
   "metadata": {},
   "outputs": [],
   "source": [
    "################################################\n",
    "# 超参数搜索\n",
    "################################################\n",
    "\n",
    "param_grid = {\n",
    "    'max_depth': [7, 9, 11],\n",
    "    'learning_rate': [0.01, 0.02],\n",
    "    'num_leaves': [31, 63, 127],\n",
    "    'feature_fraction': [0.8, 0.9],\n",
    "    'bagging_fraction': [0.8, 0.9],\n",
    "    'bagging_freq': [0, 5, 10],\n",
    "    'n_estimators': [15000, 20000],\n",
    "    'min_child_samples': [20, 30, 50],\n",
    "}\n",
    "\n",
    "gbm = lgb.LGBMRegressor(boosting_type='gbdt', objective='regression')\n",
    "grid = GridSearchCV(gbm, param_grid, cv=3, scoring=custom_scorer, verbose=1)\n",
    "grid.fit(features, targets)\n",
    "\n",
    "print(f'Best parameters found by grid search are: {grid.best_params_}')\n",
    "print(f'Best estimator found by grid search are: {grid.best_estimator_}')\n"
   ]
  },
  {
   "cell_type": "code",
   "execution_count": 16,
   "metadata": {},
   "outputs": [],
   "source": [
    "\n",
    "combined_params = {\n",
    "    \"best_params\": grid.best_params_,\n",
    "    \"best_estimator\": grid.best_estimator_\n",
    "}"
   ]
  },
  {
   "cell_type": "code",
   "execution_count": 17,
   "metadata": {},
   "outputs": [],
   "source": [
    "import json\n",
    "\n",
    "with open('../data/external_data/best_hyper_parameters.json', 'w', encoding='utf-8') as file:\n",
    "    json.dump(combined_params, file, indent=4)\n"
   ]
  }
 ],
 "metadata": {
  "kernelspec": {
   "display_name": "Python 3 (ipykernel)",
   "language": "python",
   "name": "python3"
  },
  "language_info": {
   "codemirror_mode": {
    "name": "ipython",
    "version": 3
   },
   "file_extension": ".py",
   "mimetype": "text/x-python",
   "name": "python",
   "nbconvert_exporter": "python",
   "pygments_lexer": "ipython3",
   "version": "3.10.13"
  }
 },
 "nbformat": 4,
 "nbformat_minor": 4
}
