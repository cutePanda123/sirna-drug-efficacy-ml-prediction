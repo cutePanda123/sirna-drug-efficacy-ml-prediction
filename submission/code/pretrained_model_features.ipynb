{
 "cells": [
  {
   "cell_type": "code",
   "execution_count": null,
   "id": "8991bd3e-a04a-44b9-b4ad-f662e615005d",
   "metadata": {},
   "outputs": [],
   "source": [
    "import pandas as pd\n",
    "import numpy as np\n",
    "\n",
    "df_original = pd.read_csv(\"../data/train_data.csv\")\n",
    "n_original = df_original.shape[0]\n",
    "df_submit = pd.read_csv(\"../data/sample_submission.csv\")\n",
    "df = pd.concat([df_original, df_submit], axis=0).reset_index(drop=True)\n"
   ]
  },
  {
   "cell_type": "code",
   "execution_count": null,
   "id": "68446603-a367-4fd3-903c-4cd80cceb18d",
   "metadata": {},
   "outputs": [],
   "source": [
    "from multimolecule import RnaTokenizer, RiNALMoModel\n",
    "\n",
    "tokenizer = RnaTokenizer.from_pretrained('multimolecule/rinalmo')\n",
    "model = RiNALMoModel.from_pretrained('multimolecule/rinalmo')\n"
   ]
  },
  {
   "cell_type": "code",
   "execution_count": null,
   "id": "700f013e-d586-4890-a248-0fd61447c14c",
   "metadata": {},
   "outputs": [],
   "source": [
    "RNA_seq = list(df['siRNA_antisense_seq'])\n",
    "extracted_features = []\n",
    "\n",
    "for i in range(df.shape[0]):\n",
    "    if i%10==0:\n",
    "        print(i)\n",
    "    input = tokenizer(RNA_seq[i], return_tensors='pt')\n",
    "    output = model(**input)\n",
    "    extracted_features.append(output.pooler_output.squeeze().detach().numpy())\n"
   ]
  },
  {
   "cell_type": "code",
   "execution_count": null,
   "id": "55dfad6e-9813-46eb-8324-f7887c9751ab",
   "metadata": {},
   "outputs": [],
   "source": [
    "retval = pd.DataFrame( np.array(extracted_features), columns=['RiNALMo_feature_'+str(i) for i in range(1,1281)] )\n",
    "retval['id'] = df['id']\n",
    "retval.to_csv('../data/external_data/rinalmo_features.csv')\n"
   ]
  },
  {
   "cell_type": "code",
   "execution_count": null,
   "id": "514550e0-e23b-4ac8-94c9-9717aedfc345",
   "metadata": {},
   "outputs": [],
   "source": [
    "retval.head()"
   ]
  },
  {
   "cell_type": "code",
   "execution_count": null,
   "id": "9c6534cc-c9d9-43c5-a23f-18f4e31079f5",
   "metadata": {},
   "outputs": [],
   "source": [
    "import torch\n",
    "from multimolecule import RnaTokenizer, RnaFmForNucleotidePrediction\n",
    "\n",
    "tokenizer = RnaTokenizer.from_pretrained('multimolecule/mrnafm')\n",
    "model = RnaFmForNucleotidePrediction.from_pretrained('multimolecule/mrnafm')\n"
   ]
  },
  {
   "cell_type": "code",
   "execution_count": null,
   "id": "7056ceec-c417-4d65-aa9c-84bc3855de6e",
   "metadata": {},
   "outputs": [],
   "source": [
    "RNA_seq = list(df['siRNA_antisense_seq'])\n",
    "output_list = []\n",
    "max_len = 24\n",
    "\n",
    "with torch.no_grad():\n",
    "    for i in range(len(RNA_seq)):\n",
    "        if i%100==0:\n",
    "            print(i)\n",
    "        x = RNA_seq[i]\n",
    "        x = x + ''.join(['-']*(max_len-len(x)))\n",
    "        input = tokenizer(x, return_tensors='pt')\n",
    "        output = model(**input)\n",
    "        output_list.append( list(output.logits.squeeze().numpy()) )"
   ]
  },
  {
   "cell_type": "code",
   "execution_count": null,
   "id": "e1c8b38c-4dd9-4fea-b136-93e54fbdeaf6",
   "metadata": {},
   "outputs": [],
   "source": [
    "retval = pd.DataFrame( np.array(output_list), columns=['mRNAFM_feature_'+str(i) for i in range(1,9)] )\n",
    "retval['id'] = df['id']\n",
    "retval.to_csv('../data/external_data/mrnafm_features.csv')\n"
   ]
  },
  {
   "cell_type": "code",
   "execution_count": null,
   "id": "b2f82fa1-4954-40b8-a83c-26ba85ef822e",
   "metadata": {},
   "outputs": [],
   "source": [
    "retval.head()"
   ]
  }
 ],
 "metadata": {
  "kernelspec": {
   "display_name": "Python 3 (ipykernel)",
   "language": "python",
   "name": "python3"
  },
  "language_info": {
   "codemirror_mode": {
    "name": "ipython",
    "version": 3
   },
   "file_extension": ".py",
   "mimetype": "text/x-python",
   "name": "python",
   "nbconvert_exporter": "python",
   "pygments_lexer": "ipython3",
   "version": "3.11.7"
  }
 },
 "nbformat": 4,
 "nbformat_minor": 5
}
