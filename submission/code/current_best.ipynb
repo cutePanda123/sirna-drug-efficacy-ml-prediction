{
 "cells": [
  {
   "cell_type": "code",
   "execution_count": null,
   "metadata": {},
   "outputs": [],
   "source": [
    "################################################\n",
    "# 加载数据和特征工程\n",
    "################################################\n",
    "\n",
    "%run load_data.ipynb\n",
    "%run build_features.ipynb"
   ]
  },
  {
   "cell_type": "code",
   "execution_count": null,
   "metadata": {},
   "outputs": [],
   "source": [
    "################################################\n",
    "# 准备数据格式\n",
    "################################################\n",
    "import lightgbm as lgb\n",
    "\n",
    "features = combined_data.iloc[:n_original, :-1]\n",
    "targets = combined_data.iloc[:n_original, -1]\n",
    "\n",
    "all_data = lgb.Dataset(features, label=targets)\n"
   ]
  },
  {
   "cell_type": "code",
   "execution_count": null,
   "metadata": {},
   "outputs": [],
   "source": [
    "################################################\n",
    "# 加载最佳超参数\n",
    "################################################\n",
    "import json\n",
    "import chardet\n",
    "\n",
    "# Detect the file encoding\n",
    "with open('../data/best_hyper_parameters.json', 'rb') as file:\n",
    "    raw_data = file.read()\n",
    "    result = chardet.detect(raw_data)\n",
    "    encoding = result['encoding']\n",
    "\n",
    "# Read the JSON content from the file using the detected encoding\n",
    "with open('../data/best_hyper_parameters.json', 'r', encoding=encoding) as file:\n",
    "    data = json.load(file)\n",
    "\n",
    "# Extract the best_params and best_estimator\n",
    "best_params = data[\"best_params\"]\n",
    "best_estimator = data[\"best_estimator\"]\n",
    "\n",
    "print(best_params)\n",
    "print(best_estimator[\"n_estimators\"])"
   ]
  },
  {
   "cell_type": "code",
   "execution_count": null,
   "metadata": {},
   "outputs": [],
   "source": [
    "################################################\n",
    "# 训练模型\n",
    "################################################\n",
    "\n",
    "best_gbm = lgb.train(\n",
    "    best_params,\n",
    "    all_data,\n",
    "    num_boost_round=best_estimator[\"n_estimators\"]\n",
    ")"
   ]
  },
  {
   "cell_type": "code",
   "execution_count": null,
   "metadata": {},
   "outputs": [],
   "source": [
    "eval_data = combined_data.iloc[n_original:, :-1]\n",
    "y_pred = best_gbm.predict(eval_data)\n",
    "y_pred[y_pred>100] = 100\n",
    "y_pred[y_pred<0] = 0"
   ]
  },
  {
   "cell_type": "code",
   "execution_count": null,
   "metadata": {},
   "outputs": [],
   "source": [
    "df_submit[\"mRNA_remaining_pct\"] = y_pred\n",
    "df_submit.to_csv(\"../submit/submission.csv\", index=False)"
   ]
  }
 ],
 "metadata": {
  "kernelspec": {
   "display_name": "Python 3 (ipykernel)",
   "language": "python",
   "name": "python3"
  },
  "language_info": {
   "codemirror_mode": {
    "name": "ipython",
    "version": 3
   },
   "file_extension": ".py",
   "mimetype": "text/x-python",
   "name": "python",
   "nbconvert_exporter": "python",
   "pygments_lexer": "ipython3",
   "version": "3.10.13"
  }
 },
 "nbformat": 4,
 "nbformat_minor": 4
}
