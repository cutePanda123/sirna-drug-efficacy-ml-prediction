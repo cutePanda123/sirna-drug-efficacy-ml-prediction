{
 "cells": [
  {
   "cell_type": "code",
   "execution_count": 1,
   "metadata": {},
   "outputs": [],
   "source": [
    "################################################\n",
    "# 加载数据和特征工程\n",
    "################################################\n",
    "\n",
    "%run load_data.ipynb\n",
    "%run build_features.ipynb"
   ]
  },
  {
   "cell_type": "code",
   "execution_count": null,
   "metadata": {},
   "outputs": [],
   "source": [
    "################################################\n",
    "# 准备数据格式\n",
    "################################################\n",
    "import lightgbm as lgb\n",
    "\n",
    "features = combined_data.iloc[:n_original, :-1]\n",
    "targets = combined_data.iloc[:n_original, -1]\n",
    "\n",
    "all_data = lgb.Dataset(features, label=targets)\n"
   ]
  },
  {
   "cell_type": "code",
   "execution_count": 3,
   "metadata": {},
   "outputs": [
    {
     "name": "stdout",
     "output_type": "stream",
     "text": [
      "{'boosting_type': 'gbdt', 'objective': 'regression', 'metric': 'None', 'bagging_fraction': 0.8, 'bagging_freq': 5, 'feature_fraction': 0.9, 'learning_rate': 0.02, 'max_depth': 9, 'num_leaves': 127, 'min_child_samples': 20}\n",
      "8700\n"
     ]
    }
   ],
   "source": [
    "################################################\n",
    "# 加载最佳超参数\n",
    "################################################\n",
    "import json\n",
    "import chardet\n",
    "\n",
    "# Detect the file encoding\n",
    "with open('../data/external_data/best_hyper_parameters.json', 'rb') as file:\n",
    "    raw_data = file.read()\n",
    "    result = chardet.detect(raw_data)\n",
    "    encoding = result['encoding']\n",
    "\n",
    "# Read the JSON content from the file using the detected encoding\n",
    "with open('../data/external_data/best_hyper_parameters.json', 'r', encoding=encoding) as file:\n",
    "    data = json.load(file)\n",
    "\n",
    "# Extract the best_params and best_estimator\n",
    "best_params = data[\"best_params\"]\n",
    "best_estimator = data[\"best_estimator\"]\n",
    "\n",
    "print(best_params)\n",
    "print(best_estimator[\"n_estimators\"])"
   ]
  },
  {
   "cell_type": "code",
   "execution_count": null,
   "metadata": {},
   "outputs": [],
   "source": [
    "################################################\n",
    "# 训练模型\n",
    "################################################\n",
    "\n",
    "best_gbm = lgb.train(\n",
    "    best_params,\n",
    "    all_data,\n",
    "    num_boost_round=best_estimator[\"n_estimators\"]\n",
    ")"
   ]
  },
  {
   "cell_type": "code",
   "execution_count": 5,
   "metadata": {},
   "outputs": [],
   "source": [
    "################################################\n",
    "# 预测结果\n",
    "################################################\n",
    "\n",
    "eval_data = combined_data.iloc[n_original:, :-1]\n",
    "y_pred = best_gbm.predict(eval_data)\n",
    "y_pred[y_pred > 100] = 100\n",
    "y_pred[y_pred < 0] = 0"
   ]
  },
  {
   "cell_type": "code",
   "execution_count": 7,
   "metadata": {},
   "outputs": [
    {
     "name": "stdout",
     "output_type": "stream",
     "text": [
      "File saved as ../submit/submission_20240821.csv\n"
     ]
    }
   ],
   "source": [
    "################################################\n",
    "# 保存结果文件\n",
    "################################################\n",
    "\n",
    "from datetime import datetime\n",
    "\n",
    "df_submit[\"mRNA_remaining_pct\"] = y_pred\n",
    "\n",
    "timestamp = datetime.now().strftime(\"%Y%m%d\")\n",
    "filename = f\"../submit/submission_{timestamp}.csv\"\n",
    "print(f\"File saved as {filename}\")\n",
    "\n",
    "df_submit.to_csv(filename, index=False)"
   ]
  }
 ],
 "metadata": {
  "kernelspec": {
   "display_name": "Python 3 (ipykernel)",
   "language": "python",
   "name": "python3"
  },
  "language_info": {
   "codemirror_mode": {
    "name": "ipython",
    "version": 3
   },
   "file_extension": ".py",
   "mimetype": "text/x-python",
   "name": "python",
   "nbconvert_exporter": "python",
   "pygments_lexer": "ipython3",
   "version": "3.10.13"
  }
 },
 "nbformat": 4,
 "nbformat_minor": 4
}
