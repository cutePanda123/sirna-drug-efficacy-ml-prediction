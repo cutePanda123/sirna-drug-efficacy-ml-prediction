{
 "cells": [
  {
   "cell_type": "code",
   "execution_count": null,
   "metadata": {},
   "outputs": [],
   "source": [
    "################################################\n",
    "# 执行所有程序\n",
    "################################################\n",
    "\n",
    "%run dependency_setup.ipynb\n",
    "%run load_data.ipynb\n",
    "%run build_features.ipynb\n",
    "%run train_and_predict.ipynb"
   ]
  }
 ],
 "metadata": {
  "language_info": {
   "name": "python"
  }
 },
 "nbformat": 4,
 "nbformat_minor": 2
}
