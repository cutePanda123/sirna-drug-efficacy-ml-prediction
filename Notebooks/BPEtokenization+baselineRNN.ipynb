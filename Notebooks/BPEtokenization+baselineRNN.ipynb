{
 "cells": [
  {
   "cell_type": "code",
   "execution_count": 1,
   "id": "8d3ac19e-99d6-4779-ae00-59dca69cca59",
   "metadata": {},
   "outputs": [],
   "source": [
    "import torch\n",
    "import torch.nn as nn\n",
    "import torch.optim as optim\n",
    "from torch.utils.data import Dataset, DataLoader\n",
    "import pandas as pd\n",
    "import numpy as np\n",
    "from sklearn.model_selection import train_test_split\n",
    "from tqdm import tqdm\n",
    "from collections import Counter, defaultdict\n",
    "from rich import print\n",
    "from sklearn.metrics import precision_score, recall_score, mean_absolute_error\n"
   ]
  },
  {
   "cell_type": "code",
   "execution_count": 2,
   "id": "91e2acd3-4a24-4325-bc9d-df6954ce88d1",
   "metadata": {},
   "outputs": [],
   "source": [
    "\n",
    "class BPE_Tokenization():\n",
    "    def __init__(self, data, vocab_size):\n",
    "        self.data = data\n",
    "        self.tokenized = [[],[]]\n",
    "        self.target = torch.tensor(self.data['mRNA_remaining_pct'], dtype=torch.float)\n",
    "        self.vocab_size = vocab_size\n",
    "        self.vocab_itos = ['<pad>']\n",
    "        self.vocab_stoi = {'<pad>': 0}\n",
    "        \n",
    "        \"\"\"Train BPE tokenizer.\"\"\"\n",
    "        # compute the base vocabulary of all characters in the corpus\n",
    "        for seq in self.data['siRNA_antisense_seq']:\n",
    "            seq = seq.upper()\n",
    "            temp_tokens = []\n",
    "            for letter in seq:\n",
    "                if letter not in self.vocab_stoi.keys():\n",
    "                    self.vocab_itos.append(letter)\n",
    "                    self.vocab_stoi[letter] = len(self.vocab_stoi)\n",
    "                temp_tokens.append(self.vocab_stoi[letter])\n",
    "            self.tokenized[0].append(temp_tokens)\n",
    "        \n",
    "        for seq in self.data['modified_siRNA_antisense_seq_list']:\n",
    "            temp_tokens = []\n",
    "            for token in seq.split():\n",
    "                if token not in self.vocab_stoi.keys():\n",
    "                    self.vocab_itos.append(token)\n",
    "                    self.vocab_stoi[token] = len(self.vocab_stoi)\n",
    "                temp_tokens.append(self.vocab_stoi[token])\n",
    "            self.tokenized[1].append(temp_tokens)\n",
    "        \n",
    "        # merge the most frequent pair iteratively until the vocabulary size is reached\n",
    "        while len(self.vocab_stoi) < self.vocab_size:\n",
    "            # compute the frequency of each pair\n",
    "            most_common_pair = self.compute_pair_freqs()\n",
    "            new_token = len(self.vocab_itos)\n",
    "            most_common_pair_text = self.vocab_itos[most_common_pair[0]] + self.vocab_itos[most_common_pair[1]]\n",
    "            self.vocab_itos.append( most_common_pair_text )\n",
    "            self.vocab_stoi[most_common_pair_text] = new_token\n",
    "            self.merge_pair(most_common_pair, new_token)\n",
    "\n",
    "        # Padding\n",
    "        self.max_len = 0\n",
    "        for k in range(2):\n",
    "            for i in range(len(self.tokenized[k])):\n",
    "                self.max_len = max(self.max_len, len(self.tokenized[k][i]))\n",
    "        for k in range(2):\n",
    "            for i in range(len(self.tokenized[k])):\n",
    "                self.tokenized[k][i].extend([0]*(self.max_len-len(self.tokenized[k][i])))\n",
    "        self.tokenized = torch.tensor(self.tokenized, dtype=torch.int)\n",
    "    \n",
    "    def compute_pair_freqs(self):\n",
    "        \"\"\"Compute the frequency of each pair.\"\"\"\n",
    "        pair_freqs = {}\n",
    "        for i in range(len(self.tokenized[0])):\n",
    "            for j in range(len(self.tokenized[0][i])-1):\n",
    "                temp = (self.tokenized[0][i][j], self.tokenized[0][i][j+1])\n",
    "                pair_freqs[temp] = pair_freqs.get(temp, 0) + 1\n",
    "        ########\n",
    "        most_common_pair = Counter(pair_freqs).most_common(1)[0][0]\n",
    "        return(most_common_pair)\n",
    "    \n",
    "    def merge_pair(self, most_common_pair, new_token):\n",
    "        \"\"\"Merge the given pair.\"\"\"\n",
    "        for i in range(len(self.tokenized[0])):\n",
    "            j = 0\n",
    "            while j < len(self.tokenized[0][i])-1:\n",
    "                temp = (self.tokenized[0][i][j], self.tokenized[0][i][j+1])\n",
    "                if temp == most_common_pair:\n",
    "                    self.tokenized[0][i].pop(j)\n",
    "                    self.tokenized[0][i][j] = new_token\n",
    "                j = j+1\n",
    "\n",
    "    def get_dataframe(self):\n",
    "        retval = pd.DataFrame(\n",
    "            {\n",
    "                'siRNA_antisense_seq_encoded': self.tokenized[0],\n",
    "                'modified_siRNA_antisense_seq_list_encoded': self.tokenized[1],\n",
    "                'mRNA_remaining_pct': self.target\n",
    "            }\n",
    "        )\n",
    "        return(retval)\n",
    "\n",
    "\n",
    "class SiRNADataset(Dataset):\n",
    "    def __init__(self, df_tokenized_0, df_tokenized_1, df_target):\n",
    "        self.df_tokenized_0 = df_tokenized_0\n",
    "        self.df_tokenized_1 = df_tokenized_1\n",
    "        self.df_target = df_target\n",
    "    \n",
    "    def __len__(self):\n",
    "        return len(self.df_target)\n",
    "    \n",
    "    def __getitem__(self, idx):\n",
    "        seqs = [self.df_tokenized_0[idx], self.df_tokenized_1[idx]]\n",
    "        return seqs, self.df_target[idx]\n",
    "    \n",
    "\n",
    "\n",
    "class SiRNAModel(nn.Module):\n",
    "    def __init__(self, vocab_size, embed_dim=200, hidden_dim=256, n_layers=3, dropout=0.5):\n",
    "        super(SiRNAModel, self).__init__()\n",
    "        \n",
    "        self.embedding = nn.Embedding(vocab_size, embed_dim, padding_idx=0)\n",
    "        self.gru = nn.GRU(embed_dim, hidden_dim, n_layers, bidirectional=True, batch_first=True, dropout=dropout)\n",
    "        self.fc = nn.Linear(hidden_dim * 4, 1) # Bi-direactional and two feature columns\n",
    "        self.dropout = nn.Dropout(dropout)\n",
    "    \n",
    "    def forward(self, x):\n",
    "        embedded = [self.embedding(seq) for seq in x]\n",
    "        outputs = []\n",
    "        for embed in embedded:\n",
    "            x, _ = self.gru(embed)\n",
    "            x = self.dropout(x[:, -1, :])  # Use last hidden state\n",
    "            outputs.append(x)\n",
    "        \n",
    "        x = torch.cat(outputs, dim=1)\n",
    "        x = self.fc(x)\n",
    "        return x.squeeze()\n",
    "\n",
    "\n",
    "def calculate_metrics(y_true, y_pred, threshold=30):\n",
    "    mae = np.mean(np.abs(y_true - y_pred))\n",
    "\n",
    "    y_true_binary = (y_true < threshold).astype(int)\n",
    "    y_pred_binary = (y_pred < threshold).astype(int)\n",
    "\n",
    "    mask = (y_pred >= 0) & (y_pred <= threshold)\n",
    "    range_mae = mean_absolute_error(y_true[mask], y_pred[mask]) if mask.sum() > 0 else 100\n",
    "\n",
    "    precision = precision_score(y_true_binary, y_pred_binary, average='binary')\n",
    "    recall = recall_score(y_true_binary, y_pred_binary, average='binary')\n",
    "    f1 = 2 * precision * recall / (precision + recall)\n",
    "    score = (1 - mae / 100) * 0.5 + (1 - range_mae / 100) * f1 * 0.5\n",
    "    return score\n",
    "\n",
    "\n",
    "\n",
    "def train_model(model, train_loader, val_loader, criterion, optimizer, num_epochs=50, device='cuda'):\n",
    "    model.to(device)\n",
    "    best_score = -float('inf')\n",
    "    best_model = None\n",
    "\n",
    "    for epoch in range(num_epochs):\n",
    "        model.train()\n",
    "        train_loss = 0\n",
    "        for inputs, targets in tqdm(train_loader, desc=f'Epoch {epoch+1}/{num_epochs}'):\n",
    "            inputs = [x.to(device) for x in inputs]\n",
    "            targets = targets.to(device)\n",
    "            \n",
    "            optimizer.zero_grad()\n",
    "            outputs = model(inputs)\n",
    "            loss = criterion(outputs, targets)\n",
    "            loss.backward()\n",
    "            optimizer.step()\n",
    "            \n",
    "            train_loss += loss.item()\n",
    "        \n",
    "        model.eval()\n",
    "        val_loss = 0\n",
    "        val_preds = []\n",
    "        val_targets = []\n",
    "\n",
    "        with torch.no_grad():\n",
    "            for inputs, targets in val_loader:\n",
    "                inputs = [x.to(device) for x in inputs]\n",
    "                targets = targets.to(device)\n",
    "                outputs = model(inputs)\n",
    "                loss = criterion(outputs, targets)\n",
    "                val_loss += loss.item()\n",
    "                val_preds.extend(outputs.cpu().numpy())\n",
    "                val_targets.extend(targets.cpu().numpy())\n",
    "        \n",
    "        train_loss /= len(train_loader)\n",
    "        val_loss /= len(val_loader)\n",
    "        \n",
    "        val_preds = np.array(val_preds)\n",
    "        val_targets = np.array(val_targets)\n",
    "        score = calculate_metrics(val_targets, val_preds)\n",
    "        \n",
    "        print(f'Epoch {epoch+1}/{num_epochs}')\n",
    "        print(f'Train Loss: {train_loss:.4f}, Val Loss: {val_loss:.4f}')\n",
    "        print(f'Learning Rate: {optimizer.param_groups[0][\"lr\"]:.6f}')\n",
    "        print(f'Validation Score: {score:.4f}')\n",
    "\n",
    "        if score > best_score:\n",
    "            best_score = score\n",
    "            best_model = model.state_dict().copy()\n",
    "            print(f'New best model found with socre: {best_score:.4f}')\n",
    "\n",
    "    return best_model\n",
    "\n",
    "def evaluate_model(model, test_loader, device='cuda'):\n",
    "    model.eval()\n",
    "    predictions = []\n",
    "    targets = []\n",
    "    \n",
    "    with torch.no_grad():\n",
    "        for inputs, target in test_loader:\n",
    "            inputs = [x.to(device) for x in inputs]\n",
    "            outputs = model(inputs)\n",
    "            predictions.extend(outputs.cpu().numpy())\n",
    "            targets.extend(target.numpy())\n",
    "\n",
    "    y_pred = np.array(predictions)\n",
    "    y_test = np.array(targets)\n",
    "    \n",
    "    score = calculate_metrics(y_test, y_pred)\n",
    "    print(f\"Test Score: {score:.4f}\")\n",
    "\n",
    "\n"
   ]
  },
  {
   "cell_type": "code",
   "execution_count": 3,
   "id": "b98945a1-2f19-40ed-b8f0-c02e0ee21d22",
   "metadata": {},
   "outputs": [
    {
     "data": {
      "text/html": [
       "<pre style=\"white-space:pre;overflow-x:auto;line-height:normal;font-family:Menlo,'DejaVu Sans Mono',consolas,'Courier New',monospace\"><span style=\"color: #008080; text-decoration-color: #008080; font-weight: bold\">100</span>\n",
       "</pre>\n"
      ],
      "text/plain": [
       "\u001b[1;36m100\u001b[0m\n"
      ]
     },
     "metadata": {},
     "output_type": "display_data"
    }
   ],
   "source": [
    "device = 'cuda' if torch.cuda.is_available() else 'cpu'\n",
    "\n",
    "# Prepare dataset\n",
    "df = pd.read_csv('train_data.csv')\n",
    "\n",
    "columns = ['siRNA_antisense_seq', 'modified_siRNA_antisense_seq_list']\n",
    "df = df[columns + ['mRNA_remaining_pct']]\n",
    "df.dropna(inplace=True)\n",
    "\n",
    "df_tokenized = BPE_Tokenization(data=df, vocab_size=100)\n",
    "if len(df_tokenized.vocab_itos) == len(df_tokenized.vocab_stoi):\n",
    "    print(len(df_tokenized.vocab_itos))\n",
    "else:\n",
    "    print('Error')\n",
    "\n",
    "tokenized_0_train, tokenized_0_val, tokenized_1_train, tokenized_1_val, target_train, target_val = train_test_split(\n",
    "    df_tokenized.tokenized[0], df_tokenized.tokenized[1], df_tokenized.target,\n",
    "    test_size=0.1,\n",
    "    random_state=42\n",
    ")\n",
    "\n",
    "train_dataset = SiRNADataset(tokenized_0_train, tokenized_1_train, target_train)\n",
    "val_dataset = SiRNADataset(tokenized_0_val, tokenized_1_val, target_val)\n",
    "\n",
    "# Create data loaders\n",
    "train_loader = DataLoader(train_dataset, batch_size=32, shuffle=True)\n",
    "val_loader = DataLoader(val_dataset, batch_size=32)\n",
    "\n",
    "# Initialize model\n",
    "model = SiRNAModel(len(df_tokenized.vocab_itos))\n",
    "criterion = nn.MSELoss()\n",
    "optimizer = optim.Adam(model.parameters())\n"
   ]
  },
  {
   "cell_type": "code",
   "execution_count": null,
   "id": "bcf15a6a-2630-48b8-82c2-e276f3867d5f",
   "metadata": {},
   "outputs": [
    {
     "name": "stderr",
     "output_type": "stream",
     "text": [
      "Epoch 1/50: 100%|█████████████████████████████| 726/726 [03:57<00:00,  3.06it/s]\n"
     ]
    },
    {
     "data": {
      "text/html": [
       "<pre style=\"white-space:pre;overflow-x:auto;line-height:normal;font-family:Menlo,'DejaVu Sans Mono',consolas,'Courier New',monospace\">Epoch <span style=\"color: #008080; text-decoration-color: #008080; font-weight: bold\">1</span>/<span style=\"color: #008080; text-decoration-color: #008080; font-weight: bold\">50</span>\n",
       "</pre>\n"
      ],
      "text/plain": [
       "Epoch \u001b[1;36m1\u001b[0m/\u001b[1;36m50\u001b[0m\n"
      ]
     },
     "metadata": {},
     "output_type": "display_data"
    },
    {
     "data": {
      "text/html": [
       "<pre style=\"white-space:pre;overflow-x:auto;line-height:normal;font-family:Menlo,'DejaVu Sans Mono',consolas,'Courier New',monospace\">Train Loss: <span style=\"color: #008080; text-decoration-color: #008080; font-weight: bold\">1250.4640</span>, Val Loss: <span style=\"color: #008080; text-decoration-color: #008080; font-weight: bold\">1120.5862</span>\n",
       "</pre>\n"
      ],
      "text/plain": [
       "Train Loss: \u001b[1;36m1250.4640\u001b[0m, Val Loss: \u001b[1;36m1120.5862\u001b[0m\n"
      ]
     },
     "metadata": {},
     "output_type": "display_data"
    },
    {
     "data": {
      "text/html": [
       "<pre style=\"white-space:pre;overflow-x:auto;line-height:normal;font-family:Menlo,'DejaVu Sans Mono',consolas,'Courier New',monospace\">Learning Rate: <span style=\"color: #008080; text-decoration-color: #008080; font-weight: bold\">0.001000</span>\n",
       "</pre>\n"
      ],
      "text/plain": [
       "Learning Rate: \u001b[1;36m0.001000\u001b[0m\n"
      ]
     },
     "metadata": {},
     "output_type": "display_data"
    },
    {
     "data": {
      "text/html": [
       "<pre style=\"white-space:pre;overflow-x:auto;line-height:normal;font-family:Menlo,'DejaVu Sans Mono',consolas,'Courier New',monospace\">Validation Score: <span style=\"color: #008080; text-decoration-color: #008080; font-weight: bold\">0.3811</span>\n",
       "</pre>\n"
      ],
      "text/plain": [
       "Validation Score: \u001b[1;36m0.3811\u001b[0m\n"
      ]
     },
     "metadata": {},
     "output_type": "display_data"
    },
    {
     "data": {
      "text/html": [
       "<pre style=\"white-space:pre;overflow-x:auto;line-height:normal;font-family:Menlo,'DejaVu Sans Mono',consolas,'Courier New',monospace\">New best model found with socre: <span style=\"color: #008080; text-decoration-color: #008080; font-weight: bold\">0.3811</span>\n",
       "</pre>\n"
      ],
      "text/plain": [
       "New best model found with socre: \u001b[1;36m0.3811\u001b[0m\n"
      ]
     },
     "metadata": {},
     "output_type": "display_data"
    },
    {
     "name": "stderr",
     "output_type": "stream",
     "text": [
      "Epoch 2/50: 100%|█████████████████████████████| 726/726 [03:49<00:00,  3.16it/s]\n"
     ]
    },
    {
     "data": {
      "text/html": [
       "<pre style=\"white-space:pre;overflow-x:auto;line-height:normal;font-family:Menlo,'DejaVu Sans Mono',consolas,'Courier New',monospace\">Epoch <span style=\"color: #008080; text-decoration-color: #008080; font-weight: bold\">2</span>/<span style=\"color: #008080; text-decoration-color: #008080; font-weight: bold\">50</span>\n",
       "</pre>\n"
      ],
      "text/plain": [
       "Epoch \u001b[1;36m2\u001b[0m/\u001b[1;36m50\u001b[0m\n"
      ]
     },
     "metadata": {},
     "output_type": "display_data"
    },
    {
     "data": {
      "text/html": [
       "<pre style=\"white-space:pre;overflow-x:auto;line-height:normal;font-family:Menlo,'DejaVu Sans Mono',consolas,'Courier New',monospace\">Train Loss: <span style=\"color: #008080; text-decoration-color: #008080; font-weight: bold\">1013.1953</span>, Val Loss: <span style=\"color: #008080; text-decoration-color: #008080; font-weight: bold\">938.2241</span>\n",
       "</pre>\n"
      ],
      "text/plain": [
       "Train Loss: \u001b[1;36m1013.1953\u001b[0m, Val Loss: \u001b[1;36m938.2241\u001b[0m\n"
      ]
     },
     "metadata": {},
     "output_type": "display_data"
    },
    {
     "data": {
      "text/html": [
       "<pre style=\"white-space:pre;overflow-x:auto;line-height:normal;font-family:Menlo,'DejaVu Sans Mono',consolas,'Courier New',monospace\">Learning Rate: <span style=\"color: #008080; text-decoration-color: #008080; font-weight: bold\">0.001000</span>\n",
       "</pre>\n"
      ],
      "text/plain": [
       "Learning Rate: \u001b[1;36m0.001000\u001b[0m\n"
      ]
     },
     "metadata": {},
     "output_type": "display_data"
    },
    {
     "data": {
      "text/html": [
       "<pre style=\"white-space:pre;overflow-x:auto;line-height:normal;font-family:Menlo,'DejaVu Sans Mono',consolas,'Courier New',monospace\">Validation Score: <span style=\"color: #008080; text-decoration-color: #008080; font-weight: bold\">0.4827</span>\n",
       "</pre>\n"
      ],
      "text/plain": [
       "Validation Score: \u001b[1;36m0.4827\u001b[0m\n"
      ]
     },
     "metadata": {},
     "output_type": "display_data"
    },
    {
     "data": {
      "text/html": [
       "<pre style=\"white-space:pre;overflow-x:auto;line-height:normal;font-family:Menlo,'DejaVu Sans Mono',consolas,'Courier New',monospace\">New best model found with socre: <span style=\"color: #008080; text-decoration-color: #008080; font-weight: bold\">0.4827</span>\n",
       "</pre>\n"
      ],
      "text/plain": [
       "New best model found with socre: \u001b[1;36m0.4827\u001b[0m\n"
      ]
     },
     "metadata": {},
     "output_type": "display_data"
    },
    {
     "name": "stderr",
     "output_type": "stream",
     "text": [
      "Epoch 3/50: 100%|█████████████████████████████| 726/726 [03:37<00:00,  3.34it/s]\n"
     ]
    },
    {
     "data": {
      "text/html": [
       "<pre style=\"white-space:pre;overflow-x:auto;line-height:normal;font-family:Menlo,'DejaVu Sans Mono',consolas,'Courier New',monospace\">Epoch <span style=\"color: #008080; text-decoration-color: #008080; font-weight: bold\">3</span>/<span style=\"color: #008080; text-decoration-color: #008080; font-weight: bold\">50</span>\n",
       "</pre>\n"
      ],
      "text/plain": [
       "Epoch \u001b[1;36m3\u001b[0m/\u001b[1;36m50\u001b[0m\n"
      ]
     },
     "metadata": {},
     "output_type": "display_data"
    },
    {
     "data": {
      "text/html": [
       "<pre style=\"white-space:pre;overflow-x:auto;line-height:normal;font-family:Menlo,'DejaVu Sans Mono',consolas,'Courier New',monospace\">Train Loss: <span style=\"color: #008080; text-decoration-color: #008080; font-weight: bold\">880.0213</span>, Val Loss: <span style=\"color: #008080; text-decoration-color: #008080; font-weight: bold\">859.8064</span>\n",
       "</pre>\n"
      ],
      "text/plain": [
       "Train Loss: \u001b[1;36m880.0213\u001b[0m, Val Loss: \u001b[1;36m859.8064\u001b[0m\n"
      ]
     },
     "metadata": {},
     "output_type": "display_data"
    },
    {
     "data": {
      "text/html": [
       "<pre style=\"white-space:pre;overflow-x:auto;line-height:normal;font-family:Menlo,'DejaVu Sans Mono',consolas,'Courier New',monospace\">Learning Rate: <span style=\"color: #008080; text-decoration-color: #008080; font-weight: bold\">0.001000</span>\n",
       "</pre>\n"
      ],
      "text/plain": [
       "Learning Rate: \u001b[1;36m0.001000\u001b[0m\n"
      ]
     },
     "metadata": {},
     "output_type": "display_data"
    },
    {
     "data": {
      "text/html": [
       "<pre style=\"white-space:pre;overflow-x:auto;line-height:normal;font-family:Menlo,'DejaVu Sans Mono',consolas,'Courier New',monospace\">Validation Score: <span style=\"color: #008080; text-decoration-color: #008080; font-weight: bold\">0.5048</span>\n",
       "</pre>\n"
      ],
      "text/plain": [
       "Validation Score: \u001b[1;36m0.5048\u001b[0m\n"
      ]
     },
     "metadata": {},
     "output_type": "display_data"
    },
    {
     "data": {
      "text/html": [
       "<pre style=\"white-space:pre;overflow-x:auto;line-height:normal;font-family:Menlo,'DejaVu Sans Mono',consolas,'Courier New',monospace\">New best model found with socre: <span style=\"color: #008080; text-decoration-color: #008080; font-weight: bold\">0.5048</span>\n",
       "</pre>\n"
      ],
      "text/plain": [
       "New best model found with socre: \u001b[1;36m0.5048\u001b[0m\n"
      ]
     },
     "metadata": {},
     "output_type": "display_data"
    },
    {
     "name": "stderr",
     "output_type": "stream",
     "text": [
      "Epoch 4/50: 100%|█████████████████████████████| 726/726 [03:35<00:00,  3.36it/s]\n"
     ]
    },
    {
     "data": {
      "text/html": [
       "<pre style=\"white-space:pre;overflow-x:auto;line-height:normal;font-family:Menlo,'DejaVu Sans Mono',consolas,'Courier New',monospace\">Epoch <span style=\"color: #008080; text-decoration-color: #008080; font-weight: bold\">4</span>/<span style=\"color: #008080; text-decoration-color: #008080; font-weight: bold\">50</span>\n",
       "</pre>\n"
      ],
      "text/plain": [
       "Epoch \u001b[1;36m4\u001b[0m/\u001b[1;36m50\u001b[0m\n"
      ]
     },
     "metadata": {},
     "output_type": "display_data"
    },
    {
     "data": {
      "text/html": [
       "<pre style=\"white-space:pre;overflow-x:auto;line-height:normal;font-family:Menlo,'DejaVu Sans Mono',consolas,'Courier New',monospace\">Train Loss: <span style=\"color: #008080; text-decoration-color: #008080; font-weight: bold\">790.0681</span>, Val Loss: <span style=\"color: #008080; text-decoration-color: #008080; font-weight: bold\">814.8694</span>\n",
       "</pre>\n"
      ],
      "text/plain": [
       "Train Loss: \u001b[1;36m790.0681\u001b[0m, Val Loss: \u001b[1;36m814.8694\u001b[0m\n"
      ]
     },
     "metadata": {},
     "output_type": "display_data"
    },
    {
     "data": {
      "text/html": [
       "<pre style=\"white-space:pre;overflow-x:auto;line-height:normal;font-family:Menlo,'DejaVu Sans Mono',consolas,'Courier New',monospace\">Learning Rate: <span style=\"color: #008080; text-decoration-color: #008080; font-weight: bold\">0.001000</span>\n",
       "</pre>\n"
      ],
      "text/plain": [
       "Learning Rate: \u001b[1;36m0.001000\u001b[0m\n"
      ]
     },
     "metadata": {},
     "output_type": "display_data"
    },
    {
     "data": {
      "text/html": [
       "<pre style=\"white-space:pre;overflow-x:auto;line-height:normal;font-family:Menlo,'DejaVu Sans Mono',consolas,'Courier New',monospace\">Validation Score: <span style=\"color: #008080; text-decoration-color: #008080; font-weight: bold\">0.5231</span>\n",
       "</pre>\n"
      ],
      "text/plain": [
       "Validation Score: \u001b[1;36m0.5231\u001b[0m\n"
      ]
     },
     "metadata": {},
     "output_type": "display_data"
    },
    {
     "data": {
      "text/html": [
       "<pre style=\"white-space:pre;overflow-x:auto;line-height:normal;font-family:Menlo,'DejaVu Sans Mono',consolas,'Courier New',monospace\">New best model found with socre: <span style=\"color: #008080; text-decoration-color: #008080; font-weight: bold\">0.5231</span>\n",
       "</pre>\n"
      ],
      "text/plain": [
       "New best model found with socre: \u001b[1;36m0.5231\u001b[0m\n"
      ]
     },
     "metadata": {},
     "output_type": "display_data"
    },
    {
     "name": "stderr",
     "output_type": "stream",
     "text": [
      "Epoch 5/50: 100%|█████████████████████████████| 726/726 [03:38<00:00,  3.32it/s]\n"
     ]
    },
    {
     "data": {
      "text/html": [
       "<pre style=\"white-space:pre;overflow-x:auto;line-height:normal;font-family:Menlo,'DejaVu Sans Mono',consolas,'Courier New',monospace\">Epoch <span style=\"color: #008080; text-decoration-color: #008080; font-weight: bold\">5</span>/<span style=\"color: #008080; text-decoration-color: #008080; font-weight: bold\">50</span>\n",
       "</pre>\n"
      ],
      "text/plain": [
       "Epoch \u001b[1;36m5\u001b[0m/\u001b[1;36m50\u001b[0m\n"
      ]
     },
     "metadata": {},
     "output_type": "display_data"
    },
    {
     "data": {
      "text/html": [
       "<pre style=\"white-space:pre;overflow-x:auto;line-height:normal;font-family:Menlo,'DejaVu Sans Mono',consolas,'Courier New',monospace\">Train Loss: <span style=\"color: #008080; text-decoration-color: #008080; font-weight: bold\">736.0758</span>, Val Loss: <span style=\"color: #008080; text-decoration-color: #008080; font-weight: bold\">781.2719</span>\n",
       "</pre>\n"
      ],
      "text/plain": [
       "Train Loss: \u001b[1;36m736.0758\u001b[0m, Val Loss: \u001b[1;36m781.2719\u001b[0m\n"
      ]
     },
     "metadata": {},
     "output_type": "display_data"
    },
    {
     "data": {
      "text/html": [
       "<pre style=\"white-space:pre;overflow-x:auto;line-height:normal;font-family:Menlo,'DejaVu Sans Mono',consolas,'Courier New',monospace\">Learning Rate: <span style=\"color: #008080; text-decoration-color: #008080; font-weight: bold\">0.001000</span>\n",
       "</pre>\n"
      ],
      "text/plain": [
       "Learning Rate: \u001b[1;36m0.001000\u001b[0m\n"
      ]
     },
     "metadata": {},
     "output_type": "display_data"
    },
    {
     "data": {
      "text/html": [
       "<pre style=\"white-space:pre;overflow-x:auto;line-height:normal;font-family:Menlo,'DejaVu Sans Mono',consolas,'Courier New',monospace\">Validation Score: <span style=\"color: #008080; text-decoration-color: #008080; font-weight: bold\">0.5537</span>\n",
       "</pre>\n"
      ],
      "text/plain": [
       "Validation Score: \u001b[1;36m0.5537\u001b[0m\n"
      ]
     },
     "metadata": {},
     "output_type": "display_data"
    },
    {
     "data": {
      "text/html": [
       "<pre style=\"white-space:pre;overflow-x:auto;line-height:normal;font-family:Menlo,'DejaVu Sans Mono',consolas,'Courier New',monospace\">New best model found with socre: <span style=\"color: #008080; text-decoration-color: #008080; font-weight: bold\">0.5537</span>\n",
       "</pre>\n"
      ],
      "text/plain": [
       "New best model found with socre: \u001b[1;36m0.5537\u001b[0m\n"
      ]
     },
     "metadata": {},
     "output_type": "display_data"
    },
    {
     "name": "stderr",
     "output_type": "stream",
     "text": [
      "Epoch 6/50: 100%|█████████████████████████████| 726/726 [03:39<00:00,  3.31it/s]\n"
     ]
    },
    {
     "data": {
      "text/html": [
       "<pre style=\"white-space:pre;overflow-x:auto;line-height:normal;font-family:Menlo,'DejaVu Sans Mono',consolas,'Courier New',monospace\">Epoch <span style=\"color: #008080; text-decoration-color: #008080; font-weight: bold\">6</span>/<span style=\"color: #008080; text-decoration-color: #008080; font-weight: bold\">50</span>\n",
       "</pre>\n"
      ],
      "text/plain": [
       "Epoch \u001b[1;36m6\u001b[0m/\u001b[1;36m50\u001b[0m\n"
      ]
     },
     "metadata": {},
     "output_type": "display_data"
    },
    {
     "data": {
      "text/html": [
       "<pre style=\"white-space:pre;overflow-x:auto;line-height:normal;font-family:Menlo,'DejaVu Sans Mono',consolas,'Courier New',monospace\">Train Loss: <span style=\"color: #008080; text-decoration-color: #008080; font-weight: bold\">695.9723</span>, Val Loss: <span style=\"color: #008080; text-decoration-color: #008080; font-weight: bold\">768.3514</span>\n",
       "</pre>\n"
      ],
      "text/plain": [
       "Train Loss: \u001b[1;36m695.9723\u001b[0m, Val Loss: \u001b[1;36m768.3514\u001b[0m\n"
      ]
     },
     "metadata": {},
     "output_type": "display_data"
    },
    {
     "data": {
      "text/html": [
       "<pre style=\"white-space:pre;overflow-x:auto;line-height:normal;font-family:Menlo,'DejaVu Sans Mono',consolas,'Courier New',monospace\">Learning Rate: <span style=\"color: #008080; text-decoration-color: #008080; font-weight: bold\">0.001000</span>\n",
       "</pre>\n"
      ],
      "text/plain": [
       "Learning Rate: \u001b[1;36m0.001000\u001b[0m\n"
      ]
     },
     "metadata": {},
     "output_type": "display_data"
    },
    {
     "data": {
      "text/html": [
       "<pre style=\"white-space:pre;overflow-x:auto;line-height:normal;font-family:Menlo,'DejaVu Sans Mono',consolas,'Courier New',monospace\">Validation Score: <span style=\"color: #008080; text-decoration-color: #008080; font-weight: bold\">0.5995</span>\n",
       "</pre>\n"
      ],
      "text/plain": [
       "Validation Score: \u001b[1;36m0.5995\u001b[0m\n"
      ]
     },
     "metadata": {},
     "output_type": "display_data"
    },
    {
     "data": {
      "text/html": [
       "<pre style=\"white-space:pre;overflow-x:auto;line-height:normal;font-family:Menlo,'DejaVu Sans Mono',consolas,'Courier New',monospace\">New best model found with socre: <span style=\"color: #008080; text-decoration-color: #008080; font-weight: bold\">0.5995</span>\n",
       "</pre>\n"
      ],
      "text/plain": [
       "New best model found with socre: \u001b[1;36m0.5995\u001b[0m\n"
      ]
     },
     "metadata": {},
     "output_type": "display_data"
    },
    {
     "name": "stderr",
     "output_type": "stream",
     "text": [
      "Epoch 7/50: 100%|█████████████████████████████| 726/726 [03:42<00:00,  3.26it/s]\n"
     ]
    },
    {
     "data": {
      "text/html": [
       "<pre style=\"white-space:pre;overflow-x:auto;line-height:normal;font-family:Menlo,'DejaVu Sans Mono',consolas,'Courier New',monospace\">Epoch <span style=\"color: #008080; text-decoration-color: #008080; font-weight: bold\">7</span>/<span style=\"color: #008080; text-decoration-color: #008080; font-weight: bold\">50</span>\n",
       "</pre>\n"
      ],
      "text/plain": [
       "Epoch \u001b[1;36m7\u001b[0m/\u001b[1;36m50\u001b[0m\n"
      ]
     },
     "metadata": {},
     "output_type": "display_data"
    },
    {
     "data": {
      "text/html": [
       "<pre style=\"white-space:pre;overflow-x:auto;line-height:normal;font-family:Menlo,'DejaVu Sans Mono',consolas,'Courier New',monospace\">Train Loss: <span style=\"color: #008080; text-decoration-color: #008080; font-weight: bold\">667.2406</span>, Val Loss: <span style=\"color: #008080; text-decoration-color: #008080; font-weight: bold\">790.0043</span>\n",
       "</pre>\n"
      ],
      "text/plain": [
       "Train Loss: \u001b[1;36m667.2406\u001b[0m, Val Loss: \u001b[1;36m790.0043\u001b[0m\n"
      ]
     },
     "metadata": {},
     "output_type": "display_data"
    },
    {
     "data": {
      "text/html": [
       "<pre style=\"white-space:pre;overflow-x:auto;line-height:normal;font-family:Menlo,'DejaVu Sans Mono',consolas,'Courier New',monospace\">Learning Rate: <span style=\"color: #008080; text-decoration-color: #008080; font-weight: bold\">0.001000</span>\n",
       "</pre>\n"
      ],
      "text/plain": [
       "Learning Rate: \u001b[1;36m0.001000\u001b[0m\n"
      ]
     },
     "metadata": {},
     "output_type": "display_data"
    },
    {
     "data": {
      "text/html": [
       "<pre style=\"white-space:pre;overflow-x:auto;line-height:normal;font-family:Menlo,'DejaVu Sans Mono',consolas,'Courier New',monospace\">Validation Score: <span style=\"color: #008080; text-decoration-color: #008080; font-weight: bold\">0.6023</span>\n",
       "</pre>\n"
      ],
      "text/plain": [
       "Validation Score: \u001b[1;36m0.6023\u001b[0m\n"
      ]
     },
     "metadata": {},
     "output_type": "display_data"
    },
    {
     "data": {
      "text/html": [
       "<pre style=\"white-space:pre;overflow-x:auto;line-height:normal;font-family:Menlo,'DejaVu Sans Mono',consolas,'Courier New',monospace\">New best model found with socre: <span style=\"color: #008080; text-decoration-color: #008080; font-weight: bold\">0.6023</span>\n",
       "</pre>\n"
      ],
      "text/plain": [
       "New best model found with socre: \u001b[1;36m0.6023\u001b[0m\n"
      ]
     },
     "metadata": {},
     "output_type": "display_data"
    },
    {
     "name": "stderr",
     "output_type": "stream",
     "text": [
      "Epoch 8/50: 100%|█████████████████████████████| 726/726 [03:53<00:00,  3.10it/s]\n"
     ]
    },
    {
     "data": {
      "text/html": [
       "<pre style=\"white-space:pre;overflow-x:auto;line-height:normal;font-family:Menlo,'DejaVu Sans Mono',consolas,'Courier New',monospace\">Epoch <span style=\"color: #008080; text-decoration-color: #008080; font-weight: bold\">8</span>/<span style=\"color: #008080; text-decoration-color: #008080; font-weight: bold\">50</span>\n",
       "</pre>\n"
      ],
      "text/plain": [
       "Epoch \u001b[1;36m8\u001b[0m/\u001b[1;36m50\u001b[0m\n"
      ]
     },
     "metadata": {},
     "output_type": "display_data"
    },
    {
     "data": {
      "text/html": [
       "<pre style=\"white-space:pre;overflow-x:auto;line-height:normal;font-family:Menlo,'DejaVu Sans Mono',consolas,'Courier New',monospace\">Train Loss: <span style=\"color: #008080; text-decoration-color: #008080; font-weight: bold\">646.0084</span>, Val Loss: <span style=\"color: #008080; text-decoration-color: #008080; font-weight: bold\">765.0242</span>\n",
       "</pre>\n"
      ],
      "text/plain": [
       "Train Loss: \u001b[1;36m646.0084\u001b[0m, Val Loss: \u001b[1;36m765.0242\u001b[0m\n"
      ]
     },
     "metadata": {},
     "output_type": "display_data"
    },
    {
     "data": {
      "text/html": [
       "<pre style=\"white-space:pre;overflow-x:auto;line-height:normal;font-family:Menlo,'DejaVu Sans Mono',consolas,'Courier New',monospace\">Learning Rate: <span style=\"color: #008080; text-decoration-color: #008080; font-weight: bold\">0.001000</span>\n",
       "</pre>\n"
      ],
      "text/plain": [
       "Learning Rate: \u001b[1;36m0.001000\u001b[0m\n"
      ]
     },
     "metadata": {},
     "output_type": "display_data"
    },
    {
     "data": {
      "text/html": [
       "<pre style=\"white-space:pre;overflow-x:auto;line-height:normal;font-family:Menlo,'DejaVu Sans Mono',consolas,'Courier New',monospace\">Validation Score: <span style=\"color: #008080; text-decoration-color: #008080; font-weight: bold\">0.5948</span>\n",
       "</pre>\n"
      ],
      "text/plain": [
       "Validation Score: \u001b[1;36m0.5948\u001b[0m\n"
      ]
     },
     "metadata": {},
     "output_type": "display_data"
    },
    {
     "name": "stderr",
     "output_type": "stream",
     "text": [
      "Epoch 9/50: 100%|█████████████████████████████| 726/726 [04:03<00:00,  2.98it/s]\n"
     ]
    },
    {
     "data": {
      "text/html": [
       "<pre style=\"white-space:pre;overflow-x:auto;line-height:normal;font-family:Menlo,'DejaVu Sans Mono',consolas,'Courier New',monospace\">Epoch <span style=\"color: #008080; text-decoration-color: #008080; font-weight: bold\">9</span>/<span style=\"color: #008080; text-decoration-color: #008080; font-weight: bold\">50</span>\n",
       "</pre>\n"
      ],
      "text/plain": [
       "Epoch \u001b[1;36m9\u001b[0m/\u001b[1;36m50\u001b[0m\n"
      ]
     },
     "metadata": {},
     "output_type": "display_data"
    },
    {
     "data": {
      "text/html": [
       "<pre style=\"white-space:pre;overflow-x:auto;line-height:normal;font-family:Menlo,'DejaVu Sans Mono',consolas,'Courier New',monospace\">Train Loss: <span style=\"color: #008080; text-decoration-color: #008080; font-weight: bold\">627.9069</span>, Val Loss: <span style=\"color: #008080; text-decoration-color: #008080; font-weight: bold\">771.0825</span>\n",
       "</pre>\n"
      ],
      "text/plain": [
       "Train Loss: \u001b[1;36m627.9069\u001b[0m, Val Loss: \u001b[1;36m771.0825\u001b[0m\n"
      ]
     },
     "metadata": {},
     "output_type": "display_data"
    },
    {
     "data": {
      "text/html": [
       "<pre style=\"white-space:pre;overflow-x:auto;line-height:normal;font-family:Menlo,'DejaVu Sans Mono',consolas,'Courier New',monospace\">Learning Rate: <span style=\"color: #008080; text-decoration-color: #008080; font-weight: bold\">0.001000</span>\n",
       "</pre>\n"
      ],
      "text/plain": [
       "Learning Rate: \u001b[1;36m0.001000\u001b[0m\n"
      ]
     },
     "metadata": {},
     "output_type": "display_data"
    },
    {
     "data": {
      "text/html": [
       "<pre style=\"white-space:pre;overflow-x:auto;line-height:normal;font-family:Menlo,'DejaVu Sans Mono',consolas,'Courier New',monospace\">Validation Score: <span style=\"color: #008080; text-decoration-color: #008080; font-weight: bold\">0.6200</span>\n",
       "</pre>\n"
      ],
      "text/plain": [
       "Validation Score: \u001b[1;36m0.6200\u001b[0m\n"
      ]
     },
     "metadata": {},
     "output_type": "display_data"
    },
    {
     "data": {
      "text/html": [
       "<pre style=\"white-space:pre;overflow-x:auto;line-height:normal;font-family:Menlo,'DejaVu Sans Mono',consolas,'Courier New',monospace\">New best model found with socre: <span style=\"color: #008080; text-decoration-color: #008080; font-weight: bold\">0.6200</span>\n",
       "</pre>\n"
      ],
      "text/plain": [
       "New best model found with socre: \u001b[1;36m0.6200\u001b[0m\n"
      ]
     },
     "metadata": {},
     "output_type": "display_data"
    },
    {
     "name": "stderr",
     "output_type": "stream",
     "text": [
      "Epoch 10/50: 100%|████████████████████████████| 726/726 [04:13<00:00,  2.86it/s]\n"
     ]
    },
    {
     "data": {
      "text/html": [
       "<pre style=\"white-space:pre;overflow-x:auto;line-height:normal;font-family:Menlo,'DejaVu Sans Mono',consolas,'Courier New',monospace\">Epoch <span style=\"color: #008080; text-decoration-color: #008080; font-weight: bold\">10</span>/<span style=\"color: #008080; text-decoration-color: #008080; font-weight: bold\">50</span>\n",
       "</pre>\n"
      ],
      "text/plain": [
       "Epoch \u001b[1;36m10\u001b[0m/\u001b[1;36m50\u001b[0m\n"
      ]
     },
     "metadata": {},
     "output_type": "display_data"
    },
    {
     "data": {
      "text/html": [
       "<pre style=\"white-space:pre;overflow-x:auto;line-height:normal;font-family:Menlo,'DejaVu Sans Mono',consolas,'Courier New',monospace\">Train Loss: <span style=\"color: #008080; text-decoration-color: #008080; font-weight: bold\">615.6114</span>, Val Loss: <span style=\"color: #008080; text-decoration-color: #008080; font-weight: bold\">757.6465</span>\n",
       "</pre>\n"
      ],
      "text/plain": [
       "Train Loss: \u001b[1;36m615.6114\u001b[0m, Val Loss: \u001b[1;36m757.6465\u001b[0m\n"
      ]
     },
     "metadata": {},
     "output_type": "display_data"
    },
    {
     "data": {
      "text/html": [
       "<pre style=\"white-space:pre;overflow-x:auto;line-height:normal;font-family:Menlo,'DejaVu Sans Mono',consolas,'Courier New',monospace\">Learning Rate: <span style=\"color: #008080; text-decoration-color: #008080; font-weight: bold\">0.001000</span>\n",
       "</pre>\n"
      ],
      "text/plain": [
       "Learning Rate: \u001b[1;36m0.001000\u001b[0m\n"
      ]
     },
     "metadata": {},
     "output_type": "display_data"
    },
    {
     "data": {
      "text/html": [
       "<pre style=\"white-space:pre;overflow-x:auto;line-height:normal;font-family:Menlo,'DejaVu Sans Mono',consolas,'Courier New',monospace\">Validation Score: <span style=\"color: #008080; text-decoration-color: #008080; font-weight: bold\">0.5897</span>\n",
       "</pre>\n"
      ],
      "text/plain": [
       "Validation Score: \u001b[1;36m0.5897\u001b[0m\n"
      ]
     },
     "metadata": {},
     "output_type": "display_data"
    },
    {
     "name": "stderr",
     "output_type": "stream",
     "text": [
      "Epoch 11/50: 100%|████████████████████████████| 726/726 [03:57<00:00,  3.06it/s]\n"
     ]
    },
    {
     "data": {
      "text/html": [
       "<pre style=\"white-space:pre;overflow-x:auto;line-height:normal;font-family:Menlo,'DejaVu Sans Mono',consolas,'Courier New',monospace\">Epoch <span style=\"color: #008080; text-decoration-color: #008080; font-weight: bold\">11</span>/<span style=\"color: #008080; text-decoration-color: #008080; font-weight: bold\">50</span>\n",
       "</pre>\n"
      ],
      "text/plain": [
       "Epoch \u001b[1;36m11\u001b[0m/\u001b[1;36m50\u001b[0m\n"
      ]
     },
     "metadata": {},
     "output_type": "display_data"
    },
    {
     "data": {
      "text/html": [
       "<pre style=\"white-space:pre;overflow-x:auto;line-height:normal;font-family:Menlo,'DejaVu Sans Mono',consolas,'Courier New',monospace\">Train Loss: <span style=\"color: #008080; text-decoration-color: #008080; font-weight: bold\">607.6894</span>, Val Loss: <span style=\"color: #008080; text-decoration-color: #008080; font-weight: bold\">776.1566</span>\n",
       "</pre>\n"
      ],
      "text/plain": [
       "Train Loss: \u001b[1;36m607.6894\u001b[0m, Val Loss: \u001b[1;36m776.1566\u001b[0m\n"
      ]
     },
     "metadata": {},
     "output_type": "display_data"
    },
    {
     "data": {
      "text/html": [
       "<pre style=\"white-space:pre;overflow-x:auto;line-height:normal;font-family:Menlo,'DejaVu Sans Mono',consolas,'Courier New',monospace\">Learning Rate: <span style=\"color: #008080; text-decoration-color: #008080; font-weight: bold\">0.001000</span>\n",
       "</pre>\n"
      ],
      "text/plain": [
       "Learning Rate: \u001b[1;36m0.001000\u001b[0m\n"
      ]
     },
     "metadata": {},
     "output_type": "display_data"
    },
    {
     "data": {
      "text/html": [
       "<pre style=\"white-space:pre;overflow-x:auto;line-height:normal;font-family:Menlo,'DejaVu Sans Mono',consolas,'Courier New',monospace\">Validation Score: <span style=\"color: #008080; text-decoration-color: #008080; font-weight: bold\">0.6302</span>\n",
       "</pre>\n"
      ],
      "text/plain": [
       "Validation Score: \u001b[1;36m0.6302\u001b[0m\n"
      ]
     },
     "metadata": {},
     "output_type": "display_data"
    },
    {
     "data": {
      "text/html": [
       "<pre style=\"white-space:pre;overflow-x:auto;line-height:normal;font-family:Menlo,'DejaVu Sans Mono',consolas,'Courier New',monospace\">New best model found with socre: <span style=\"color: #008080; text-decoration-color: #008080; font-weight: bold\">0.6302</span>\n",
       "</pre>\n"
      ],
      "text/plain": [
       "New best model found with socre: \u001b[1;36m0.6302\u001b[0m\n"
      ]
     },
     "metadata": {},
     "output_type": "display_data"
    },
    {
     "name": "stderr",
     "output_type": "stream",
     "text": [
      "Epoch 12/50: 100%|████████████████████████████| 726/726 [03:56<00:00,  3.07it/s]\n"
     ]
    },
    {
     "data": {
      "text/html": [
       "<pre style=\"white-space:pre;overflow-x:auto;line-height:normal;font-family:Menlo,'DejaVu Sans Mono',consolas,'Courier New',monospace\">Epoch <span style=\"color: #008080; text-decoration-color: #008080; font-weight: bold\">12</span>/<span style=\"color: #008080; text-decoration-color: #008080; font-weight: bold\">50</span>\n",
       "</pre>\n"
      ],
      "text/plain": [
       "Epoch \u001b[1;36m12\u001b[0m/\u001b[1;36m50\u001b[0m\n"
      ]
     },
     "metadata": {},
     "output_type": "display_data"
    },
    {
     "data": {
      "text/html": [
       "<pre style=\"white-space:pre;overflow-x:auto;line-height:normal;font-family:Menlo,'DejaVu Sans Mono',consolas,'Courier New',monospace\">Train Loss: <span style=\"color: #008080; text-decoration-color: #008080; font-weight: bold\">597.8712</span>, Val Loss: <span style=\"color: #008080; text-decoration-color: #008080; font-weight: bold\">762.0312</span>\n",
       "</pre>\n"
      ],
      "text/plain": [
       "Train Loss: \u001b[1;36m597.8712\u001b[0m, Val Loss: \u001b[1;36m762.0312\u001b[0m\n"
      ]
     },
     "metadata": {},
     "output_type": "display_data"
    },
    {
     "data": {
      "text/html": [
       "<pre style=\"white-space:pre;overflow-x:auto;line-height:normal;font-family:Menlo,'DejaVu Sans Mono',consolas,'Courier New',monospace\">Learning Rate: <span style=\"color: #008080; text-decoration-color: #008080; font-weight: bold\">0.001000</span>\n",
       "</pre>\n"
      ],
      "text/plain": [
       "Learning Rate: \u001b[1;36m0.001000\u001b[0m\n"
      ]
     },
     "metadata": {},
     "output_type": "display_data"
    },
    {
     "data": {
      "text/html": [
       "<pre style=\"white-space:pre;overflow-x:auto;line-height:normal;font-family:Menlo,'DejaVu Sans Mono',consolas,'Courier New',monospace\">Validation Score: <span style=\"color: #008080; text-decoration-color: #008080; font-weight: bold\">0.6169</span>\n",
       "</pre>\n"
      ],
      "text/plain": [
       "Validation Score: \u001b[1;36m0.6169\u001b[0m\n"
      ]
     },
     "metadata": {},
     "output_type": "display_data"
    },
    {
     "name": "stderr",
     "output_type": "stream",
     "text": [
      "Epoch 13/50: 100%|████████████████████████████| 726/726 [04:02<00:00,  3.00it/s]\n"
     ]
    },
    {
     "data": {
      "text/html": [
       "<pre style=\"white-space:pre;overflow-x:auto;line-height:normal;font-family:Menlo,'DejaVu Sans Mono',consolas,'Courier New',monospace\">Epoch <span style=\"color: #008080; text-decoration-color: #008080; font-weight: bold\">13</span>/<span style=\"color: #008080; text-decoration-color: #008080; font-weight: bold\">50</span>\n",
       "</pre>\n"
      ],
      "text/plain": [
       "Epoch \u001b[1;36m13\u001b[0m/\u001b[1;36m50\u001b[0m\n"
      ]
     },
     "metadata": {},
     "output_type": "display_data"
    },
    {
     "data": {
      "text/html": [
       "<pre style=\"white-space:pre;overflow-x:auto;line-height:normal;font-family:Menlo,'DejaVu Sans Mono',consolas,'Courier New',monospace\">Train Loss: <span style=\"color: #008080; text-decoration-color: #008080; font-weight: bold\">595.7244</span>, Val Loss: <span style=\"color: #008080; text-decoration-color: #008080; font-weight: bold\">751.8946</span>\n",
       "</pre>\n"
      ],
      "text/plain": [
       "Train Loss: \u001b[1;36m595.7244\u001b[0m, Val Loss: \u001b[1;36m751.8946\u001b[0m\n"
      ]
     },
     "metadata": {},
     "output_type": "display_data"
    },
    {
     "data": {
      "text/html": [
       "<pre style=\"white-space:pre;overflow-x:auto;line-height:normal;font-family:Menlo,'DejaVu Sans Mono',consolas,'Courier New',monospace\">Learning Rate: <span style=\"color: #008080; text-decoration-color: #008080; font-weight: bold\">0.001000</span>\n",
       "</pre>\n"
      ],
      "text/plain": [
       "Learning Rate: \u001b[1;36m0.001000\u001b[0m\n"
      ]
     },
     "metadata": {},
     "output_type": "display_data"
    },
    {
     "data": {
      "text/html": [
       "<pre style=\"white-space:pre;overflow-x:auto;line-height:normal;font-family:Menlo,'DejaVu Sans Mono',consolas,'Courier New',monospace\">Validation Score: <span style=\"color: #008080; text-decoration-color: #008080; font-weight: bold\">0.6062</span>\n",
       "</pre>\n"
      ],
      "text/plain": [
       "Validation Score: \u001b[1;36m0.6062\u001b[0m\n"
      ]
     },
     "metadata": {},
     "output_type": "display_data"
    },
    {
     "name": "stderr",
     "output_type": "stream",
     "text": [
      "Epoch 14/50: 100%|████████████████████████████| 726/726 [03:25<00:00,  3.54it/s]\n"
     ]
    },
    {
     "data": {
      "text/html": [
       "<pre style=\"white-space:pre;overflow-x:auto;line-height:normal;font-family:Menlo,'DejaVu Sans Mono',consolas,'Courier New',monospace\">Epoch <span style=\"color: #008080; text-decoration-color: #008080; font-weight: bold\">14</span>/<span style=\"color: #008080; text-decoration-color: #008080; font-weight: bold\">50</span>\n",
       "</pre>\n"
      ],
      "text/plain": [
       "Epoch \u001b[1;36m14\u001b[0m/\u001b[1;36m50\u001b[0m\n"
      ]
     },
     "metadata": {},
     "output_type": "display_data"
    },
    {
     "data": {
      "text/html": [
       "<pre style=\"white-space:pre;overflow-x:auto;line-height:normal;font-family:Menlo,'DejaVu Sans Mono',consolas,'Courier New',monospace\">Train Loss: <span style=\"color: #008080; text-decoration-color: #008080; font-weight: bold\">588.2573</span>, Val Loss: <span style=\"color: #008080; text-decoration-color: #008080; font-weight: bold\">768.9801</span>\n",
       "</pre>\n"
      ],
      "text/plain": [
       "Train Loss: \u001b[1;36m588.2573\u001b[0m, Val Loss: \u001b[1;36m768.9801\u001b[0m\n"
      ]
     },
     "metadata": {},
     "output_type": "display_data"
    },
    {
     "data": {
      "text/html": [
       "<pre style=\"white-space:pre;overflow-x:auto;line-height:normal;font-family:Menlo,'DejaVu Sans Mono',consolas,'Courier New',monospace\">Learning Rate: <span style=\"color: #008080; text-decoration-color: #008080; font-weight: bold\">0.001000</span>\n",
       "</pre>\n"
      ],
      "text/plain": [
       "Learning Rate: \u001b[1;36m0.001000\u001b[0m\n"
      ]
     },
     "metadata": {},
     "output_type": "display_data"
    },
    {
     "data": {
      "text/html": [
       "<pre style=\"white-space:pre;overflow-x:auto;line-height:normal;font-family:Menlo,'DejaVu Sans Mono',consolas,'Courier New',monospace\">Validation Score: <span style=\"color: #008080; text-decoration-color: #008080; font-weight: bold\">0.6095</span>\n",
       "</pre>\n"
      ],
      "text/plain": [
       "Validation Score: \u001b[1;36m0.6095\u001b[0m\n"
      ]
     },
     "metadata": {},
     "output_type": "display_data"
    },
    {
     "name": "stderr",
     "output_type": "stream",
     "text": [
      "Epoch 15/50: 100%|████████████████████████████| 726/726 [03:55<00:00,  3.09it/s]\n"
     ]
    },
    {
     "data": {
      "text/html": [
       "<pre style=\"white-space:pre;overflow-x:auto;line-height:normal;font-family:Menlo,'DejaVu Sans Mono',consolas,'Courier New',monospace\">Epoch <span style=\"color: #008080; text-decoration-color: #008080; font-weight: bold\">15</span>/<span style=\"color: #008080; text-decoration-color: #008080; font-weight: bold\">50</span>\n",
       "</pre>\n"
      ],
      "text/plain": [
       "Epoch \u001b[1;36m15\u001b[0m/\u001b[1;36m50\u001b[0m\n"
      ]
     },
     "metadata": {},
     "output_type": "display_data"
    },
    {
     "data": {
      "text/html": [
       "<pre style=\"white-space:pre;overflow-x:auto;line-height:normal;font-family:Menlo,'DejaVu Sans Mono',consolas,'Courier New',monospace\">Train Loss: <span style=\"color: #008080; text-decoration-color: #008080; font-weight: bold\">584.8397</span>, Val Loss: <span style=\"color: #008080; text-decoration-color: #008080; font-weight: bold\">780.4728</span>\n",
       "</pre>\n"
      ],
      "text/plain": [
       "Train Loss: \u001b[1;36m584.8397\u001b[0m, Val Loss: \u001b[1;36m780.4728\u001b[0m\n"
      ]
     },
     "metadata": {},
     "output_type": "display_data"
    },
    {
     "data": {
      "text/html": [
       "<pre style=\"white-space:pre;overflow-x:auto;line-height:normal;font-family:Menlo,'DejaVu Sans Mono',consolas,'Courier New',monospace\">Learning Rate: <span style=\"color: #008080; text-decoration-color: #008080; font-weight: bold\">0.001000</span>\n",
       "</pre>\n"
      ],
      "text/plain": [
       "Learning Rate: \u001b[1;36m0.001000\u001b[0m\n"
      ]
     },
     "metadata": {},
     "output_type": "display_data"
    },
    {
     "data": {
      "text/html": [
       "<pre style=\"white-space:pre;overflow-x:auto;line-height:normal;font-family:Menlo,'DejaVu Sans Mono',consolas,'Courier New',monospace\">Validation Score: <span style=\"color: #008080; text-decoration-color: #008080; font-weight: bold\">0.6250</span>\n",
       "</pre>\n"
      ],
      "text/plain": [
       "Validation Score: \u001b[1;36m0.6250\u001b[0m\n"
      ]
     },
     "metadata": {},
     "output_type": "display_data"
    },
    {
     "name": "stderr",
     "output_type": "stream",
     "text": [
      "Epoch 16/50: 100%|████████████████████████████| 726/726 [03:48<00:00,  3.18it/s]\n"
     ]
    },
    {
     "data": {
      "text/html": [
       "<pre style=\"white-space:pre;overflow-x:auto;line-height:normal;font-family:Menlo,'DejaVu Sans Mono',consolas,'Courier New',monospace\">Epoch <span style=\"color: #008080; text-decoration-color: #008080; font-weight: bold\">16</span>/<span style=\"color: #008080; text-decoration-color: #008080; font-weight: bold\">50</span>\n",
       "</pre>\n"
      ],
      "text/plain": [
       "Epoch \u001b[1;36m16\u001b[0m/\u001b[1;36m50\u001b[0m\n"
      ]
     },
     "metadata": {},
     "output_type": "display_data"
    },
    {
     "data": {
      "text/html": [
       "<pre style=\"white-space:pre;overflow-x:auto;line-height:normal;font-family:Menlo,'DejaVu Sans Mono',consolas,'Courier New',monospace\">Train Loss: <span style=\"color: #008080; text-decoration-color: #008080; font-weight: bold\">573.7449</span>, Val Loss: <span style=\"color: #008080; text-decoration-color: #008080; font-weight: bold\">773.0004</span>\n",
       "</pre>\n"
      ],
      "text/plain": [
       "Train Loss: \u001b[1;36m573.7449\u001b[0m, Val Loss: \u001b[1;36m773.0004\u001b[0m\n"
      ]
     },
     "metadata": {},
     "output_type": "display_data"
    },
    {
     "data": {
      "text/html": [
       "<pre style=\"white-space:pre;overflow-x:auto;line-height:normal;font-family:Menlo,'DejaVu Sans Mono',consolas,'Courier New',monospace\">Learning Rate: <span style=\"color: #008080; text-decoration-color: #008080; font-weight: bold\">0.001000</span>\n",
       "</pre>\n"
      ],
      "text/plain": [
       "Learning Rate: \u001b[1;36m0.001000\u001b[0m\n"
      ]
     },
     "metadata": {},
     "output_type": "display_data"
    },
    {
     "data": {
      "text/html": [
       "<pre style=\"white-space:pre;overflow-x:auto;line-height:normal;font-family:Menlo,'DejaVu Sans Mono',consolas,'Courier New',monospace\">Validation Score: <span style=\"color: #008080; text-decoration-color: #008080; font-weight: bold\">0.5848</span>\n",
       "</pre>\n"
      ],
      "text/plain": [
       "Validation Score: \u001b[1;36m0.5848\u001b[0m\n"
      ]
     },
     "metadata": {},
     "output_type": "display_data"
    },
    {
     "name": "stderr",
     "output_type": "stream",
     "text": [
      "Epoch 17/50: 100%|████████████████████████████| 726/726 [03:54<00:00,  3.10it/s]\n"
     ]
    },
    {
     "data": {
      "text/html": [
       "<pre style=\"white-space:pre;overflow-x:auto;line-height:normal;font-family:Menlo,'DejaVu Sans Mono',consolas,'Courier New',monospace\">Epoch <span style=\"color: #008080; text-decoration-color: #008080; font-weight: bold\">17</span>/<span style=\"color: #008080; text-decoration-color: #008080; font-weight: bold\">50</span>\n",
       "</pre>\n"
      ],
      "text/plain": [
       "Epoch \u001b[1;36m17\u001b[0m/\u001b[1;36m50\u001b[0m\n"
      ]
     },
     "metadata": {},
     "output_type": "display_data"
    },
    {
     "data": {
      "text/html": [
       "<pre style=\"white-space:pre;overflow-x:auto;line-height:normal;font-family:Menlo,'DejaVu Sans Mono',consolas,'Courier New',monospace\">Train Loss: <span style=\"color: #008080; text-decoration-color: #008080; font-weight: bold\">569.2614</span>, Val Loss: <span style=\"color: #008080; text-decoration-color: #008080; font-weight: bold\">767.0819</span>\n",
       "</pre>\n"
      ],
      "text/plain": [
       "Train Loss: \u001b[1;36m569.2614\u001b[0m, Val Loss: \u001b[1;36m767.0819\u001b[0m\n"
      ]
     },
     "metadata": {},
     "output_type": "display_data"
    },
    {
     "data": {
      "text/html": [
       "<pre style=\"white-space:pre;overflow-x:auto;line-height:normal;font-family:Menlo,'DejaVu Sans Mono',consolas,'Courier New',monospace\">Learning Rate: <span style=\"color: #008080; text-decoration-color: #008080; font-weight: bold\">0.001000</span>\n",
       "</pre>\n"
      ],
      "text/plain": [
       "Learning Rate: \u001b[1;36m0.001000\u001b[0m\n"
      ]
     },
     "metadata": {},
     "output_type": "display_data"
    },
    {
     "data": {
      "text/html": [
       "<pre style=\"white-space:pre;overflow-x:auto;line-height:normal;font-family:Menlo,'DejaVu Sans Mono',consolas,'Courier New',monospace\">Validation Score: <span style=\"color: #008080; text-decoration-color: #008080; font-weight: bold\">0.6128</span>\n",
       "</pre>\n"
      ],
      "text/plain": [
       "Validation Score: \u001b[1;36m0.6128\u001b[0m\n"
      ]
     },
     "metadata": {},
     "output_type": "display_data"
    },
    {
     "name": "stderr",
     "output_type": "stream",
     "text": [
      "Epoch 18/50: 100%|████████████████████████████| 726/726 [03:47<00:00,  3.19it/s]\n"
     ]
    },
    {
     "data": {
      "text/html": [
       "<pre style=\"white-space:pre;overflow-x:auto;line-height:normal;font-family:Menlo,'DejaVu Sans Mono',consolas,'Courier New',monospace\">Epoch <span style=\"color: #008080; text-decoration-color: #008080; font-weight: bold\">18</span>/<span style=\"color: #008080; text-decoration-color: #008080; font-weight: bold\">50</span>\n",
       "</pre>\n"
      ],
      "text/plain": [
       "Epoch \u001b[1;36m18\u001b[0m/\u001b[1;36m50\u001b[0m\n"
      ]
     },
     "metadata": {},
     "output_type": "display_data"
    },
    {
     "data": {
      "text/html": [
       "<pre style=\"white-space:pre;overflow-x:auto;line-height:normal;font-family:Menlo,'DejaVu Sans Mono',consolas,'Courier New',monospace\">Train Loss: <span style=\"color: #008080; text-decoration-color: #008080; font-weight: bold\">564.6718</span>, Val Loss: <span style=\"color: #008080; text-decoration-color: #008080; font-weight: bold\">783.8250</span>\n",
       "</pre>\n"
      ],
      "text/plain": [
       "Train Loss: \u001b[1;36m564.6718\u001b[0m, Val Loss: \u001b[1;36m783.8250\u001b[0m\n"
      ]
     },
     "metadata": {},
     "output_type": "display_data"
    },
    {
     "data": {
      "text/html": [
       "<pre style=\"white-space:pre;overflow-x:auto;line-height:normal;font-family:Menlo,'DejaVu Sans Mono',consolas,'Courier New',monospace\">Learning Rate: <span style=\"color: #008080; text-decoration-color: #008080; font-weight: bold\">0.001000</span>\n",
       "</pre>\n"
      ],
      "text/plain": [
       "Learning Rate: \u001b[1;36m0.001000\u001b[0m\n"
      ]
     },
     "metadata": {},
     "output_type": "display_data"
    },
    {
     "data": {
      "text/html": [
       "<pre style=\"white-space:pre;overflow-x:auto;line-height:normal;font-family:Menlo,'DejaVu Sans Mono',consolas,'Courier New',monospace\">Validation Score: <span style=\"color: #008080; text-decoration-color: #008080; font-weight: bold\">0.6080</span>\n",
       "</pre>\n"
      ],
      "text/plain": [
       "Validation Score: \u001b[1;36m0.6080\u001b[0m\n"
      ]
     },
     "metadata": {},
     "output_type": "display_data"
    },
    {
     "name": "stderr",
     "output_type": "stream",
     "text": [
      "Epoch 19/50: 100%|████████████████████████████| 726/726 [03:28<00:00,  3.49it/s]\n"
     ]
    },
    {
     "data": {
      "text/html": [
       "<pre style=\"white-space:pre;overflow-x:auto;line-height:normal;font-family:Menlo,'DejaVu Sans Mono',consolas,'Courier New',monospace\">Epoch <span style=\"color: #008080; text-decoration-color: #008080; font-weight: bold\">19</span>/<span style=\"color: #008080; text-decoration-color: #008080; font-weight: bold\">50</span>\n",
       "</pre>\n"
      ],
      "text/plain": [
       "Epoch \u001b[1;36m19\u001b[0m/\u001b[1;36m50\u001b[0m\n"
      ]
     },
     "metadata": {},
     "output_type": "display_data"
    },
    {
     "data": {
      "text/html": [
       "<pre style=\"white-space:pre;overflow-x:auto;line-height:normal;font-family:Menlo,'DejaVu Sans Mono',consolas,'Courier New',monospace\">Train Loss: <span style=\"color: #008080; text-decoration-color: #008080; font-weight: bold\">561.4426</span>, Val Loss: <span style=\"color: #008080; text-decoration-color: #008080; font-weight: bold\">781.6726</span>\n",
       "</pre>\n"
      ],
      "text/plain": [
       "Train Loss: \u001b[1;36m561.4426\u001b[0m, Val Loss: \u001b[1;36m781.6726\u001b[0m\n"
      ]
     },
     "metadata": {},
     "output_type": "display_data"
    },
    {
     "data": {
      "text/html": [
       "<pre style=\"white-space:pre;overflow-x:auto;line-height:normal;font-family:Menlo,'DejaVu Sans Mono',consolas,'Courier New',monospace\">Learning Rate: <span style=\"color: #008080; text-decoration-color: #008080; font-weight: bold\">0.001000</span>\n",
       "</pre>\n"
      ],
      "text/plain": [
       "Learning Rate: \u001b[1;36m0.001000\u001b[0m\n"
      ]
     },
     "metadata": {},
     "output_type": "display_data"
    },
    {
     "data": {
      "text/html": [
       "<pre style=\"white-space:pre;overflow-x:auto;line-height:normal;font-family:Menlo,'DejaVu Sans Mono',consolas,'Courier New',monospace\">Validation Score: <span style=\"color: #008080; text-decoration-color: #008080; font-weight: bold\">0.6035</span>\n",
       "</pre>\n"
      ],
      "text/plain": [
       "Validation Score: \u001b[1;36m0.6035\u001b[0m\n"
      ]
     },
     "metadata": {},
     "output_type": "display_data"
    },
    {
     "name": "stderr",
     "output_type": "stream",
     "text": [
      "Epoch 20/50: 100%|████████████████████████████| 726/726 [03:19<00:00,  3.64it/s]\n"
     ]
    },
    {
     "data": {
      "text/html": [
       "<pre style=\"white-space:pre;overflow-x:auto;line-height:normal;font-family:Menlo,'DejaVu Sans Mono',consolas,'Courier New',monospace\">Epoch <span style=\"color: #008080; text-decoration-color: #008080; font-weight: bold\">20</span>/<span style=\"color: #008080; text-decoration-color: #008080; font-weight: bold\">50</span>\n",
       "</pre>\n"
      ],
      "text/plain": [
       "Epoch \u001b[1;36m20\u001b[0m/\u001b[1;36m50\u001b[0m\n"
      ]
     },
     "metadata": {},
     "output_type": "display_data"
    },
    {
     "data": {
      "text/html": [
       "<pre style=\"white-space:pre;overflow-x:auto;line-height:normal;font-family:Menlo,'DejaVu Sans Mono',consolas,'Courier New',monospace\">Train Loss: <span style=\"color: #008080; text-decoration-color: #008080; font-weight: bold\">562.1152</span>, Val Loss: <span style=\"color: #008080; text-decoration-color: #008080; font-weight: bold\">766.4912</span>\n",
       "</pre>\n"
      ],
      "text/plain": [
       "Train Loss: \u001b[1;36m562.1152\u001b[0m, Val Loss: \u001b[1;36m766.4912\u001b[0m\n"
      ]
     },
     "metadata": {},
     "output_type": "display_data"
    },
    {
     "data": {
      "text/html": [
       "<pre style=\"white-space:pre;overflow-x:auto;line-height:normal;font-family:Menlo,'DejaVu Sans Mono',consolas,'Courier New',monospace\">Learning Rate: <span style=\"color: #008080; text-decoration-color: #008080; font-weight: bold\">0.001000</span>\n",
       "</pre>\n"
      ],
      "text/plain": [
       "Learning Rate: \u001b[1;36m0.001000\u001b[0m\n"
      ]
     },
     "metadata": {},
     "output_type": "display_data"
    },
    {
     "data": {
      "text/html": [
       "<pre style=\"white-space:pre;overflow-x:auto;line-height:normal;font-family:Menlo,'DejaVu Sans Mono',consolas,'Courier New',monospace\">Validation Score: <span style=\"color: #008080; text-decoration-color: #008080; font-weight: bold\">0.6036</span>\n",
       "</pre>\n"
      ],
      "text/plain": [
       "Validation Score: \u001b[1;36m0.6036\u001b[0m\n"
      ]
     },
     "metadata": {},
     "output_type": "display_data"
    },
    {
     "name": "stderr",
     "output_type": "stream",
     "text": [
      "Epoch 21/50: 100%|████████████████████████████| 726/726 [03:23<00:00,  3.56it/s]\n"
     ]
    },
    {
     "data": {
      "text/html": [
       "<pre style=\"white-space:pre;overflow-x:auto;line-height:normal;font-family:Menlo,'DejaVu Sans Mono',consolas,'Courier New',monospace\">Epoch <span style=\"color: #008080; text-decoration-color: #008080; font-weight: bold\">21</span>/<span style=\"color: #008080; text-decoration-color: #008080; font-weight: bold\">50</span>\n",
       "</pre>\n"
      ],
      "text/plain": [
       "Epoch \u001b[1;36m21\u001b[0m/\u001b[1;36m50\u001b[0m\n"
      ]
     },
     "metadata": {},
     "output_type": "display_data"
    },
    {
     "data": {
      "text/html": [
       "<pre style=\"white-space:pre;overflow-x:auto;line-height:normal;font-family:Menlo,'DejaVu Sans Mono',consolas,'Courier New',monospace\">Train Loss: <span style=\"color: #008080; text-decoration-color: #008080; font-weight: bold\">551.7869</span>, Val Loss: <span style=\"color: #008080; text-decoration-color: #008080; font-weight: bold\">772.6667</span>\n",
       "</pre>\n"
      ],
      "text/plain": [
       "Train Loss: \u001b[1;36m551.7869\u001b[0m, Val Loss: \u001b[1;36m772.6667\u001b[0m\n"
      ]
     },
     "metadata": {},
     "output_type": "display_data"
    },
    {
     "data": {
      "text/html": [
       "<pre style=\"white-space:pre;overflow-x:auto;line-height:normal;font-family:Menlo,'DejaVu Sans Mono',consolas,'Courier New',monospace\">Learning Rate: <span style=\"color: #008080; text-decoration-color: #008080; font-weight: bold\">0.001000</span>\n",
       "</pre>\n"
      ],
      "text/plain": [
       "Learning Rate: \u001b[1;36m0.001000\u001b[0m\n"
      ]
     },
     "metadata": {},
     "output_type": "display_data"
    },
    {
     "data": {
      "text/html": [
       "<pre style=\"white-space:pre;overflow-x:auto;line-height:normal;font-family:Menlo,'DejaVu Sans Mono',consolas,'Courier New',monospace\">Validation Score: <span style=\"color: #008080; text-decoration-color: #008080; font-weight: bold\">0.6169</span>\n",
       "</pre>\n"
      ],
      "text/plain": [
       "Validation Score: \u001b[1;36m0.6169\u001b[0m\n"
      ]
     },
     "metadata": {},
     "output_type": "display_data"
    },
    {
     "name": "stderr",
     "output_type": "stream",
     "text": [
      "Epoch 22/50: 100%|████████████████████████████| 726/726 [04:01<00:00,  3.00it/s]\n"
     ]
    },
    {
     "data": {
      "text/html": [
       "<pre style=\"white-space:pre;overflow-x:auto;line-height:normal;font-family:Menlo,'DejaVu Sans Mono',consolas,'Courier New',monospace\">Epoch <span style=\"color: #008080; text-decoration-color: #008080; font-weight: bold\">22</span>/<span style=\"color: #008080; text-decoration-color: #008080; font-weight: bold\">50</span>\n",
       "</pre>\n"
      ],
      "text/plain": [
       "Epoch \u001b[1;36m22\u001b[0m/\u001b[1;36m50\u001b[0m\n"
      ]
     },
     "metadata": {},
     "output_type": "display_data"
    },
    {
     "data": {
      "text/html": [
       "<pre style=\"white-space:pre;overflow-x:auto;line-height:normal;font-family:Menlo,'DejaVu Sans Mono',consolas,'Courier New',monospace\">Train Loss: <span style=\"color: #008080; text-decoration-color: #008080; font-weight: bold\">552.4740</span>, Val Loss: <span style=\"color: #008080; text-decoration-color: #008080; font-weight: bold\">758.8181</span>\n",
       "</pre>\n"
      ],
      "text/plain": [
       "Train Loss: \u001b[1;36m552.4740\u001b[0m, Val Loss: \u001b[1;36m758.8181\u001b[0m\n"
      ]
     },
     "metadata": {},
     "output_type": "display_data"
    },
    {
     "data": {
      "text/html": [
       "<pre style=\"white-space:pre;overflow-x:auto;line-height:normal;font-family:Menlo,'DejaVu Sans Mono',consolas,'Courier New',monospace\">Learning Rate: <span style=\"color: #008080; text-decoration-color: #008080; font-weight: bold\">0.001000</span>\n",
       "</pre>\n"
      ],
      "text/plain": [
       "Learning Rate: \u001b[1;36m0.001000\u001b[0m\n"
      ]
     },
     "metadata": {},
     "output_type": "display_data"
    },
    {
     "data": {
      "text/html": [
       "<pre style=\"white-space:pre;overflow-x:auto;line-height:normal;font-family:Menlo,'DejaVu Sans Mono',consolas,'Courier New',monospace\">Validation Score: <span style=\"color: #008080; text-decoration-color: #008080; font-weight: bold\">0.6114</span>\n",
       "</pre>\n"
      ],
      "text/plain": [
       "Validation Score: \u001b[1;36m0.6114\u001b[0m\n"
      ]
     },
     "metadata": {},
     "output_type": "display_data"
    },
    {
     "name": "stderr",
     "output_type": "stream",
     "text": [
      "Epoch 23/50: 100%|████████████████████████████| 726/726 [03:33<00:00,  3.41it/s]\n"
     ]
    },
    {
     "data": {
      "text/html": [
       "<pre style=\"white-space:pre;overflow-x:auto;line-height:normal;font-family:Menlo,'DejaVu Sans Mono',consolas,'Courier New',monospace\">Epoch <span style=\"color: #008080; text-decoration-color: #008080; font-weight: bold\">23</span>/<span style=\"color: #008080; text-decoration-color: #008080; font-weight: bold\">50</span>\n",
       "</pre>\n"
      ],
      "text/plain": [
       "Epoch \u001b[1;36m23\u001b[0m/\u001b[1;36m50\u001b[0m\n"
      ]
     },
     "metadata": {},
     "output_type": "display_data"
    },
    {
     "data": {
      "text/html": [
       "<pre style=\"white-space:pre;overflow-x:auto;line-height:normal;font-family:Menlo,'DejaVu Sans Mono',consolas,'Courier New',monospace\">Train Loss: <span style=\"color: #008080; text-decoration-color: #008080; font-weight: bold\">546.1238</span>, Val Loss: <span style=\"color: #008080; text-decoration-color: #008080; font-weight: bold\">777.1352</span>\n",
       "</pre>\n"
      ],
      "text/plain": [
       "Train Loss: \u001b[1;36m546.1238\u001b[0m, Val Loss: \u001b[1;36m777.1352\u001b[0m\n"
      ]
     },
     "metadata": {},
     "output_type": "display_data"
    },
    {
     "data": {
      "text/html": [
       "<pre style=\"white-space:pre;overflow-x:auto;line-height:normal;font-family:Menlo,'DejaVu Sans Mono',consolas,'Courier New',monospace\">Learning Rate: <span style=\"color: #008080; text-decoration-color: #008080; font-weight: bold\">0.001000</span>\n",
       "</pre>\n"
      ],
      "text/plain": [
       "Learning Rate: \u001b[1;36m0.001000\u001b[0m\n"
      ]
     },
     "metadata": {},
     "output_type": "display_data"
    },
    {
     "data": {
      "text/html": [
       "<pre style=\"white-space:pre;overflow-x:auto;line-height:normal;font-family:Menlo,'DejaVu Sans Mono',consolas,'Courier New',monospace\">Validation Score: <span style=\"color: #008080; text-decoration-color: #008080; font-weight: bold\">0.6260</span>\n",
       "</pre>\n"
      ],
      "text/plain": [
       "Validation Score: \u001b[1;36m0.6260\u001b[0m\n"
      ]
     },
     "metadata": {},
     "output_type": "display_data"
    },
    {
     "name": "stderr",
     "output_type": "stream",
     "text": [
      "Epoch 24/50: 100%|████████████████████████████| 726/726 [03:35<00:00,  3.37it/s]\n"
     ]
    },
    {
     "data": {
      "text/html": [
       "<pre style=\"white-space:pre;overflow-x:auto;line-height:normal;font-family:Menlo,'DejaVu Sans Mono',consolas,'Courier New',monospace\">Epoch <span style=\"color: #008080; text-decoration-color: #008080; font-weight: bold\">24</span>/<span style=\"color: #008080; text-decoration-color: #008080; font-weight: bold\">50</span>\n",
       "</pre>\n"
      ],
      "text/plain": [
       "Epoch \u001b[1;36m24\u001b[0m/\u001b[1;36m50\u001b[0m\n"
      ]
     },
     "metadata": {},
     "output_type": "display_data"
    },
    {
     "data": {
      "text/html": [
       "<pre style=\"white-space:pre;overflow-x:auto;line-height:normal;font-family:Menlo,'DejaVu Sans Mono',consolas,'Courier New',monospace\">Train Loss: <span style=\"color: #008080; text-decoration-color: #008080; font-weight: bold\">551.6203</span>, Val Loss: <span style=\"color: #008080; text-decoration-color: #008080; font-weight: bold\">772.8322</span>\n",
       "</pre>\n"
      ],
      "text/plain": [
       "Train Loss: \u001b[1;36m551.6203\u001b[0m, Val Loss: \u001b[1;36m772.8322\u001b[0m\n"
      ]
     },
     "metadata": {},
     "output_type": "display_data"
    },
    {
     "data": {
      "text/html": [
       "<pre style=\"white-space:pre;overflow-x:auto;line-height:normal;font-family:Menlo,'DejaVu Sans Mono',consolas,'Courier New',monospace\">Learning Rate: <span style=\"color: #008080; text-decoration-color: #008080; font-weight: bold\">0.001000</span>\n",
       "</pre>\n"
      ],
      "text/plain": [
       "Learning Rate: \u001b[1;36m0.001000\u001b[0m\n"
      ]
     },
     "metadata": {},
     "output_type": "display_data"
    },
    {
     "data": {
      "text/html": [
       "<pre style=\"white-space:pre;overflow-x:auto;line-height:normal;font-family:Menlo,'DejaVu Sans Mono',consolas,'Courier New',monospace\">Validation Score: <span style=\"color: #008080; text-decoration-color: #008080; font-weight: bold\">0.6268</span>\n",
       "</pre>\n"
      ],
      "text/plain": [
       "Validation Score: \u001b[1;36m0.6268\u001b[0m\n"
      ]
     },
     "metadata": {},
     "output_type": "display_data"
    },
    {
     "name": "stderr",
     "output_type": "stream",
     "text": [
      "Epoch 25/50: 100%|████████████████████████████| 726/726 [03:42<00:00,  3.26it/s]\n"
     ]
    },
    {
     "data": {
      "text/html": [
       "<pre style=\"white-space:pre;overflow-x:auto;line-height:normal;font-family:Menlo,'DejaVu Sans Mono',consolas,'Courier New',monospace\">Epoch <span style=\"color: #008080; text-decoration-color: #008080; font-weight: bold\">25</span>/<span style=\"color: #008080; text-decoration-color: #008080; font-weight: bold\">50</span>\n",
       "</pre>\n"
      ],
      "text/plain": [
       "Epoch \u001b[1;36m25\u001b[0m/\u001b[1;36m50\u001b[0m\n"
      ]
     },
     "metadata": {},
     "output_type": "display_data"
    },
    {
     "data": {
      "text/html": [
       "<pre style=\"white-space:pre;overflow-x:auto;line-height:normal;font-family:Menlo,'DejaVu Sans Mono',consolas,'Courier New',monospace\">Train Loss: <span style=\"color: #008080; text-decoration-color: #008080; font-weight: bold\">546.3473</span>, Val Loss: <span style=\"color: #008080; text-decoration-color: #008080; font-weight: bold\">779.3710</span>\n",
       "</pre>\n"
      ],
      "text/plain": [
       "Train Loss: \u001b[1;36m546.3473\u001b[0m, Val Loss: \u001b[1;36m779.3710\u001b[0m\n"
      ]
     },
     "metadata": {},
     "output_type": "display_data"
    },
    {
     "data": {
      "text/html": [
       "<pre style=\"white-space:pre;overflow-x:auto;line-height:normal;font-family:Menlo,'DejaVu Sans Mono',consolas,'Courier New',monospace\">Learning Rate: <span style=\"color: #008080; text-decoration-color: #008080; font-weight: bold\">0.001000</span>\n",
       "</pre>\n"
      ],
      "text/plain": [
       "Learning Rate: \u001b[1;36m0.001000\u001b[0m\n"
      ]
     },
     "metadata": {},
     "output_type": "display_data"
    },
    {
     "data": {
      "text/html": [
       "<pre style=\"white-space:pre;overflow-x:auto;line-height:normal;font-family:Menlo,'DejaVu Sans Mono',consolas,'Courier New',monospace\">Validation Score: <span style=\"color: #008080; text-decoration-color: #008080; font-weight: bold\">0.6119</span>\n",
       "</pre>\n"
      ],
      "text/plain": [
       "Validation Score: \u001b[1;36m0.6119\u001b[0m\n"
      ]
     },
     "metadata": {},
     "output_type": "display_data"
    },
    {
     "name": "stderr",
     "output_type": "stream",
     "text": [
      "Epoch 26/50: 100%|████████████████████████████| 726/726 [03:43<00:00,  3.25it/s]\n"
     ]
    },
    {
     "data": {
      "text/html": [
       "<pre style=\"white-space:pre;overflow-x:auto;line-height:normal;font-family:Menlo,'DejaVu Sans Mono',consolas,'Courier New',monospace\">Epoch <span style=\"color: #008080; text-decoration-color: #008080; font-weight: bold\">26</span>/<span style=\"color: #008080; text-decoration-color: #008080; font-weight: bold\">50</span>\n",
       "</pre>\n"
      ],
      "text/plain": [
       "Epoch \u001b[1;36m26\u001b[0m/\u001b[1;36m50\u001b[0m\n"
      ]
     },
     "metadata": {},
     "output_type": "display_data"
    },
    {
     "data": {
      "text/html": [
       "<pre style=\"white-space:pre;overflow-x:auto;line-height:normal;font-family:Menlo,'DejaVu Sans Mono',consolas,'Courier New',monospace\">Train Loss: <span style=\"color: #008080; text-decoration-color: #008080; font-weight: bold\">544.9233</span>, Val Loss: <span style=\"color: #008080; text-decoration-color: #008080; font-weight: bold\">779.3240</span>\n",
       "</pre>\n"
      ],
      "text/plain": [
       "Train Loss: \u001b[1;36m544.9233\u001b[0m, Val Loss: \u001b[1;36m779.3240\u001b[0m\n"
      ]
     },
     "metadata": {},
     "output_type": "display_data"
    },
    {
     "data": {
      "text/html": [
       "<pre style=\"white-space:pre;overflow-x:auto;line-height:normal;font-family:Menlo,'DejaVu Sans Mono',consolas,'Courier New',monospace\">Learning Rate: <span style=\"color: #008080; text-decoration-color: #008080; font-weight: bold\">0.001000</span>\n",
       "</pre>\n"
      ],
      "text/plain": [
       "Learning Rate: \u001b[1;36m0.001000\u001b[0m\n"
      ]
     },
     "metadata": {},
     "output_type": "display_data"
    },
    {
     "data": {
      "text/html": [
       "<pre style=\"white-space:pre;overflow-x:auto;line-height:normal;font-family:Menlo,'DejaVu Sans Mono',consolas,'Courier New',monospace\">Validation Score: <span style=\"color: #008080; text-decoration-color: #008080; font-weight: bold\">0.6229</span>\n",
       "</pre>\n"
      ],
      "text/plain": [
       "Validation Score: \u001b[1;36m0.6229\u001b[0m\n"
      ]
     },
     "metadata": {},
     "output_type": "display_data"
    },
    {
     "name": "stderr",
     "output_type": "stream",
     "text": [
      "Epoch 27/50: 100%|████████████████████████████| 726/726 [03:40<00:00,  3.29it/s]\n"
     ]
    },
    {
     "data": {
      "text/html": [
       "<pre style=\"white-space:pre;overflow-x:auto;line-height:normal;font-family:Menlo,'DejaVu Sans Mono',consolas,'Courier New',monospace\">Epoch <span style=\"color: #008080; text-decoration-color: #008080; font-weight: bold\">27</span>/<span style=\"color: #008080; text-decoration-color: #008080; font-weight: bold\">50</span>\n",
       "</pre>\n"
      ],
      "text/plain": [
       "Epoch \u001b[1;36m27\u001b[0m/\u001b[1;36m50\u001b[0m\n"
      ]
     },
     "metadata": {},
     "output_type": "display_data"
    },
    {
     "data": {
      "text/html": [
       "<pre style=\"white-space:pre;overflow-x:auto;line-height:normal;font-family:Menlo,'DejaVu Sans Mono',consolas,'Courier New',monospace\">Train Loss: <span style=\"color: #008080; text-decoration-color: #008080; font-weight: bold\">545.2661</span>, Val Loss: <span style=\"color: #008080; text-decoration-color: #008080; font-weight: bold\">782.7661</span>\n",
       "</pre>\n"
      ],
      "text/plain": [
       "Train Loss: \u001b[1;36m545.2661\u001b[0m, Val Loss: \u001b[1;36m782.7661\u001b[0m\n"
      ]
     },
     "metadata": {},
     "output_type": "display_data"
    },
    {
     "data": {
      "text/html": [
       "<pre style=\"white-space:pre;overflow-x:auto;line-height:normal;font-family:Menlo,'DejaVu Sans Mono',consolas,'Courier New',monospace\">Learning Rate: <span style=\"color: #008080; text-decoration-color: #008080; font-weight: bold\">0.001000</span>\n",
       "</pre>\n"
      ],
      "text/plain": [
       "Learning Rate: \u001b[1;36m0.001000\u001b[0m\n"
      ]
     },
     "metadata": {},
     "output_type": "display_data"
    },
    {
     "data": {
      "text/html": [
       "<pre style=\"white-space:pre;overflow-x:auto;line-height:normal;font-family:Menlo,'DejaVu Sans Mono',consolas,'Courier New',monospace\">Validation Score: <span style=\"color: #008080; text-decoration-color: #008080; font-weight: bold\">0.6311</span>\n",
       "</pre>\n"
      ],
      "text/plain": [
       "Validation Score: \u001b[1;36m0.6311\u001b[0m\n"
      ]
     },
     "metadata": {},
     "output_type": "display_data"
    },
    {
     "data": {
      "text/html": [
       "<pre style=\"white-space:pre;overflow-x:auto;line-height:normal;font-family:Menlo,'DejaVu Sans Mono',consolas,'Courier New',monospace\">New best model found with socre: <span style=\"color: #008080; text-decoration-color: #008080; font-weight: bold\">0.6311</span>\n",
       "</pre>\n"
      ],
      "text/plain": [
       "New best model found with socre: \u001b[1;36m0.6311\u001b[0m\n"
      ]
     },
     "metadata": {},
     "output_type": "display_data"
    },
    {
     "name": "stderr",
     "output_type": "stream",
     "text": [
      "Epoch 28/50: 100%|████████████████████████████| 726/726 [03:40<00:00,  3.29it/s]\n"
     ]
    },
    {
     "data": {
      "text/html": [
       "<pre style=\"white-space:pre;overflow-x:auto;line-height:normal;font-family:Menlo,'DejaVu Sans Mono',consolas,'Courier New',monospace\">Epoch <span style=\"color: #008080; text-decoration-color: #008080; font-weight: bold\">28</span>/<span style=\"color: #008080; text-decoration-color: #008080; font-weight: bold\">50</span>\n",
       "</pre>\n"
      ],
      "text/plain": [
       "Epoch \u001b[1;36m28\u001b[0m/\u001b[1;36m50\u001b[0m\n"
      ]
     },
     "metadata": {},
     "output_type": "display_data"
    },
    {
     "data": {
      "text/html": [
       "<pre style=\"white-space:pre;overflow-x:auto;line-height:normal;font-family:Menlo,'DejaVu Sans Mono',consolas,'Courier New',monospace\">Train Loss: <span style=\"color: #008080; text-decoration-color: #008080; font-weight: bold\">547.2783</span>, Val Loss: <span style=\"color: #008080; text-decoration-color: #008080; font-weight: bold\">773.3174</span>\n",
       "</pre>\n"
      ],
      "text/plain": [
       "Train Loss: \u001b[1;36m547.2783\u001b[0m, Val Loss: \u001b[1;36m773.3174\u001b[0m\n"
      ]
     },
     "metadata": {},
     "output_type": "display_data"
    },
    {
     "data": {
      "text/html": [
       "<pre style=\"white-space:pre;overflow-x:auto;line-height:normal;font-family:Menlo,'DejaVu Sans Mono',consolas,'Courier New',monospace\">Learning Rate: <span style=\"color: #008080; text-decoration-color: #008080; font-weight: bold\">0.001000</span>\n",
       "</pre>\n"
      ],
      "text/plain": [
       "Learning Rate: \u001b[1;36m0.001000\u001b[0m\n"
      ]
     },
     "metadata": {},
     "output_type": "display_data"
    },
    {
     "data": {
      "text/html": [
       "<pre style=\"white-space:pre;overflow-x:auto;line-height:normal;font-family:Menlo,'DejaVu Sans Mono',consolas,'Courier New',monospace\">Validation Score: <span style=\"color: #008080; text-decoration-color: #008080; font-weight: bold\">0.6098</span>\n",
       "</pre>\n"
      ],
      "text/plain": [
       "Validation Score: \u001b[1;36m0.6098\u001b[0m\n"
      ]
     },
     "metadata": {},
     "output_type": "display_data"
    },
    {
     "name": "stderr",
     "output_type": "stream",
     "text": [
      "Epoch 29/50: 100%|████████████████████████████| 726/726 [03:37<00:00,  3.34it/s]\n"
     ]
    },
    {
     "data": {
      "text/html": [
       "<pre style=\"white-space:pre;overflow-x:auto;line-height:normal;font-family:Menlo,'DejaVu Sans Mono',consolas,'Courier New',monospace\">Epoch <span style=\"color: #008080; text-decoration-color: #008080; font-weight: bold\">29</span>/<span style=\"color: #008080; text-decoration-color: #008080; font-weight: bold\">50</span>\n",
       "</pre>\n"
      ],
      "text/plain": [
       "Epoch \u001b[1;36m29\u001b[0m/\u001b[1;36m50\u001b[0m\n"
      ]
     },
     "metadata": {},
     "output_type": "display_data"
    },
    {
     "data": {
      "text/html": [
       "<pre style=\"white-space:pre;overflow-x:auto;line-height:normal;font-family:Menlo,'DejaVu Sans Mono',consolas,'Courier New',monospace\">Train Loss: <span style=\"color: #008080; text-decoration-color: #008080; font-weight: bold\">543.0041</span>, Val Loss: <span style=\"color: #008080; text-decoration-color: #008080; font-weight: bold\">774.3477</span>\n",
       "</pre>\n"
      ],
      "text/plain": [
       "Train Loss: \u001b[1;36m543.0041\u001b[0m, Val Loss: \u001b[1;36m774.3477\u001b[0m\n"
      ]
     },
     "metadata": {},
     "output_type": "display_data"
    },
    {
     "data": {
      "text/html": [
       "<pre style=\"white-space:pre;overflow-x:auto;line-height:normal;font-family:Menlo,'DejaVu Sans Mono',consolas,'Courier New',monospace\">Learning Rate: <span style=\"color: #008080; text-decoration-color: #008080; font-weight: bold\">0.001000</span>\n",
       "</pre>\n"
      ],
      "text/plain": [
       "Learning Rate: \u001b[1;36m0.001000\u001b[0m\n"
      ]
     },
     "metadata": {},
     "output_type": "display_data"
    },
    {
     "data": {
      "text/html": [
       "<pre style=\"white-space:pre;overflow-x:auto;line-height:normal;font-family:Menlo,'DejaVu Sans Mono',consolas,'Courier New',monospace\">Validation Score: <span style=\"color: #008080; text-decoration-color: #008080; font-weight: bold\">0.6217</span>\n",
       "</pre>\n"
      ],
      "text/plain": [
       "Validation Score: \u001b[1;36m0.6217\u001b[0m\n"
      ]
     },
     "metadata": {},
     "output_type": "display_data"
    },
    {
     "name": "stderr",
     "output_type": "stream",
     "text": [
      "Epoch 30/50: 100%|████████████████████████████| 726/726 [03:54<00:00,  3.09it/s]\n"
     ]
    },
    {
     "data": {
      "text/html": [
       "<pre style=\"white-space:pre;overflow-x:auto;line-height:normal;font-family:Menlo,'DejaVu Sans Mono',consolas,'Courier New',monospace\">Epoch <span style=\"color: #008080; text-decoration-color: #008080; font-weight: bold\">30</span>/<span style=\"color: #008080; text-decoration-color: #008080; font-weight: bold\">50</span>\n",
       "</pre>\n"
      ],
      "text/plain": [
       "Epoch \u001b[1;36m30\u001b[0m/\u001b[1;36m50\u001b[0m\n"
      ]
     },
     "metadata": {},
     "output_type": "display_data"
    },
    {
     "data": {
      "text/html": [
       "<pre style=\"white-space:pre;overflow-x:auto;line-height:normal;font-family:Menlo,'DejaVu Sans Mono',consolas,'Courier New',monospace\">Train Loss: <span style=\"color: #008080; text-decoration-color: #008080; font-weight: bold\">541.6422</span>, Val Loss: <span style=\"color: #008080; text-decoration-color: #008080; font-weight: bold\">777.7145</span>\n",
       "</pre>\n"
      ],
      "text/plain": [
       "Train Loss: \u001b[1;36m541.6422\u001b[0m, Val Loss: \u001b[1;36m777.7145\u001b[0m\n"
      ]
     },
     "metadata": {},
     "output_type": "display_data"
    },
    {
     "data": {
      "text/html": [
       "<pre style=\"white-space:pre;overflow-x:auto;line-height:normal;font-family:Menlo,'DejaVu Sans Mono',consolas,'Courier New',monospace\">Learning Rate: <span style=\"color: #008080; text-decoration-color: #008080; font-weight: bold\">0.001000</span>\n",
       "</pre>\n"
      ],
      "text/plain": [
       "Learning Rate: \u001b[1;36m0.001000\u001b[0m\n"
      ]
     },
     "metadata": {},
     "output_type": "display_data"
    },
    {
     "data": {
      "text/html": [
       "<pre style=\"white-space:pre;overflow-x:auto;line-height:normal;font-family:Menlo,'DejaVu Sans Mono',consolas,'Courier New',monospace\">Validation Score: <span style=\"color: #008080; text-decoration-color: #008080; font-weight: bold\">0.6312</span>\n",
       "</pre>\n"
      ],
      "text/plain": [
       "Validation Score: \u001b[1;36m0.6312\u001b[0m\n"
      ]
     },
     "metadata": {},
     "output_type": "display_data"
    },
    {
     "data": {
      "text/html": [
       "<pre style=\"white-space:pre;overflow-x:auto;line-height:normal;font-family:Menlo,'DejaVu Sans Mono',consolas,'Courier New',monospace\">New best model found with socre: <span style=\"color: #008080; text-decoration-color: #008080; font-weight: bold\">0.6312</span>\n",
       "</pre>\n"
      ],
      "text/plain": [
       "New best model found with socre: \u001b[1;36m0.6312\u001b[0m\n"
      ]
     },
     "metadata": {},
     "output_type": "display_data"
    },
    {
     "name": "stderr",
     "output_type": "stream",
     "text": [
      "Epoch 31/50: 100%|████████████████████████████| 726/726 [03:51<00:00,  3.13it/s]\n"
     ]
    },
    {
     "data": {
      "text/html": [
       "<pre style=\"white-space:pre;overflow-x:auto;line-height:normal;font-family:Menlo,'DejaVu Sans Mono',consolas,'Courier New',monospace\">Epoch <span style=\"color: #008080; text-decoration-color: #008080; font-weight: bold\">31</span>/<span style=\"color: #008080; text-decoration-color: #008080; font-weight: bold\">50</span>\n",
       "</pre>\n"
      ],
      "text/plain": [
       "Epoch \u001b[1;36m31\u001b[0m/\u001b[1;36m50\u001b[0m\n"
      ]
     },
     "metadata": {},
     "output_type": "display_data"
    },
    {
     "data": {
      "text/html": [
       "<pre style=\"white-space:pre;overflow-x:auto;line-height:normal;font-family:Menlo,'DejaVu Sans Mono',consolas,'Courier New',monospace\">Train Loss: <span style=\"color: #008080; text-decoration-color: #008080; font-weight: bold\">540.7249</span>, Val Loss: <span style=\"color: #008080; text-decoration-color: #008080; font-weight: bold\">784.8661</span>\n",
       "</pre>\n"
      ],
      "text/plain": [
       "Train Loss: \u001b[1;36m540.7249\u001b[0m, Val Loss: \u001b[1;36m784.8661\u001b[0m\n"
      ]
     },
     "metadata": {},
     "output_type": "display_data"
    },
    {
     "data": {
      "text/html": [
       "<pre style=\"white-space:pre;overflow-x:auto;line-height:normal;font-family:Menlo,'DejaVu Sans Mono',consolas,'Courier New',monospace\">Learning Rate: <span style=\"color: #008080; text-decoration-color: #008080; font-weight: bold\">0.001000</span>\n",
       "</pre>\n"
      ],
      "text/plain": [
       "Learning Rate: \u001b[1;36m0.001000\u001b[0m\n"
      ]
     },
     "metadata": {},
     "output_type": "display_data"
    },
    {
     "data": {
      "text/html": [
       "<pre style=\"white-space:pre;overflow-x:auto;line-height:normal;font-family:Menlo,'DejaVu Sans Mono',consolas,'Courier New',monospace\">Validation Score: <span style=\"color: #008080; text-decoration-color: #008080; font-weight: bold\">0.6145</span>\n",
       "</pre>\n"
      ],
      "text/plain": [
       "Validation Score: \u001b[1;36m0.6145\u001b[0m\n"
      ]
     },
     "metadata": {},
     "output_type": "display_data"
    },
    {
     "name": "stderr",
     "output_type": "stream",
     "text": [
      "Epoch 32/50: 100%|████████████████████████████| 726/726 [04:13<00:00,  2.86it/s]\n"
     ]
    },
    {
     "data": {
      "text/html": [
       "<pre style=\"white-space:pre;overflow-x:auto;line-height:normal;font-family:Menlo,'DejaVu Sans Mono',consolas,'Courier New',monospace\">Epoch <span style=\"color: #008080; text-decoration-color: #008080; font-weight: bold\">32</span>/<span style=\"color: #008080; text-decoration-color: #008080; font-weight: bold\">50</span>\n",
       "</pre>\n"
      ],
      "text/plain": [
       "Epoch \u001b[1;36m32\u001b[0m/\u001b[1;36m50\u001b[0m\n"
      ]
     },
     "metadata": {},
     "output_type": "display_data"
    },
    {
     "data": {
      "text/html": [
       "<pre style=\"white-space:pre;overflow-x:auto;line-height:normal;font-family:Menlo,'DejaVu Sans Mono',consolas,'Courier New',monospace\">Train Loss: <span style=\"color: #008080; text-decoration-color: #008080; font-weight: bold\">540.4790</span>, Val Loss: <span style=\"color: #008080; text-decoration-color: #008080; font-weight: bold\">780.2076</span>\n",
       "</pre>\n"
      ],
      "text/plain": [
       "Train Loss: \u001b[1;36m540.4790\u001b[0m, Val Loss: \u001b[1;36m780.2076\u001b[0m\n"
      ]
     },
     "metadata": {},
     "output_type": "display_data"
    },
    {
     "data": {
      "text/html": [
       "<pre style=\"white-space:pre;overflow-x:auto;line-height:normal;font-family:Menlo,'DejaVu Sans Mono',consolas,'Courier New',monospace\">Learning Rate: <span style=\"color: #008080; text-decoration-color: #008080; font-weight: bold\">0.001000</span>\n",
       "</pre>\n"
      ],
      "text/plain": [
       "Learning Rate: \u001b[1;36m0.001000\u001b[0m\n"
      ]
     },
     "metadata": {},
     "output_type": "display_data"
    },
    {
     "data": {
      "text/html": [
       "<pre style=\"white-space:pre;overflow-x:auto;line-height:normal;font-family:Menlo,'DejaVu Sans Mono',consolas,'Courier New',monospace\">Validation Score: <span style=\"color: #008080; text-decoration-color: #008080; font-weight: bold\">0.6217</span>\n",
       "</pre>\n"
      ],
      "text/plain": [
       "Validation Score: \u001b[1;36m0.6217\u001b[0m\n"
      ]
     },
     "metadata": {},
     "output_type": "display_data"
    },
    {
     "name": "stderr",
     "output_type": "stream",
     "text": [
      "Epoch 33/50:  51%|██████████████▎             | 370/726 [02:03<02:04,  2.86it/s]"
     ]
    }
   ],
   "source": [
    "best_model = train_model(model, train_loader, val_loader, criterion, optimizer, 50, device)\n"
   ]
  },
  {
   "cell_type": "code",
   "execution_count": null,
   "id": "52cdfdc0-b5e6-4f32-8b44-f7ca3b4224c1",
   "metadata": {},
   "outputs": [],
   "source": [
    "for inputs, targets in train_loader:\n",
    "    inputs = [x.to(device) for x in inputs]\n",
    "    targets = targets.to(device)\n",
    "            \n",
    "    optimizer.zero_grad()\n",
    "    outputs = model(inputs)\n",
    "    break\n"
   ]
  },
  {
   "cell_type": "code",
   "execution_count": null,
   "id": "82c48dfb-a537-4042-b770-c07f3bec0846",
   "metadata": {},
   "outputs": [],
   "source": [
    "targets.shape"
   ]
  },
  {
   "cell_type": "code",
   "execution_count": null,
   "id": "21abdd59-1ee8-4521-9f47-78318bc3f864",
   "metadata": {},
   "outputs": [],
   "source": []
  },
  {
   "cell_type": "code",
   "execution_count": null,
   "id": "fa1429ef-aeae-4812-b4bd-1bf43a2aca05",
   "metadata": {},
   "outputs": [],
   "source": []
  },
  {
   "cell_type": "code",
   "execution_count": null,
   "id": "24919ed7-e17e-4610-8249-79557db31650",
   "metadata": {},
   "outputs": [],
   "source": []
  },
  {
   "cell_type": "code",
   "execution_count": null,
   "id": "aac49fc6-63ea-4e62-baa1-c87bb3a85dd5",
   "metadata": {},
   "outputs": [],
   "source": []
  }
 ],
 "metadata": {
  "kernelspec": {
   "display_name": "Python 3 (ipykernel)",
   "language": "python",
   "name": "python3"
  },
  "language_info": {
   "codemirror_mode": {
    "name": "ipython",
    "version": 3
   },
   "file_extension": ".py",
   "mimetype": "text/x-python",
   "name": "python",
   "nbconvert_exporter": "python",
   "pygments_lexer": "ipython3",
   "version": "3.11.7"
  }
 },
 "nbformat": 4,
 "nbformat_minor": 5
}
