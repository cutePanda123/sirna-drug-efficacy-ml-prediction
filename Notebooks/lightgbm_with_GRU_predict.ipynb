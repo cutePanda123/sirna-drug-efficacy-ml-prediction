{
 "cells": [
  {
   "cell_type": "code",
   "execution_count": 1,
   "metadata": {},
   "outputs": [],
   "source": [
    "import pandas as pd\n",
    "import numpy as np\n"
   ]
  },
  {
   "cell_type": "code",
   "execution_count": 2,
   "metadata": {},
   "outputs": [],
   "source": [
    "df_original = pd.read_csv(\"../train_data.csv\")\n",
    "n_original = df_original.shape[0]\n",
    "df_submit = pd.read_csv(\"../sample_submission.csv\")\n",
    "df = pd.concat([df_original, df_submit], axis=0).reset_index(drop=True)\n",
    "\n",
    "# Features from GRU\n",
    "df = pd.read_csv(\"../GRU_features_predict_only.csv\").merge(\n",
    "    df,\n",
    "    on='id'\n",
    ")\n",
    "\n",
    "# Features from other pretrained model\n",
    "df = pd.read_csv(\"../pretrained_feature_predict.csv\", index_col=0).merge(\n",
    "    df,\n",
    "    on='id'\n",
    ")\n"
   ]
  },
  {
   "cell_type": "code",
   "execution_count": 3,
   "metadata": {},
   "outputs": [],
   "source": [
    "def siRNA_feat_builder(s: pd.Series, anti: bool = False):\n",
    "    name = \"anti\" if anti else \"sense\"\n",
    "    df = s.to_frame()\n",
    "    df[f\"feat_siRNA_{name}_seq_len\"] = s.str.len()\n",
    "    for pos in [0, -1]:\n",
    "        for c in list(\"AUGC\"):\n",
    "            df[f\"feat_siRNA_{name}_seq_{c}_{'front' if pos == 0 else 'back'}\"] = (\n",
    "                s.str[pos] == c\n",
    "            )\n",
    "    df[f\"feat_siRNA_{name}_seq_pattern_1\"] = s.str.startswith(\"AA\") & s.str.endswith(\n",
    "        \"UU\"\n",
    "    )\n",
    "    df[f\"feat_siRNA_{name}_seq_pattern_2\"] = s.str.startswith(\"GA\") & s.str.endswith(\n",
    "        \"UU\"\n",
    "    )\n",
    "    df[f\"feat_siRNA_{name}_seq_pattern_3\"] = s.str.startswith(\"CA\") & s.str.endswith(\n",
    "        \"UU\"\n",
    "    )\n",
    "    df[f\"feat_siRNA_{name}_seq_pattern_4\"] = s.str.startswith(\"UA\") & s.str.endswith(\n",
    "        \"UU\"\n",
    "    )\n",
    "    df[f\"feat_siRNA_{name}_seq_pattern_5\"] = s.str.startswith(\"UU\") & s.str.endswith(\n",
    "        \"AA\"\n",
    "    )\n",
    "    df[f\"feat_siRNA_{name}_seq_pattern_6\"] = s.str.startswith(\"UU\") & s.str.endswith(\n",
    "        \"GA\"\n",
    "    )\n",
    "    df[f\"feat_siRNA_{name}_seq_pattern_7\"] = s.str.startswith(\"UU\") & s.str.endswith(\n",
    "        \"CA\"\n",
    "    )\n",
    "    df[f\"feat_siRNA_{name}_seq_pattern_8\"] = s.str.startswith(\"UU\") & s.str.endswith(\n",
    "        \"UA\"\n",
    "    )\n",
    "    df[f\"feat_siRNA_{name}_seq_pattern_9\"] = s.str[1] == \"A\"\n",
    "    df[f\"feat_siRNA_{name}_seq_pattern_10\"] = s.str[-2] == \"A\"\n",
    "    df[f\"feat_siRNA_{name}_seq_pattern_GC_ratio_0\"] = (\n",
    "        s.str.count(\"G\") + s.str.count(\"C\")\n",
    "    ) / s.str.len()\n",
    "\n",
    "    df[f\"feat_siRNA_{name}_len_range\"] = (s.str.len() >= 21) & (s.str.len() <= 25)\n",
    "\n",
    "    GC_ratio_1 = (s.str.count(\"G\") + s.str.count(\"C\")) / s.str.len()\n",
    "    df[f\"feat_siRNA_{name}_GC_ratio_1\"] = (GC_ratio_1 >= 0.31) & (GC_ratio_1 <= 0.58)\n",
    "\n",
    "    GC_ratio_2 = (s.str[1:7].str.count(\"G\") + s.str[1:7].str.count(\"C\")) / s.str[1:7].str.len()\n",
    "    df[f\"feat_siRNA_{name}_GC_ratio_2\"] = (GC_ratio_2 == 0.19)\n",
    "\n",
    "    GC_ratio_3 = (s.str[7:18].str.count(\"G\") + s.str[7:18].str.count(\"C\")) / s.str[7:18].str.len()\n",
    "    df[f\"feat_siRNA_{name}_GC_ratio_3\"] = (GC_ratio_3 == 0.52)\n",
    "\n",
    "    return df.iloc[:, 1:]"
   ]
  },
  {
   "cell_type": "code",
   "execution_count": 4,
   "metadata": {},
   "outputs": [
    {
     "name": "stderr",
     "output_type": "stream",
     "text": [
      "/var/folders/94/z__dhs393jv510shwfcr_ysm0000gn/T/ipykernel_5824/3631220643.py:27: FutureWarning: Downcasting object dtype arrays on .fillna, .ffill, .bfill is deprecated and will change in a future version. Call result.infer_objects(copy=False) instead. To opt-in to the future behavior, set `pd.set_option('future.no_silent_downcasting', True)`\n",
      "  (df.cell_line_donor.str.contains(\"Hepatocytes\")).fillna(False).astype(\"int\")\n",
      "/var/folders/94/z__dhs393jv510shwfcr_ysm0000gn/T/ipykernel_5824/3631220643.py:30: FutureWarning: Downcasting object dtype arrays on .fillna, .ffill, .bfill is deprecated and will change in a future version. Call result.infer_objects(copy=False) instead. To opt-in to the future behavior, set `pd.set_option('future.no_silent_downcasting', True)`\n",
      "  df.cell_line_donor.str.contains(\"Cells\").fillna(False).astype(\"int\")\n"
     ]
    }
   ],
   "source": [
    "df_publication_id = pd.get_dummies(df.publication_id)\n",
    "df_publication_id.columns = [\n",
    "    f\"feat_publication_id_{c}\" for c in df_publication_id.columns\n",
    "]\n",
    "df_gene_target_symbol_name = pd.get_dummies(df.gene_target_symbol_name)\n",
    "df_gene_target_symbol_name.columns = [\n",
    "    f\"feat_gene_target_symbol_name_{c}\" for c in df_gene_target_symbol_name.columns\n",
    "]\n",
    "df_gene_target_ncbi_id = pd.get_dummies(df.gene_target_ncbi_id)\n",
    "df_gene_target_ncbi_id.columns = [\n",
    "    f\"feat_gene_target_ncbi_id_{c}\" for c in df_gene_target_ncbi_id.columns\n",
    "]\n",
    "df_gene_target_species = pd.get_dummies(df.gene_target_species)\n",
    "df_gene_target_species.columns = [\n",
    "    f\"feat_gene_target_species_{c}\" for c in df_gene_target_species.columns\n",
    "]\n",
    "siRNA_duplex_id_values = df.siRNA_duplex_id.str.split(\"-|\\.\").str[1].astype(\"int\")\n",
    "siRNA_duplex_id_values = (siRNA_duplex_id_values - siRNA_duplex_id_values.min()) / (\n",
    "    siRNA_duplex_id_values.max() - siRNA_duplex_id_values.min()\n",
    ")\n",
    "df_siRNA_duplex_id = pd.DataFrame(siRNA_duplex_id_values)\n",
    "df_cell_line_donor = pd.get_dummies(df.cell_line_donor)\n",
    "df_cell_line_donor.columns = [\n",
    "    f\"feat_cell_line_donor_{c}\" for c in df_cell_line_donor.columns\n",
    "]\n",
    "df_cell_line_donor[\"feat_cell_line_donor_hepatocytes\"] = (\n",
    "    (df.cell_line_donor.str.contains(\"Hepatocytes\")).fillna(False).astype(\"int\")\n",
    ")\n",
    "df_cell_line_donor[\"feat_cell_line_donor_cells\"] = (\n",
    "    df.cell_line_donor.str.contains(\"Cells\").fillna(False).astype(\"int\")\n",
    ")\n",
    "df_siRNA_concentration = df.siRNA_concentration.to_frame()\n",
    "df_Transfection_method = pd.get_dummies(df.Transfection_method)\n",
    "df_Transfection_method.columns = [\n",
    "    f\"feat_Transfection_method_{c}\" for c in df_Transfection_method.columns\n",
    "]\n",
    "df_Duration_after_transfection_h = pd.get_dummies(df.Duration_after_transfection_h)\n",
    "df_Duration_after_transfection_h.columns = [\n",
    "    f\"feat_Duration_after_transfection_h_{c}\"\n",
    "    for c in df_Duration_after_transfection_h.columns\n",
    "]\n",
    "\n",
    "df_GRU_pred = df[['GRU_predict']]\n",
    "df_pretrained_pred = df[['Pretrained_feature_predict']]\n",
    "# df_RiNALMo = df[[x for x in df.columns if 'RiNALMo_feature' in x]]\n",
    "# df_mRNAFM = df[[x for x in df.columns if 'mRNAFM_feature' in x]]\n",
    "\n",
    "feats = pd.concat(\n",
    "    [\n",
    "        df_publication_id,\n",
    "        df_gene_target_symbol_name,\n",
    "        df_gene_target_ncbi_id,\n",
    "        df_gene_target_species,\n",
    "        df_siRNA_duplex_id,\n",
    "        df_cell_line_donor,\n",
    "        df_siRNA_concentration,\n",
    "        df_Transfection_method,\n",
    "        df_Duration_after_transfection_h,\n",
    "        siRNA_feat_builder(df.siRNA_sense_seq, False),\n",
    "        siRNA_feat_builder(df.siRNA_antisense_seq, True),\n",
    "        df_GRU_pred,\n",
    "        # df_RiNALMo,\n",
    "        # df_mRNAFM,\n",
    "        df_pretrained_pred,\n",
    "        df.iloc[:, -1].to_frame(),\n",
    "    ],\n",
    "    axis=1,\n",
    ")"
   ]
  },
  {
   "cell_type": "code",
   "execution_count": 5,
   "metadata": {},
   "outputs": [
    {
     "data": {
      "text/plain": [
       "(30656, 213)"
      ]
     },
     "execution_count": 5,
     "metadata": {},
     "output_type": "execute_result"
    }
   ],
   "source": [
    "feats.shape\n"
   ]
  },
  {
   "cell_type": "code",
   "execution_count": 6,
   "metadata": {},
   "outputs": [],
   "source": [
    "import lightgbm as lgb\n",
    "from sklearn.model_selection import train_test_split, GridSearchCV\n",
    "from sklearn.metrics import mean_squared_error\n",
    "import numpy as np\n",
    "\n",
    "features = feats.iloc[:n_original, :-1]\n",
    "targets = feats.iloc[:n_original, -1]\n",
    "X_train, X_test, y_train, y_test = train_test_split(\n",
    "    features,\n",
    "    targets,\n",
    "    test_size=0.2,\n",
    "    random_state=42,\n",
    ")\n"
   ]
  },
  {
   "cell_type": "code",
   "execution_count": null,
   "metadata": {},
   "outputs": [],
   "source": [
    "####################################\n",
    "# Variable importance\n",
    "####################################\n",
    "from sklearn.ensemble import RandomForestRegressor\n",
    "from sklearn.inspection import permutation_importance\n",
    "\n",
    "RF_model = RandomForestRegressor(n_estimators=300)\n",
    "RF_model.fit(X_train, y_train)\n",
    "VI = permutation_importance(\n",
    "    RF_model,\n",
    "    X_test,\n",
    "    y_test,\n",
    "    n_repeats=10\n",
    ")\n",
    "VI_threshold = sorted(VI.importances_mean, reverse=True)[210]\n",
    "selected_variables = X_train.columns[VI.importances_mean>VI_threshold]\n",
    "print(len(selected_variables))\n"
   ]
  },
  {
   "cell_type": "code",
   "execution_count": null,
   "metadata": {},
   "outputs": [],
   "source": [
    "\n",
    "set( X_train.columns ) - set(selected_variables)\n"
   ]
  },
  {
   "cell_type": "code",
   "execution_count": null,
   "metadata": {},
   "outputs": [],
   "source": []
  },
  {
   "cell_type": "code",
   "execution_count": null,
   "metadata": {},
   "outputs": [],
   "source": [
    "print(np.sum(y_train>100))\n",
    "y_train[y_train>100] = 100\n",
    "y_train[y_train<0] = 0\n"
   ]
  },
  {
   "cell_type": "code",
   "execution_count": null,
   "metadata": {},
   "outputs": [],
   "source": [
    "from siRNA_fun import calculate_validation_score, custom_scorer, calculate_validation_score_for_training, Get_sample_weight\n",
    "\n",
    "train_data = lgb.Dataset(X_train[selected_variables], label=y_train, weight=Get_sample_weight(y_train))\n",
    "test_data = lgb.Dataset(X_test[selected_variables], label=y_test, reference=train_data, weight=Get_sample_weight(y_test))\n"
   ]
  },
  {
   "cell_type": "code",
   "execution_count": null,
   "metadata": {},
   "outputs": [],
   "source": [
    "\n",
    "# 定义一个回调函数来打印验证集的结果\n",
    "def print_validation_result(env):\n",
    "    result = env.evaluation_result_list[-1]\n",
    "    print(f\"[{env.iteration}] {result[1]}'s {result[0]}: {result[2]}\")\n",
    "\n",
    "# saved best parameters to improve testing efficiency\n",
    "best_params = {\n",
    "    \"boosting_type\": \"gbdt\",\n",
    "    \"objective\": \"regression\",\n",
    "    \"metric\": \"None\",\n",
    "    \"bagging_fraction\": 0.8,\n",
    "    \"bagging_freq\": 5,\n",
    "    \"feature_fraction\": 0.9,\n",
    "    \"learning_rate\": 0.02,\n",
    "    \"max_depth\": 9,\n",
    "    \"num_leaves\": 127,\n",
    "    \"min_child_samples\": 20,\n",
    "}\n",
    "\n",
    "\n",
    "best_gbm = lgb.train(\n",
    "    best_params,\n",
    "    train_data,\n",
    "    num_boost_round=30000,\n",
    "    feval=calculate_validation_score_for_training,\n",
    "    valid_sets=[train_data, test_data],\n",
    "    callbacks=[\n",
    "        lgb.early_stopping(stopping_rounds=5000),\n",
    "        print_validation_result\n",
    "    ]\n",
    ")\n",
    "\n",
    "# Final Evaluation\n",
    "y_pred_best = best_gbm.predict(X_test[selected_variables], num_iteration=best_gbm.best_iteration)\n",
    "rmse_best = np.sqrt(mean_squared_error(y_test, y_pred_best))\n",
    "print(f'Validation RMSE after tuning: {rmse_best}')\n",
    "\n",
    "# Validation RMSE after tuning: 18.90719098159109\n",
    "# Validation RMSE after tuning: 17.596051101784145\n"
   ]
  },
  {
   "cell_type": "code",
   "execution_count": null,
   "metadata": {},
   "outputs": [],
   "source": [
    "X_all = features[selected_variables]\n",
    "y_all = targets\n",
    "y_all[y_all>100] = 100\n",
    "y_all[y_all<0] = 0\n",
    "\n",
    "all_data = lgb.Dataset(X_all, label=y_all, weight=Get_sample_weight(y_all))\n",
    "best_model = lgb.train(\n",
    "    best_params,\n",
    "    all_data,\n",
    "    num_boost_round=4243\n",
    ")\n"
   ]
  },
  {
   "cell_type": "code",
   "execution_count": null,
   "metadata": {},
   "outputs": [],
   "source": [
    "eval_data = feats.iloc[n_original:, :-1]\n",
    "y_pred = best_gbm.predict(eval_data[selected_variables])\n",
    "y_pred[y_pred>100] = 100\n",
    "y_pred[y_pred<0] = 0\n",
    "\n",
    "df_submit[\"mRNA_remaining_pct\"] = y_pred\n",
    "df_submit.to_csv(\"../submission.csv\", index=False)\n",
    "\n",
    "\n"
   ]
  },
  {
   "cell_type": "code",
   "execution_count": null,
   "metadata": {},
   "outputs": [],
   "source": [
    "from sklearn.metrics import f1_score\n",
    "\n",
    "f1_score(y_test<30, y_pred_best<30)\n",
    "\n"
   ]
  },
  {
   "cell_type": "code",
   "execution_count": null,
   "metadata": {},
   "outputs": [],
   "source": []
  },
  {
   "cell_type": "code",
   "execution_count": null,
   "metadata": {},
   "outputs": [],
   "source": []
  },
  {
   "cell_type": "code",
   "execution_count": null,
   "metadata": {},
   "outputs": [],
   "source": []
  },
  {
   "cell_type": "code",
   "execution_count": null,
   "metadata": {},
   "outputs": [],
   "source": []
  }
 ],
 "metadata": {
  "kernelspec": {
   "display_name": "Python 3 (ipykernel)",
   "language": "python",
   "name": "python3"
  },
  "language_info": {
   "codemirror_mode": {
    "name": "ipython",
    "version": 3
   },
   "file_extension": ".py",
   "mimetype": "text/x-python",
   "name": "python",
   "nbconvert_exporter": "python",
   "pygments_lexer": "ipython3",
   "version": "3.11.7"
  }
 },
 "nbformat": 4,
 "nbformat_minor": 4
}
