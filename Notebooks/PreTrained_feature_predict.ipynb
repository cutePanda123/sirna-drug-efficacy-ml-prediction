{
 "cells": [
  {
   "cell_type": "code",
   "execution_count": null,
   "id": "e26fcd98-aa59-4bd3-bfb8-1a0e6c3f0b4d",
   "metadata": {},
   "outputs": [],
   "source": [
    "import pandas as pd\n",
    "import numpy as np\n",
    "import torch\n",
    "from torch import nn\n",
    "from torch.utils.data import TensorDataset, DataLoader\n"
   ]
  },
  {
   "cell_type": "code",
   "execution_count": null,
   "id": "7169b236-1e62-4e2f-86a9-2cbf70bbd896",
   "metadata": {},
   "outputs": [],
   "source": [
    "df_original = pd.read_csv(\"../train_data.csv\")\n",
    "n_original = df_original.shape[0]\n",
    "df_submit = pd.read_csv(\"../sample_submission.csv\")\n",
    "df = pd.concat([df_original, df_submit], axis=0).reset_index(drop=True)\n",
    "\n",
    "# Features from RiNALMo model\n",
    "df = pd.read_csv(\"../mrnafm_features.csv\", index_col=0).merge(\n",
    "    df,\n",
    "    on='id'\n",
    ")\n",
    "\n",
    "# Features from RiNALMo model\n",
    "df = pd.read_csv(\"../RiNalMo_features.csv\", index_col=0).merge(\n",
    "    df,\n",
    "    on='id'\n",
    ")\n",
    "\n",
    "col_names = ['RiNALMo_feature_'+str(i) for i in range(1, 1281)] + ['mRNAFM_feature_'+str(i) for i in range(1,9)]\n",
    "\n",
    "X = torch.tensor(df[col_names].values).float()\n",
    "Y = torch.tensor(df[['mRNA_remaining_pct']].values).float()\n",
    "\n",
    "X_train = X[:20000,:]\n",
    "Y_train = Y[:20000,:]\n",
    "X_valid = X[20000:n_original,:]\n",
    "Y_valid = Y[20000:n_original,:]\n",
    "X_test = X[n_original:,:]\n",
    "Y_test = Y[n_original:,:]\n"
   ]
  },
  {
   "cell_type": "code",
   "execution_count": null,
   "id": "f448b3a8-f5f5-4911-8c34-d3cbc2b6a6d0",
   "metadata": {},
   "outputs": [],
   "source": [
    "class NNmodel(nn.Module):\n",
    "    def __init__(self, input_dim, hidden_dim=50):\n",
    "        super().__init__()\n",
    "        self.linear1 = nn.Linear(input_dim, hidden_dim)\n",
    "        self.linear2 = nn.Linear(hidden_dim, 1)\n",
    "        self.relu = nn.ReLU()\n",
    "    def forward(self, x):\n",
    "        x = self.linear1(x)\n",
    "        x = self.relu(x)\n",
    "        pred = self.linear2(x)\n",
    "        return(pred)\n",
    "\n",
    "def trainer(model, loss_fn, optimizer, train_loader, test_loader=None, n_epochs=50):\n",
    "    for epoch in range(n_epochs):\n",
    "        model.train()\n",
    "        for X_temp, Y_temp in train_loader:\n",
    "            Y_pred = model(X_temp)\n",
    "            loss = loss_fn(Y_pred, Y_temp)\n",
    "            \n",
    "            optimizer.zero_grad()\n",
    "            loss.backward()\n",
    "            optimizer.step()\n",
    "        if test_loader and epoch % 5 == 0:\n",
    "            model.eval()\n",
    "            loss_test = 0\n",
    "            n_sample = 0\n",
    "            for X_temp, Y_temp in test_loader:\n",
    "                Y_pred = model(X_temp)\n",
    "                loss = loss_fn(Y_pred, Y_temp)\n",
    "                loss_test = loss_test + loss.item()\n",
    "                n_sample = n_sample + X_temp.shape[0]\n",
    "            print('Epoch '+str(epoch) +', Validation Loss = ' + str(loss_test/n_sample))\n",
    "\n",
    "# torch.sqrt(torch.mean((torch.mean(Y_train)-Y_valid)**2))\n"
   ]
  },
  {
   "cell_type": "code",
   "execution_count": null,
   "id": "79796f4e-962b-4447-bff9-fbf0a9a3fce9",
   "metadata": {},
   "outputs": [],
   "source": [
    "model = NNmodel(\n",
    "    input_dim = X.shape[1],\n",
    "    hidden_dim = 4\n",
    ")\n",
    "\n",
    "loss_fn = torch.nn.MSELoss()\n",
    "optimizer = torch.optim.Adam(model.parameters())\n",
    "\n",
    "train_dataloader = DataLoader(TensorDataset(X_train, Y_train), batch_size=50)\n",
    "valid_dataloader = DataLoader(TensorDataset(X_valid, Y_valid), batch_size=50)\n"
   ]
  },
  {
   "cell_type": "code",
   "execution_count": null,
   "id": "9def3a2c-831d-419b-84d6-5c7fb3ba85e6",
   "metadata": {},
   "outputs": [],
   "source": [
    "trainer(model, loss_fn, optimizer, train_dataloader, valid_dataloader, n_epochs=100)\n"
   ]
  },
  {
   "cell_type": "code",
   "execution_count": null,
   "id": "cf00b680-81f6-4617-bbe4-d308287b6faa",
   "metadata": {},
   "outputs": [],
   "source": []
  },
  {
   "cell_type": "code",
   "execution_count": null,
   "id": "16d69580-ce79-476a-ad8d-8f11fd87c2fa",
   "metadata": {},
   "outputs": [],
   "source": [
    "X_train = X[:n_original,:]\n",
    "Y_train = Y[:n_original,:]\n",
    "\n",
    "model = NNmodel(\n",
    "    input_dim = X.shape[1],\n",
    "    hidden_dim = 4\n",
    ")\n",
    "\n",
    "loss_fn = torch.nn.MSELoss()\n",
    "optimizer = torch.optim.Adam(model.parameters())\n",
    "\n",
    "train_dataloader = DataLoader(TensorDataset(X_train, Y_train), batch_size=50)\n",
    "\n",
    "trainer(model, loss_fn, optimizer, train_dataloader, n_epochs=100)\n",
    "\n"
   ]
  },
  {
   "cell_type": "code",
   "execution_count": null,
   "id": "b49d9e5e-655b-4039-8387-57a0b676c3ec",
   "metadata": {},
   "outputs": [],
   "source": [
    "\n",
    "Y_pred = model(X)\n"
   ]
  },
  {
   "cell_type": "code",
   "execution_count": null,
   "id": "adfd19dd-2d45-4565-b224-59cfaf2b9c5a",
   "metadata": {},
   "outputs": [],
   "source": [
    "with torch.no_grad():\n",
    "    temp = pd.DataFrame( Y_pred.numpy(), columns=['Pretrained_feature_predict'] )\n",
    "temp['id'] = df['id']\n"
   ]
  },
  {
   "cell_type": "code",
   "execution_count": null,
   "id": "fe6beed5-74cd-414e-82eb-5f14b6758d50",
   "metadata": {},
   "outputs": [],
   "source": [
    "temp.to_csv('../pretrained_feature_predict.csv')"
   ]
  },
  {
   "cell_type": "code",
   "execution_count": null,
   "id": "da3ebba5-8f3c-4edc-ac34-d11882ce577e",
   "metadata": {},
   "outputs": [],
   "source": []
  },
  {
   "cell_type": "code",
   "execution_count": null,
   "id": "7086dae3-82d5-4cbb-8245-e41a4497808f",
   "metadata": {},
   "outputs": [],
   "source": []
  }
 ],
 "metadata": {
  "kernelspec": {
   "display_name": "Python 3 (ipykernel)",
   "language": "python",
   "name": "python3"
  },
  "language_info": {
   "codemirror_mode": {
    "name": "ipython",
    "version": 3
   },
   "file_extension": ".py",
   "mimetype": "text/x-python",
   "name": "python",
   "nbconvert_exporter": "python",
   "pygments_lexer": "ipython3",
   "version": "3.11.7"
  }
 },
 "nbformat": 4,
 "nbformat_minor": 5
}
