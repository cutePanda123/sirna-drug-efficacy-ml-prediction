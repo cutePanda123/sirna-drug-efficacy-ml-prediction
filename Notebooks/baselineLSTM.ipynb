{
 "cells": [
  {
   "cell_type": "code",
   "execution_count": 67,
   "id": "dad37069-2a81-4810-9d15-0f5a3e8e8190",
   "metadata": {},
   "outputs": [],
   "source": [
    "import torch\n",
    "import torch.nn as nn\n",
    "import torch.optim as optim\n",
    "from torch.utils.data import Dataset, DataLoader\n",
    "import pandas as pd\n",
    "import numpy as np\n",
    "from sklearn.model_selection import train_test_split\n",
    "from tqdm import tqdm\n",
    "from collections import Counter\n",
    "from rich import print\n",
    "from sklearn.metrics import precision_score, recall_score, mean_absolute_error\n"
   ]
  },
  {
   "cell_type": "code",
   "execution_count": 97,
   "id": "ca8cdcc0-520c-4f09-af0e-ed8b5f29c131",
   "metadata": {},
   "outputs": [],
   "source": [
    "\n",
    "class GenomicTokenizer:\n",
    "    def __init__(self, ngram=5, stride=2):\n",
    "        self.ngram = ngram\n",
    "        self.stride = stride\n",
    "        \n",
    "    def tokenize(self, t):\n",
    "        t = t.upper()\n",
    "        if self.ngram == 1:\n",
    "            toks = list(t)\n",
    "        else:\n",
    "            toks = [t[i:i+self.ngram] for i in range(0, len(t), self.stride) if len(t[i:i+self.ngram]) == self.ngram]\n",
    "        if len(toks[-1]) < self.ngram:\n",
    "            toks = toks[:-1]\n",
    "        return toks\n",
    "\n",
    "\n",
    "class GenomicVocab:\n",
    "    def __init__(self, itos):\n",
    "        self.itos = itos\n",
    "        self.stoi = {v:k for k,v in enumerate(self.itos)}\n",
    "        \n",
    "    @classmethod\n",
    "    def create(cls, tokens, max_vocab, min_freq):\n",
    "        freq = Counter(tokens)\n",
    "        itos = ['<pad>'] + [o for o,c in freq.most_common(max_vocab-1) if c >= min_freq]\n",
    "        return cls(itos)\n",
    "\n",
    "\n",
    "class SiRNADataset(Dataset):\n",
    "    def __init__(self, df, columns, vocab, tokenizer, max_len):\n",
    "        self.df = df\n",
    "        self.columns = columns\n",
    "        self.vocab = vocab\n",
    "        self.tokenizer = tokenizer\n",
    "        self.max_len = max_len\n",
    "\n",
    "    def __len__(self):\n",
    "        return len(self.df)\n",
    "\n",
    "    def __getitem__(self, idx):\n",
    "        row = self.df.iloc[idx]\n",
    "        \n",
    "        seqs = [self.tokenize_and_encode(row[col]) for col in self.columns]\n",
    "        target = torch.tensor(row['mRNA_remaining_pct'], dtype=torch.float)\n",
    "\n",
    "        return seqs, target\n",
    "\n",
    "    def tokenize_and_encode(self, seq):\n",
    "        if ' ' in seq:  # Modified sequence\n",
    "            tokens = seq.split()\n",
    "        else:  # Regular sequence\n",
    "            tokens = self.tokenizer.tokenize(seq)\n",
    "        \n",
    "        encoded = [self.vocab.stoi.get(token, 0) for token in tokens]  # Use 0 (pad) for unknown tokens\n",
    "        padded = encoded + [0] * (self.max_len - len(encoded))\n",
    "        return torch.tensor(padded[:self.max_len], dtype=torch.long)\n",
    "\n"
   ]
  },
  {
   "cell_type": "code",
   "execution_count": 98,
   "id": "9781f900-0f79-4e73-8381-23b49b0ef3e1",
   "metadata": {},
   "outputs": [],
   "source": [
    "\n",
    "class SiRNAModel(nn.Module):\n",
    "    def __init__(self, vocab_size, embed_dim=200, hidden_dim=256, n_layers=3, dropout=0.2):\n",
    "        super(SiRNAModel, self).__init__()\n",
    "        \n",
    "        self.embedding = nn.Embedding(vocab_size, embed_dim, padding_idx=0)\n",
    "        self.lstm = nn.LSTM(embed_dim, hidden_dim, n_layers, bidirectional=True, batch_first=True, dropout=dropout)\n",
    "        self.attention = nn.Linear(hidden_dim * 2, 1)\n",
    "        self.fc = nn.Linear(hidden_dim * 4, 1)\n",
    "        self.dropout = nn.Dropout(dropout)\n",
    "        self.layer_norm = nn.LayerNorm(hidden_dim * 4)\n",
    "    \n",
    "    def forward(self, x):\n",
    "        embedded = [self.embedding(seq) for seq in x]\n",
    "        outputs = []\n",
    "        for embed in embedded:\n",
    "            x, _ = self.lstm(embed)\n",
    "            \n",
    "            # Apply attention\n",
    "            attn_weights = torch.softmax(self.attention(x), dim=1)\n",
    "            x = torch.sum(attn_weights * x, dim=1)  # Apply attention weights\n",
    "            \n",
    "            x = self.dropout(x)  # Dropout on the attended output\n",
    "            outputs.append(x)\n",
    "        \n",
    "        x = torch.cat(outputs, dim=1)\n",
    "        x = self.layer_norm(x)\n",
    "        x = self.fc(x)\n",
    "        return x.squeeze()\n",
    "\n",
    "\n",
    "def calculate_metrics(y_true, y_pred, threshold=30):\n",
    "    mae = np.mean(np.abs(y_true - y_pred))\n",
    "\n",
    "    y_true_binary = (y_true < threshold).astype(int)\n",
    "    y_pred_binary = (y_pred < threshold).astype(int)\n",
    "\n",
    "    mask = (y_pred >= 0) & (y_pred <= threshold)\n",
    "    range_mae = mean_absolute_error(y_true[mask], y_pred[mask]) if mask.sum() > 0 else 100\n",
    "\n",
    "    precision = precision_score(y_true_binary, y_pred_binary, average='binary')\n",
    "    recall = recall_score(y_true_binary, y_pred_binary, average='binary')\n",
    "    f1 = 2 * precision * recall / (precision + recall)\n",
    "    score = (1 - mae / 100) * 0.5 + (1 - range_mae / 100) * f1 * 0.5\n",
    "    return score\n",
    "\n",
    "\n",
    "\n",
    "def train_model(model, train_loader, val_loader, criterion, optimizer, num_epochs=50, device='cuda'):\n",
    "    model.to(device)\n",
    "    best_score = -float('inf')\n",
    "    best_model = None\n",
    "\n",
    "    for epoch in range(num_epochs):\n",
    "        model.train()\n",
    "        train_loss = 0\n",
    "        for inputs, targets in tqdm(train_loader, desc=f'Epoch {epoch+1}/{num_epochs}'):\n",
    "            inputs = [x.to(device) for x in inputs]\n",
    "            targets = targets.to(device)\n",
    "            \n",
    "            optimizer.zero_grad()\n",
    "            outputs = model(inputs)\n",
    "            loss = criterion(outputs, targets)\n",
    "            loss.backward()\n",
    "            optimizer.step()\n",
    "            \n",
    "            train_loss += loss.item()\n",
    "        \n",
    "        model.eval()\n",
    "        val_loss = 0\n",
    "        val_preds = []\n",
    "        val_targets = []\n",
    "\n",
    "        with torch.no_grad():\n",
    "            for inputs, targets in val_loader:\n",
    "                inputs = [x.to(device) for x in inputs]\n",
    "                targets = targets.to(device)\n",
    "                outputs = model(inputs)\n",
    "                loss = criterion(outputs, targets)\n",
    "                val_loss += loss.item()\n",
    "                val_preds.extend(outputs.cpu().numpy())\n",
    "                val_targets.extend(targets.cpu().numpy())\n",
    "        \n",
    "        train_loss /= len(train_loader)\n",
    "        val_loss /= len(val_loader)\n",
    "        \n",
    "        val_preds = np.array(val_preds)\n",
    "        val_targets = np.array(val_targets)\n",
    "        score = calculate_metrics(val_targets, val_preds)\n",
    "        \n",
    "        print(f'Epoch {epoch+1}/{num_epochs}')\n",
    "        print(f'Train Loss: {train_loss:.4f}, Val Loss: {val_loss:.4f}')\n",
    "        print(f'Learning Rate: {optimizer.param_groups[0][\"lr\"]:.6f}')\n",
    "        print(f'Validation Score: {score:.4f}')\n",
    "\n",
    "        if score > best_score:\n",
    "            best_score = score\n",
    "            best_model = model.state_dict().copy()\n",
    "            print(f'New best model found with socre: {best_score:.4f}')\n",
    "\n",
    "    return best_model\n",
    "\n",
    "def evaluate_model(model, test_loader, device='cuda'):\n",
    "    model.eval()\n",
    "    predictions = []\n",
    "    targets = []\n",
    "    \n",
    "    with torch.no_grad():\n",
    "        for inputs, target in test_loader:\n",
    "            inputs = [x.to(device) for x in inputs]\n",
    "            outputs = model(inputs)\n",
    "            predictions.extend(outputs.cpu().numpy())\n",
    "            targets.extend(target.numpy())\n",
    "\n",
    "    y_pred = np.array(predictions)\n",
    "    y_test = np.array(targets)\n",
    "    \n",
    "    score = calculate_metrics(y_test, y_pred)\n",
    "    print(f\"Test Score: {score:.4f}\")\n",
    "\n"
   ]
  },
  {
   "cell_type": "code",
   "execution_count": 99,
   "id": "777a69f5-a808-48bf-a3fc-2be22197b56e",
   "metadata": {},
   "outputs": [],
   "source": [
    "\n",
    "device = 'cuda' if torch.cuda.is_available() else 'cpu'\n",
    "\n",
    "# Load data\n",
    "train_data = pd.read_csv('train_data.csv')\n",
    "columns = ['siRNA_antisense_seq', 'modified_siRNA_antisense_seq_list']\n",
    "\n",
    "train_data.dropna(subset=columns + ['mRNA_remaining_pct'], inplace=True)\n",
    "train_data, val_data = train_test_split(train_data, test_size=0.1, random_state=42)\n",
    "\n",
    "# Create vocabulary\n",
    "tokenizer = GenomicTokenizer(ngram=9, stride=2)\n",
    "\n",
    "all_tokens = []\n",
    "for col in columns:\n",
    "    for seq in train_data[col]:\n",
    "        if ' ' in seq:  # Modified sequence\n",
    "            all_tokens.extend(seq.split())\n",
    "        else:\n",
    "            all_tokens.extend(tokenizer.tokenize(seq))\n",
    "vocab = GenomicVocab.create(all_tokens, max_vocab=10000, min_freq=1)\n",
    "\n",
    "# Find max sequence length (==25 in this case)\n",
    "max_len = max(max(len(seq.split()) if ' ' in seq else len(tokenizer.tokenize(seq)) \n",
    "                    for seq in train_data[col]) for col in columns)\n"
   ]
  },
  {
   "cell_type": "code",
   "execution_count": 102,
   "id": "853f8606-9040-4f46-b9cd-8c44f9ee229a",
   "metadata": {},
   "outputs": [],
   "source": [
    "\n",
    "# Create datasets\n",
    "train_dataset = SiRNADataset(train_data, columns, vocab, tokenizer, max_len)\n",
    "val_dataset = SiRNADataset(val_data, columns, vocab, tokenizer, max_len)\n",
    "\n",
    "# Create data loaders\n",
    "train_loader = DataLoader(train_dataset, batch_size=32, shuffle=True)\n",
    "val_loader = DataLoader(val_dataset, batch_size=32)\n",
    "\n",
    "\n",
    "# Initialize model\n",
    "model = SiRNAModel(len(vocab.itos))\n",
    "criterion = nn.MSELoss()\n",
    "optimizer = optim.Adam(model.parameters(), lr=0.002)\n"
   ]
  },
  {
   "cell_type": "code",
   "execution_count": 103,
   "id": "629efde7-2de8-42d9-a6fb-e6804129e454",
   "metadata": {},
   "outputs": [
    {
     "name": "stderr",
     "output_type": "stream",
     "text": [
      "Epoch 1/50: 100%|████████████████████████████████████████████████████████████████████████████████████████████████████████████████████████████████████████████████████| 726/726 [01:54<00:00,  6.37it/s]\n",
      "/Users/shujchen/miniconda3/envs/Py39/lib/python3.9/site-packages/sklearn/metrics/_classification.py:1509: UndefinedMetricWarning: Precision is ill-defined and being set to 0.0 due to no predicted samples. Use `zero_division` parameter to control this behavior.\n",
      "  _warn_prf(average, modifier, f\"{metric.capitalize()} is\", len(result))\n",
      "/var/folders/3w/gvtgv50554qb726ctxvn8glh0000gq/T/ipykernel_54282/774448480.py:42: RuntimeWarning: invalid value encountered in scalar divide\n",
      "  f1 = 2 * precision * recall / (precision + recall)\n"
     ]
    },
    {
     "data": {
      "text/html": [
       "<pre style=\"white-space:pre;overflow-x:auto;line-height:normal;font-family:Menlo,'DejaVu Sans Mono',consolas,'Courier New',monospace\">Epoch <span style=\"color: #008080; text-decoration-color: #008080; font-weight: bold\">1</span>/<span style=\"color: #008080; text-decoration-color: #008080; font-weight: bold\">50</span>\n",
       "</pre>\n"
      ],
      "text/plain": [
       "Epoch \u001b[1;36m1\u001b[0m/\u001b[1;36m50\u001b[0m\n"
      ]
     },
     "metadata": {},
     "output_type": "display_data"
    },
    {
     "data": {
      "text/html": [
       "<pre style=\"white-space:pre;overflow-x:auto;line-height:normal;font-family:Menlo,'DejaVu Sans Mono',consolas,'Courier New',monospace\">Train Loss: <span style=\"color: #008080; text-decoration-color: #008080; font-weight: bold\">1286.7661</span>, Val Loss: <span style=\"color: #008080; text-decoration-color: #008080; font-weight: bold\">1287.1194</span>\n",
       "</pre>\n"
      ],
      "text/plain": [
       "Train Loss: \u001b[1;36m1286.7661\u001b[0m, Val Loss: \u001b[1;36m1287.1194\u001b[0m\n"
      ]
     },
     "metadata": {},
     "output_type": "display_data"
    },
    {
     "data": {
      "text/html": [
       "<pre style=\"white-space:pre;overflow-x:auto;line-height:normal;font-family:Menlo,'DejaVu Sans Mono',consolas,'Courier New',monospace\">Learning Rate: <span style=\"color: #008080; text-decoration-color: #008080; font-weight: bold\">0.002000</span>\n",
       "</pre>\n"
      ],
      "text/plain": [
       "Learning Rate: \u001b[1;36m0.002000\u001b[0m\n"
      ]
     },
     "metadata": {},
     "output_type": "display_data"
    },
    {
     "data": {
      "text/html": [
       "<pre style=\"white-space:pre;overflow-x:auto;line-height:normal;font-family:Menlo,'DejaVu Sans Mono',consolas,'Courier New',monospace\">Validation Score: nan\n",
       "</pre>\n"
      ],
      "text/plain": [
       "Validation Score: nan\n"
      ]
     },
     "metadata": {},
     "output_type": "display_data"
    },
    {
     "name": "stderr",
     "output_type": "stream",
     "text": [
      "Epoch 2/50: 100%|████████████████████████████████████████████████████████████████████████████████████████████████████████████████████████████████████████████████████| 726/726 [01:53<00:00,  6.37it/s]\n"
     ]
    },
    {
     "data": {
      "text/html": [
       "<pre style=\"white-space:pre;overflow-x:auto;line-height:normal;font-family:Menlo,'DejaVu Sans Mono',consolas,'Courier New',monospace\">Epoch <span style=\"color: #008080; text-decoration-color: #008080; font-weight: bold\">2</span>/<span style=\"color: #008080; text-decoration-color: #008080; font-weight: bold\">50</span>\n",
       "</pre>\n"
      ],
      "text/plain": [
       "Epoch \u001b[1;36m2\u001b[0m/\u001b[1;36m50\u001b[0m\n"
      ]
     },
     "metadata": {},
     "output_type": "display_data"
    },
    {
     "data": {
      "text/html": [
       "<pre style=\"white-space:pre;overflow-x:auto;line-height:normal;font-family:Menlo,'DejaVu Sans Mono',consolas,'Courier New',monospace\">Train Loss: <span style=\"color: #008080; text-decoration-color: #008080; font-weight: bold\">1135.5087</span>, Val Loss: <span style=\"color: #008080; text-decoration-color: #008080; font-weight: bold\">1082.7610</span>\n",
       "</pre>\n"
      ],
      "text/plain": [
       "Train Loss: \u001b[1;36m1135.5087\u001b[0m, Val Loss: \u001b[1;36m1082.7610\u001b[0m\n"
      ]
     },
     "metadata": {},
     "output_type": "display_data"
    },
    {
     "data": {
      "text/html": [
       "<pre style=\"white-space:pre;overflow-x:auto;line-height:normal;font-family:Menlo,'DejaVu Sans Mono',consolas,'Courier New',monospace\">Learning Rate: <span style=\"color: #008080; text-decoration-color: #008080; font-weight: bold\">0.002000</span>\n",
       "</pre>\n"
      ],
      "text/plain": [
       "Learning Rate: \u001b[1;36m0.002000\u001b[0m\n"
      ]
     },
     "metadata": {},
     "output_type": "display_data"
    },
    {
     "data": {
      "text/html": [
       "<pre style=\"white-space:pre;overflow-x:auto;line-height:normal;font-family:Menlo,'DejaVu Sans Mono',consolas,'Courier New',monospace\">Validation Score: <span style=\"color: #008080; text-decoration-color: #008080; font-weight: bold\">0.4837</span>\n",
       "</pre>\n"
      ],
      "text/plain": [
       "Validation Score: \u001b[1;36m0.4837\u001b[0m\n"
      ]
     },
     "metadata": {},
     "output_type": "display_data"
    },
    {
     "data": {
      "text/html": [
       "<pre style=\"white-space:pre;overflow-x:auto;line-height:normal;font-family:Menlo,'DejaVu Sans Mono',consolas,'Courier New',monospace\">New best model found with socre: <span style=\"color: #008080; text-decoration-color: #008080; font-weight: bold\">0.4837</span>\n",
       "</pre>\n"
      ],
      "text/plain": [
       "New best model found with socre: \u001b[1;36m0.4837\u001b[0m\n"
      ]
     },
     "metadata": {},
     "output_type": "display_data"
    },
    {
     "name": "stderr",
     "output_type": "stream",
     "text": [
      "Epoch 3/50: 100%|████████████████████████████████████████████████████████████████████████████████████████████████████████████████████████████████████████████████████| 726/726 [01:54<00:00,  6.36it/s]\n"
     ]
    },
    {
     "data": {
      "text/html": [
       "<pre style=\"white-space:pre;overflow-x:auto;line-height:normal;font-family:Menlo,'DejaVu Sans Mono',consolas,'Courier New',monospace\">Epoch <span style=\"color: #008080; text-decoration-color: #008080; font-weight: bold\">3</span>/<span style=\"color: #008080; text-decoration-color: #008080; font-weight: bold\">50</span>\n",
       "</pre>\n"
      ],
      "text/plain": [
       "Epoch \u001b[1;36m3\u001b[0m/\u001b[1;36m50\u001b[0m\n"
      ]
     },
     "metadata": {},
     "output_type": "display_data"
    },
    {
     "data": {
      "text/html": [
       "<pre style=\"white-space:pre;overflow-x:auto;line-height:normal;font-family:Menlo,'DejaVu Sans Mono',consolas,'Courier New',monospace\">Train Loss: <span style=\"color: #008080; text-decoration-color: #008080; font-weight: bold\">957.5020</span>, Val Loss: <span style=\"color: #008080; text-decoration-color: #008080; font-weight: bold\">975.7335</span>\n",
       "</pre>\n"
      ],
      "text/plain": [
       "Train Loss: \u001b[1;36m957.5020\u001b[0m, Val Loss: \u001b[1;36m975.7335\u001b[0m\n"
      ]
     },
     "metadata": {},
     "output_type": "display_data"
    },
    {
     "data": {
      "text/html": [
       "<pre style=\"white-space:pre;overflow-x:auto;line-height:normal;font-family:Menlo,'DejaVu Sans Mono',consolas,'Courier New',monospace\">Learning Rate: <span style=\"color: #008080; text-decoration-color: #008080; font-weight: bold\">0.002000</span>\n",
       "</pre>\n"
      ],
      "text/plain": [
       "Learning Rate: \u001b[1;36m0.002000\u001b[0m\n"
      ]
     },
     "metadata": {},
     "output_type": "display_data"
    },
    {
     "data": {
      "text/html": [
       "<pre style=\"white-space:pre;overflow-x:auto;line-height:normal;font-family:Menlo,'DejaVu Sans Mono',consolas,'Courier New',monospace\">Validation Score: <span style=\"color: #008080; text-decoration-color: #008080; font-weight: bold\">0.4566</span>\n",
       "</pre>\n"
      ],
      "text/plain": [
       "Validation Score: \u001b[1;36m0.4566\u001b[0m\n"
      ]
     },
     "metadata": {},
     "output_type": "display_data"
    },
    {
     "name": "stderr",
     "output_type": "stream",
     "text": [
      "Epoch 4/50: 100%|████████████████████████████████████████████████████████████████████████████████████████████████████████████████████████████████████████████████████| 726/726 [01:56<00:00,  6.22it/s]\n"
     ]
    },
    {
     "data": {
      "text/html": [
       "<pre style=\"white-space:pre;overflow-x:auto;line-height:normal;font-family:Menlo,'DejaVu Sans Mono',consolas,'Courier New',monospace\">Epoch <span style=\"color: #008080; text-decoration-color: #008080; font-weight: bold\">4</span>/<span style=\"color: #008080; text-decoration-color: #008080; font-weight: bold\">50</span>\n",
       "</pre>\n"
      ],
      "text/plain": [
       "Epoch \u001b[1;36m4\u001b[0m/\u001b[1;36m50\u001b[0m\n"
      ]
     },
     "metadata": {},
     "output_type": "display_data"
    },
    {
     "data": {
      "text/html": [
       "<pre style=\"white-space:pre;overflow-x:auto;line-height:normal;font-family:Menlo,'DejaVu Sans Mono',consolas,'Courier New',monospace\">Train Loss: <span style=\"color: #008080; text-decoration-color: #008080; font-weight: bold\">856.6428</span>, Val Loss: <span style=\"color: #008080; text-decoration-color: #008080; font-weight: bold\">979.4909</span>\n",
       "</pre>\n"
      ],
      "text/plain": [
       "Train Loss: \u001b[1;36m856.6428\u001b[0m, Val Loss: \u001b[1;36m979.4909\u001b[0m\n"
      ]
     },
     "metadata": {},
     "output_type": "display_data"
    },
    {
     "data": {
      "text/html": [
       "<pre style=\"white-space:pre;overflow-x:auto;line-height:normal;font-family:Menlo,'DejaVu Sans Mono',consolas,'Courier New',monospace\">Learning Rate: <span style=\"color: #008080; text-decoration-color: #008080; font-weight: bold\">0.002000</span>\n",
       "</pre>\n"
      ],
      "text/plain": [
       "Learning Rate: \u001b[1;36m0.002000\u001b[0m\n"
      ]
     },
     "metadata": {},
     "output_type": "display_data"
    },
    {
     "data": {
      "text/html": [
       "<pre style=\"white-space:pre;overflow-x:auto;line-height:normal;font-family:Menlo,'DejaVu Sans Mono',consolas,'Courier New',monospace\">Validation Score: <span style=\"color: #008080; text-decoration-color: #008080; font-weight: bold\">0.4700</span>\n",
       "</pre>\n"
      ],
      "text/plain": [
       "Validation Score: \u001b[1;36m0.4700\u001b[0m\n"
      ]
     },
     "metadata": {},
     "output_type": "display_data"
    },
    {
     "name": "stderr",
     "output_type": "stream",
     "text": [
      "Epoch 5/50: 100%|████████████████████████████████████████████████████████████████████████████████████████████████████████████████████████████████████████████████████| 726/726 [01:54<00:00,  6.36it/s]\n"
     ]
    },
    {
     "data": {
      "text/html": [
       "<pre style=\"white-space:pre;overflow-x:auto;line-height:normal;font-family:Menlo,'DejaVu Sans Mono',consolas,'Courier New',monospace\">Epoch <span style=\"color: #008080; text-decoration-color: #008080; font-weight: bold\">5</span>/<span style=\"color: #008080; text-decoration-color: #008080; font-weight: bold\">50</span>\n",
       "</pre>\n"
      ],
      "text/plain": [
       "Epoch \u001b[1;36m5\u001b[0m/\u001b[1;36m50\u001b[0m\n"
      ]
     },
     "metadata": {},
     "output_type": "display_data"
    },
    {
     "data": {
      "text/html": [
       "<pre style=\"white-space:pre;overflow-x:auto;line-height:normal;font-family:Menlo,'DejaVu Sans Mono',consolas,'Courier New',monospace\">Train Loss: <span style=\"color: #008080; text-decoration-color: #008080; font-weight: bold\">794.0814</span>, Val Loss: <span style=\"color: #008080; text-decoration-color: #008080; font-weight: bold\">926.2779</span>\n",
       "</pre>\n"
      ],
      "text/plain": [
       "Train Loss: \u001b[1;36m794.0814\u001b[0m, Val Loss: \u001b[1;36m926.2779\u001b[0m\n"
      ]
     },
     "metadata": {},
     "output_type": "display_data"
    },
    {
     "data": {
      "text/html": [
       "<pre style=\"white-space:pre;overflow-x:auto;line-height:normal;font-family:Menlo,'DejaVu Sans Mono',consolas,'Courier New',monospace\">Learning Rate: <span style=\"color: #008080; text-decoration-color: #008080; font-weight: bold\">0.002000</span>\n",
       "</pre>\n"
      ],
      "text/plain": [
       "Learning Rate: \u001b[1;36m0.002000\u001b[0m\n"
      ]
     },
     "metadata": {},
     "output_type": "display_data"
    },
    {
     "data": {
      "text/html": [
       "<pre style=\"white-space:pre;overflow-x:auto;line-height:normal;font-family:Menlo,'DejaVu Sans Mono',consolas,'Courier New',monospace\">Validation Score: <span style=\"color: #008080; text-decoration-color: #008080; font-weight: bold\">0.5475</span>\n",
       "</pre>\n"
      ],
      "text/plain": [
       "Validation Score: \u001b[1;36m0.5475\u001b[0m\n"
      ]
     },
     "metadata": {},
     "output_type": "display_data"
    },
    {
     "data": {
      "text/html": [
       "<pre style=\"white-space:pre;overflow-x:auto;line-height:normal;font-family:Menlo,'DejaVu Sans Mono',consolas,'Courier New',monospace\">New best model found with socre: <span style=\"color: #008080; text-decoration-color: #008080; font-weight: bold\">0.5475</span>\n",
       "</pre>\n"
      ],
      "text/plain": [
       "New best model found with socre: \u001b[1;36m0.5475\u001b[0m\n"
      ]
     },
     "metadata": {},
     "output_type": "display_data"
    },
    {
     "name": "stderr",
     "output_type": "stream",
     "text": [
      "Epoch 6/50: 100%|████████████████████████████████████████████████████████████████████████████████████████████████████████████████████████████████████████████████████| 726/726 [01:54<00:00,  6.33it/s]\n"
     ]
    },
    {
     "data": {
      "text/html": [
       "<pre style=\"white-space:pre;overflow-x:auto;line-height:normal;font-family:Menlo,'DejaVu Sans Mono',consolas,'Courier New',monospace\">Epoch <span style=\"color: #008080; text-decoration-color: #008080; font-weight: bold\">6</span>/<span style=\"color: #008080; text-decoration-color: #008080; font-weight: bold\">50</span>\n",
       "</pre>\n"
      ],
      "text/plain": [
       "Epoch \u001b[1;36m6\u001b[0m/\u001b[1;36m50\u001b[0m\n"
      ]
     },
     "metadata": {},
     "output_type": "display_data"
    },
    {
     "data": {
      "text/html": [
       "<pre style=\"white-space:pre;overflow-x:auto;line-height:normal;font-family:Menlo,'DejaVu Sans Mono',consolas,'Courier New',monospace\">Train Loss: <span style=\"color: #008080; text-decoration-color: #008080; font-weight: bold\">821.8852</span>, Val Loss: <span style=\"color: #008080; text-decoration-color: #008080; font-weight: bold\">942.1716</span>\n",
       "</pre>\n"
      ],
      "text/plain": [
       "Train Loss: \u001b[1;36m821.8852\u001b[0m, Val Loss: \u001b[1;36m942.1716\u001b[0m\n"
      ]
     },
     "metadata": {},
     "output_type": "display_data"
    },
    {
     "data": {
      "text/html": [
       "<pre style=\"white-space:pre;overflow-x:auto;line-height:normal;font-family:Menlo,'DejaVu Sans Mono',consolas,'Courier New',monospace\">Learning Rate: <span style=\"color: #008080; text-decoration-color: #008080; font-weight: bold\">0.002000</span>\n",
       "</pre>\n"
      ],
      "text/plain": [
       "Learning Rate: \u001b[1;36m0.002000\u001b[0m\n"
      ]
     },
     "metadata": {},
     "output_type": "display_data"
    },
    {
     "data": {
      "text/html": [
       "<pre style=\"white-space:pre;overflow-x:auto;line-height:normal;font-family:Menlo,'DejaVu Sans Mono',consolas,'Courier New',monospace\">Validation Score: <span style=\"color: #008080; text-decoration-color: #008080; font-weight: bold\">0.4224</span>\n",
       "</pre>\n"
      ],
      "text/plain": [
       "Validation Score: \u001b[1;36m0.4224\u001b[0m\n"
      ]
     },
     "metadata": {},
     "output_type": "display_data"
    },
    {
     "name": "stderr",
     "output_type": "stream",
     "text": [
      "Epoch 7/50: 100%|████████████████████████████████████████████████████████████████████████████████████████████████████████████████████████████████████████████████████| 726/726 [01:55<00:00,  6.30it/s]\n"
     ]
    },
    {
     "data": {
      "text/html": [
       "<pre style=\"white-space:pre;overflow-x:auto;line-height:normal;font-family:Menlo,'DejaVu Sans Mono',consolas,'Courier New',monospace\">Epoch <span style=\"color: #008080; text-decoration-color: #008080; font-weight: bold\">7</span>/<span style=\"color: #008080; text-decoration-color: #008080; font-weight: bold\">50</span>\n",
       "</pre>\n"
      ],
      "text/plain": [
       "Epoch \u001b[1;36m7\u001b[0m/\u001b[1;36m50\u001b[0m\n"
      ]
     },
     "metadata": {},
     "output_type": "display_data"
    },
    {
     "data": {
      "text/html": [
       "<pre style=\"white-space:pre;overflow-x:auto;line-height:normal;font-family:Menlo,'DejaVu Sans Mono',consolas,'Courier New',monospace\">Train Loss: <span style=\"color: #008080; text-decoration-color: #008080; font-weight: bold\">758.6474</span>, Val Loss: <span style=\"color: #008080; text-decoration-color: #008080; font-weight: bold\">939.4268</span>\n",
       "</pre>\n"
      ],
      "text/plain": [
       "Train Loss: \u001b[1;36m758.6474\u001b[0m, Val Loss: \u001b[1;36m939.4268\u001b[0m\n"
      ]
     },
     "metadata": {},
     "output_type": "display_data"
    },
    {
     "data": {
      "text/html": [
       "<pre style=\"white-space:pre;overflow-x:auto;line-height:normal;font-family:Menlo,'DejaVu Sans Mono',consolas,'Courier New',monospace\">Learning Rate: <span style=\"color: #008080; text-decoration-color: #008080; font-weight: bold\">0.002000</span>\n",
       "</pre>\n"
      ],
      "text/plain": [
       "Learning Rate: \u001b[1;36m0.002000\u001b[0m\n"
      ]
     },
     "metadata": {},
     "output_type": "display_data"
    },
    {
     "data": {
      "text/html": [
       "<pre style=\"white-space:pre;overflow-x:auto;line-height:normal;font-family:Menlo,'DejaVu Sans Mono',consolas,'Courier New',monospace\">Validation Score: <span style=\"color: #008080; text-decoration-color: #008080; font-weight: bold\">0.5071</span>\n",
       "</pre>\n"
      ],
      "text/plain": [
       "Validation Score: \u001b[1;36m0.5071\u001b[0m\n"
      ]
     },
     "metadata": {},
     "output_type": "display_data"
    },
    {
     "name": "stderr",
     "output_type": "stream",
     "text": [
      "Epoch 8/50: 100%|████████████████████████████████████████████████████████████████████████████████████████████████████████████████████████████████████████████████████| 726/726 [01:55<00:00,  6.30it/s]\n"
     ]
    },
    {
     "data": {
      "text/html": [
       "<pre style=\"white-space:pre;overflow-x:auto;line-height:normal;font-family:Menlo,'DejaVu Sans Mono',consolas,'Courier New',monospace\">Epoch <span style=\"color: #008080; text-decoration-color: #008080; font-weight: bold\">8</span>/<span style=\"color: #008080; text-decoration-color: #008080; font-weight: bold\">50</span>\n",
       "</pre>\n"
      ],
      "text/plain": [
       "Epoch \u001b[1;36m8\u001b[0m/\u001b[1;36m50\u001b[0m\n"
      ]
     },
     "metadata": {},
     "output_type": "display_data"
    },
    {
     "data": {
      "text/html": [
       "<pre style=\"white-space:pre;overflow-x:auto;line-height:normal;font-family:Menlo,'DejaVu Sans Mono',consolas,'Courier New',monospace\">Train Loss: <span style=\"color: #008080; text-decoration-color: #008080; font-weight: bold\">718.9282</span>, Val Loss: <span style=\"color: #008080; text-decoration-color: #008080; font-weight: bold\">875.0212</span>\n",
       "</pre>\n"
      ],
      "text/plain": [
       "Train Loss: \u001b[1;36m718.9282\u001b[0m, Val Loss: \u001b[1;36m875.0212\u001b[0m\n"
      ]
     },
     "metadata": {},
     "output_type": "display_data"
    },
    {
     "data": {
      "text/html": [
       "<pre style=\"white-space:pre;overflow-x:auto;line-height:normal;font-family:Menlo,'DejaVu Sans Mono',consolas,'Courier New',monospace\">Learning Rate: <span style=\"color: #008080; text-decoration-color: #008080; font-weight: bold\">0.002000</span>\n",
       "</pre>\n"
      ],
      "text/plain": [
       "Learning Rate: \u001b[1;36m0.002000\u001b[0m\n"
      ]
     },
     "metadata": {},
     "output_type": "display_data"
    },
    {
     "data": {
      "text/html": [
       "<pre style=\"white-space:pre;overflow-x:auto;line-height:normal;font-family:Menlo,'DejaVu Sans Mono',consolas,'Courier New',monospace\">Validation Score: <span style=\"color: #008080; text-decoration-color: #008080; font-weight: bold\">0.5783</span>\n",
       "</pre>\n"
      ],
      "text/plain": [
       "Validation Score: \u001b[1;36m0.5783\u001b[0m\n"
      ]
     },
     "metadata": {},
     "output_type": "display_data"
    },
    {
     "data": {
      "text/html": [
       "<pre style=\"white-space:pre;overflow-x:auto;line-height:normal;font-family:Menlo,'DejaVu Sans Mono',consolas,'Courier New',monospace\">New best model found with socre: <span style=\"color: #008080; text-decoration-color: #008080; font-weight: bold\">0.5783</span>\n",
       "</pre>\n"
      ],
      "text/plain": [
       "New best model found with socre: \u001b[1;36m0.5783\u001b[0m\n"
      ]
     },
     "metadata": {},
     "output_type": "display_data"
    },
    {
     "name": "stderr",
     "output_type": "stream",
     "text": [
      "Epoch 9/50: 100%|████████████████████████████████████████████████████████████████████████████████████████████████████████████████████████████████████████████████████| 726/726 [01:54<00:00,  6.33it/s]\n"
     ]
    },
    {
     "data": {
      "text/html": [
       "<pre style=\"white-space:pre;overflow-x:auto;line-height:normal;font-family:Menlo,'DejaVu Sans Mono',consolas,'Courier New',monospace\">Epoch <span style=\"color: #008080; text-decoration-color: #008080; font-weight: bold\">9</span>/<span style=\"color: #008080; text-decoration-color: #008080; font-weight: bold\">50</span>\n",
       "</pre>\n"
      ],
      "text/plain": [
       "Epoch \u001b[1;36m9\u001b[0m/\u001b[1;36m50\u001b[0m\n"
      ]
     },
     "metadata": {},
     "output_type": "display_data"
    },
    {
     "data": {
      "text/html": [
       "<pre style=\"white-space:pre;overflow-x:auto;line-height:normal;font-family:Menlo,'DejaVu Sans Mono',consolas,'Courier New',monospace\">Train Loss: <span style=\"color: #008080; text-decoration-color: #008080; font-weight: bold\">696.4489</span>, Val Loss: <span style=\"color: #008080; text-decoration-color: #008080; font-weight: bold\">863.5650</span>\n",
       "</pre>\n"
      ],
      "text/plain": [
       "Train Loss: \u001b[1;36m696.4489\u001b[0m, Val Loss: \u001b[1;36m863.5650\u001b[0m\n"
      ]
     },
     "metadata": {},
     "output_type": "display_data"
    },
    {
     "data": {
      "text/html": [
       "<pre style=\"white-space:pre;overflow-x:auto;line-height:normal;font-family:Menlo,'DejaVu Sans Mono',consolas,'Courier New',monospace\">Learning Rate: <span style=\"color: #008080; text-decoration-color: #008080; font-weight: bold\">0.002000</span>\n",
       "</pre>\n"
      ],
      "text/plain": [
       "Learning Rate: \u001b[1;36m0.002000\u001b[0m\n"
      ]
     },
     "metadata": {},
     "output_type": "display_data"
    },
    {
     "data": {
      "text/html": [
       "<pre style=\"white-space:pre;overflow-x:auto;line-height:normal;font-family:Menlo,'DejaVu Sans Mono',consolas,'Courier New',monospace\">Validation Score: <span style=\"color: #008080; text-decoration-color: #008080; font-weight: bold\">0.5442</span>\n",
       "</pre>\n"
      ],
      "text/plain": [
       "Validation Score: \u001b[1;36m0.5442\u001b[0m\n"
      ]
     },
     "metadata": {},
     "output_type": "display_data"
    },
    {
     "name": "stderr",
     "output_type": "stream",
     "text": [
      "Epoch 10/50: 100%|███████████████████████████████████████████████████████████████████████████████████████████████████████████████████████████████████████████████████| 726/726 [01:56<00:00,  6.24it/s]\n"
     ]
    },
    {
     "data": {
      "text/html": [
       "<pre style=\"white-space:pre;overflow-x:auto;line-height:normal;font-family:Menlo,'DejaVu Sans Mono',consolas,'Courier New',monospace\">Epoch <span style=\"color: #008080; text-decoration-color: #008080; font-weight: bold\">10</span>/<span style=\"color: #008080; text-decoration-color: #008080; font-weight: bold\">50</span>\n",
       "</pre>\n"
      ],
      "text/plain": [
       "Epoch \u001b[1;36m10\u001b[0m/\u001b[1;36m50\u001b[0m\n"
      ]
     },
     "metadata": {},
     "output_type": "display_data"
    },
    {
     "data": {
      "text/html": [
       "<pre style=\"white-space:pre;overflow-x:auto;line-height:normal;font-family:Menlo,'DejaVu Sans Mono',consolas,'Courier New',monospace\">Train Loss: <span style=\"color: #008080; text-decoration-color: #008080; font-weight: bold\">689.5680</span>, Val Loss: <span style=\"color: #008080; text-decoration-color: #008080; font-weight: bold\">893.5436</span>\n",
       "</pre>\n"
      ],
      "text/plain": [
       "Train Loss: \u001b[1;36m689.5680\u001b[0m, Val Loss: \u001b[1;36m893.5436\u001b[0m\n"
      ]
     },
     "metadata": {},
     "output_type": "display_data"
    },
    {
     "data": {
      "text/html": [
       "<pre style=\"white-space:pre;overflow-x:auto;line-height:normal;font-family:Menlo,'DejaVu Sans Mono',consolas,'Courier New',monospace\">Learning Rate: <span style=\"color: #008080; text-decoration-color: #008080; font-weight: bold\">0.002000</span>\n",
       "</pre>\n"
      ],
      "text/plain": [
       "Learning Rate: \u001b[1;36m0.002000\u001b[0m\n"
      ]
     },
     "metadata": {},
     "output_type": "display_data"
    },
    {
     "data": {
      "text/html": [
       "<pre style=\"white-space:pre;overflow-x:auto;line-height:normal;font-family:Menlo,'DejaVu Sans Mono',consolas,'Courier New',monospace\">Validation Score: <span style=\"color: #008080; text-decoration-color: #008080; font-weight: bold\">0.5695</span>\n",
       "</pre>\n"
      ],
      "text/plain": [
       "Validation Score: \u001b[1;36m0.5695\u001b[0m\n"
      ]
     },
     "metadata": {},
     "output_type": "display_data"
    },
    {
     "name": "stderr",
     "output_type": "stream",
     "text": [
      "Epoch 11/50: 100%|███████████████████████████████████████████████████████████████████████████████████████████████████████████████████████████████████████████████████| 726/726 [01:55<00:00,  6.28it/s]\n"
     ]
    },
    {
     "data": {
      "text/html": [
       "<pre style=\"white-space:pre;overflow-x:auto;line-height:normal;font-family:Menlo,'DejaVu Sans Mono',consolas,'Courier New',monospace\">Epoch <span style=\"color: #008080; text-decoration-color: #008080; font-weight: bold\">11</span>/<span style=\"color: #008080; text-decoration-color: #008080; font-weight: bold\">50</span>\n",
       "</pre>\n"
      ],
      "text/plain": [
       "Epoch \u001b[1;36m11\u001b[0m/\u001b[1;36m50\u001b[0m\n"
      ]
     },
     "metadata": {},
     "output_type": "display_data"
    },
    {
     "data": {
      "text/html": [
       "<pre style=\"white-space:pre;overflow-x:auto;line-height:normal;font-family:Menlo,'DejaVu Sans Mono',consolas,'Courier New',monospace\">Train Loss: <span style=\"color: #008080; text-decoration-color: #008080; font-weight: bold\">667.3757</span>, Val Loss: <span style=\"color: #008080; text-decoration-color: #008080; font-weight: bold\">846.9460</span>\n",
       "</pre>\n"
      ],
      "text/plain": [
       "Train Loss: \u001b[1;36m667.3757\u001b[0m, Val Loss: \u001b[1;36m846.9460\u001b[0m\n"
      ]
     },
     "metadata": {},
     "output_type": "display_data"
    },
    {
     "data": {
      "text/html": [
       "<pre style=\"white-space:pre;overflow-x:auto;line-height:normal;font-family:Menlo,'DejaVu Sans Mono',consolas,'Courier New',monospace\">Learning Rate: <span style=\"color: #008080; text-decoration-color: #008080; font-weight: bold\">0.002000</span>\n",
       "</pre>\n"
      ],
      "text/plain": [
       "Learning Rate: \u001b[1;36m0.002000\u001b[0m\n"
      ]
     },
     "metadata": {},
     "output_type": "display_data"
    },
    {
     "data": {
      "text/html": [
       "<pre style=\"white-space:pre;overflow-x:auto;line-height:normal;font-family:Menlo,'DejaVu Sans Mono',consolas,'Courier New',monospace\">Validation Score: <span style=\"color: #008080; text-decoration-color: #008080; font-weight: bold\">0.5808</span>\n",
       "</pre>\n"
      ],
      "text/plain": [
       "Validation Score: \u001b[1;36m0.5808\u001b[0m\n"
      ]
     },
     "metadata": {},
     "output_type": "display_data"
    },
    {
     "data": {
      "text/html": [
       "<pre style=\"white-space:pre;overflow-x:auto;line-height:normal;font-family:Menlo,'DejaVu Sans Mono',consolas,'Courier New',monospace\">New best model found with socre: <span style=\"color: #008080; text-decoration-color: #008080; font-weight: bold\">0.5808</span>\n",
       "</pre>\n"
      ],
      "text/plain": [
       "New best model found with socre: \u001b[1;36m0.5808\u001b[0m\n"
      ]
     },
     "metadata": {},
     "output_type": "display_data"
    },
    {
     "name": "stderr",
     "output_type": "stream",
     "text": [
      "Epoch 12/50: 100%|███████████████████████████████████████████████████████████████████████████████████████████████████████████████████████████████████████████████████| 726/726 [01:55<00:00,  6.28it/s]\n"
     ]
    },
    {
     "data": {
      "text/html": [
       "<pre style=\"white-space:pre;overflow-x:auto;line-height:normal;font-family:Menlo,'DejaVu Sans Mono',consolas,'Courier New',monospace\">Epoch <span style=\"color: #008080; text-decoration-color: #008080; font-weight: bold\">12</span>/<span style=\"color: #008080; text-decoration-color: #008080; font-weight: bold\">50</span>\n",
       "</pre>\n"
      ],
      "text/plain": [
       "Epoch \u001b[1;36m12\u001b[0m/\u001b[1;36m50\u001b[0m\n"
      ]
     },
     "metadata": {},
     "output_type": "display_data"
    },
    {
     "data": {
      "text/html": [
       "<pre style=\"white-space:pre;overflow-x:auto;line-height:normal;font-family:Menlo,'DejaVu Sans Mono',consolas,'Courier New',monospace\">Train Loss: <span style=\"color: #008080; text-decoration-color: #008080; font-weight: bold\">644.6727</span>, Val Loss: <span style=\"color: #008080; text-decoration-color: #008080; font-weight: bold\">839.5460</span>\n",
       "</pre>\n"
      ],
      "text/plain": [
       "Train Loss: \u001b[1;36m644.6727\u001b[0m, Val Loss: \u001b[1;36m839.5460\u001b[0m\n"
      ]
     },
     "metadata": {},
     "output_type": "display_data"
    },
    {
     "data": {
      "text/html": [
       "<pre style=\"white-space:pre;overflow-x:auto;line-height:normal;font-family:Menlo,'DejaVu Sans Mono',consolas,'Courier New',monospace\">Learning Rate: <span style=\"color: #008080; text-decoration-color: #008080; font-weight: bold\">0.002000</span>\n",
       "</pre>\n"
      ],
      "text/plain": [
       "Learning Rate: \u001b[1;36m0.002000\u001b[0m\n"
      ]
     },
     "metadata": {},
     "output_type": "display_data"
    },
    {
     "data": {
      "text/html": [
       "<pre style=\"white-space:pre;overflow-x:auto;line-height:normal;font-family:Menlo,'DejaVu Sans Mono',consolas,'Courier New',monospace\">Validation Score: <span style=\"color: #008080; text-decoration-color: #008080; font-weight: bold\">0.5342</span>\n",
       "</pre>\n"
      ],
      "text/plain": [
       "Validation Score: \u001b[1;36m0.5342\u001b[0m\n"
      ]
     },
     "metadata": {},
     "output_type": "display_data"
    },
    {
     "name": "stderr",
     "output_type": "stream",
     "text": [
      "Epoch 13/50: 100%|███████████████████████████████████████████████████████████████████████████████████████████████████████████████████████████████████████████████████| 726/726 [01:55<00:00,  6.27it/s]\n"
     ]
    },
    {
     "data": {
      "text/html": [
       "<pre style=\"white-space:pre;overflow-x:auto;line-height:normal;font-family:Menlo,'DejaVu Sans Mono',consolas,'Courier New',monospace\">Epoch <span style=\"color: #008080; text-decoration-color: #008080; font-weight: bold\">13</span>/<span style=\"color: #008080; text-decoration-color: #008080; font-weight: bold\">50</span>\n",
       "</pre>\n"
      ],
      "text/plain": [
       "Epoch \u001b[1;36m13\u001b[0m/\u001b[1;36m50\u001b[0m\n"
      ]
     },
     "metadata": {},
     "output_type": "display_data"
    },
    {
     "data": {
      "text/html": [
       "<pre style=\"white-space:pre;overflow-x:auto;line-height:normal;font-family:Menlo,'DejaVu Sans Mono',consolas,'Courier New',monospace\">Train Loss: <span style=\"color: #008080; text-decoration-color: #008080; font-weight: bold\">637.4280</span>, Val Loss: <span style=\"color: #008080; text-decoration-color: #008080; font-weight: bold\">894.0628</span>\n",
       "</pre>\n"
      ],
      "text/plain": [
       "Train Loss: \u001b[1;36m637.4280\u001b[0m, Val Loss: \u001b[1;36m894.0628\u001b[0m\n"
      ]
     },
     "metadata": {},
     "output_type": "display_data"
    },
    {
     "data": {
      "text/html": [
       "<pre style=\"white-space:pre;overflow-x:auto;line-height:normal;font-family:Menlo,'DejaVu Sans Mono',consolas,'Courier New',monospace\">Learning Rate: <span style=\"color: #008080; text-decoration-color: #008080; font-weight: bold\">0.002000</span>\n",
       "</pre>\n"
      ],
      "text/plain": [
       "Learning Rate: \u001b[1;36m0.002000\u001b[0m\n"
      ]
     },
     "metadata": {},
     "output_type": "display_data"
    },
    {
     "data": {
      "text/html": [
       "<pre style=\"white-space:pre;overflow-x:auto;line-height:normal;font-family:Menlo,'DejaVu Sans Mono',consolas,'Courier New',monospace\">Validation Score: <span style=\"color: #008080; text-decoration-color: #008080; font-weight: bold\">0.5744</span>\n",
       "</pre>\n"
      ],
      "text/plain": [
       "Validation Score: \u001b[1;36m0.5744\u001b[0m\n"
      ]
     },
     "metadata": {},
     "output_type": "display_data"
    },
    {
     "name": "stderr",
     "output_type": "stream",
     "text": [
      "Epoch 14/50: 100%|███████████████████████████████████████████████████████████████████████████████████████████████████████████████████████████████████████████████████| 726/726 [01:56<00:00,  6.25it/s]\n"
     ]
    },
    {
     "data": {
      "text/html": [
       "<pre style=\"white-space:pre;overflow-x:auto;line-height:normal;font-family:Menlo,'DejaVu Sans Mono',consolas,'Courier New',monospace\">Epoch <span style=\"color: #008080; text-decoration-color: #008080; font-weight: bold\">14</span>/<span style=\"color: #008080; text-decoration-color: #008080; font-weight: bold\">50</span>\n",
       "</pre>\n"
      ],
      "text/plain": [
       "Epoch \u001b[1;36m14\u001b[0m/\u001b[1;36m50\u001b[0m\n"
      ]
     },
     "metadata": {},
     "output_type": "display_data"
    },
    {
     "data": {
      "text/html": [
       "<pre style=\"white-space:pre;overflow-x:auto;line-height:normal;font-family:Menlo,'DejaVu Sans Mono',consolas,'Courier New',monospace\">Train Loss: <span style=\"color: #008080; text-decoration-color: #008080; font-weight: bold\">638.2054</span>, Val Loss: <span style=\"color: #008080; text-decoration-color: #008080; font-weight: bold\">883.8178</span>\n",
       "</pre>\n"
      ],
      "text/plain": [
       "Train Loss: \u001b[1;36m638.2054\u001b[0m, Val Loss: \u001b[1;36m883.8178\u001b[0m\n"
      ]
     },
     "metadata": {},
     "output_type": "display_data"
    },
    {
     "data": {
      "text/html": [
       "<pre style=\"white-space:pre;overflow-x:auto;line-height:normal;font-family:Menlo,'DejaVu Sans Mono',consolas,'Courier New',monospace\">Learning Rate: <span style=\"color: #008080; text-decoration-color: #008080; font-weight: bold\">0.002000</span>\n",
       "</pre>\n"
      ],
      "text/plain": [
       "Learning Rate: \u001b[1;36m0.002000\u001b[0m\n"
      ]
     },
     "metadata": {},
     "output_type": "display_data"
    },
    {
     "data": {
      "text/html": [
       "<pre style=\"white-space:pre;overflow-x:auto;line-height:normal;font-family:Menlo,'DejaVu Sans Mono',consolas,'Courier New',monospace\">Validation Score: <span style=\"color: #008080; text-decoration-color: #008080; font-weight: bold\">0.6084</span>\n",
       "</pre>\n"
      ],
      "text/plain": [
       "Validation Score: \u001b[1;36m0.6084\u001b[0m\n"
      ]
     },
     "metadata": {},
     "output_type": "display_data"
    },
    {
     "data": {
      "text/html": [
       "<pre style=\"white-space:pre;overflow-x:auto;line-height:normal;font-family:Menlo,'DejaVu Sans Mono',consolas,'Courier New',monospace\">New best model found with socre: <span style=\"color: #008080; text-decoration-color: #008080; font-weight: bold\">0.6084</span>\n",
       "</pre>\n"
      ],
      "text/plain": [
       "New best model found with socre: \u001b[1;36m0.6084\u001b[0m\n"
      ]
     },
     "metadata": {},
     "output_type": "display_data"
    },
    {
     "name": "stderr",
     "output_type": "stream",
     "text": [
      "Epoch 15/50: 100%|███████████████████████████████████████████████████████████████████████████████████████████████████████████████████████████████████████████████████| 726/726 [01:56<00:00,  6.24it/s]\n"
     ]
    },
    {
     "data": {
      "text/html": [
       "<pre style=\"white-space:pre;overflow-x:auto;line-height:normal;font-family:Menlo,'DejaVu Sans Mono',consolas,'Courier New',monospace\">Epoch <span style=\"color: #008080; text-decoration-color: #008080; font-weight: bold\">15</span>/<span style=\"color: #008080; text-decoration-color: #008080; font-weight: bold\">50</span>\n",
       "</pre>\n"
      ],
      "text/plain": [
       "Epoch \u001b[1;36m15\u001b[0m/\u001b[1;36m50\u001b[0m\n"
      ]
     },
     "metadata": {},
     "output_type": "display_data"
    },
    {
     "data": {
      "text/html": [
       "<pre style=\"white-space:pre;overflow-x:auto;line-height:normal;font-family:Menlo,'DejaVu Sans Mono',consolas,'Courier New',monospace\">Train Loss: <span style=\"color: #008080; text-decoration-color: #008080; font-weight: bold\">644.0481</span>, Val Loss: <span style=\"color: #008080; text-decoration-color: #008080; font-weight: bold\">860.5951</span>\n",
       "</pre>\n"
      ],
      "text/plain": [
       "Train Loss: \u001b[1;36m644.0481\u001b[0m, Val Loss: \u001b[1;36m860.5951\u001b[0m\n"
      ]
     },
     "metadata": {},
     "output_type": "display_data"
    },
    {
     "data": {
      "text/html": [
       "<pre style=\"white-space:pre;overflow-x:auto;line-height:normal;font-family:Menlo,'DejaVu Sans Mono',consolas,'Courier New',monospace\">Learning Rate: <span style=\"color: #008080; text-decoration-color: #008080; font-weight: bold\">0.002000</span>\n",
       "</pre>\n"
      ],
      "text/plain": [
       "Learning Rate: \u001b[1;36m0.002000\u001b[0m\n"
      ]
     },
     "metadata": {},
     "output_type": "display_data"
    },
    {
     "data": {
      "text/html": [
       "<pre style=\"white-space:pre;overflow-x:auto;line-height:normal;font-family:Menlo,'DejaVu Sans Mono',consolas,'Courier New',monospace\">Validation Score: <span style=\"color: #008080; text-decoration-color: #008080; font-weight: bold\">0.5873</span>\n",
       "</pre>\n"
      ],
      "text/plain": [
       "Validation Score: \u001b[1;36m0.5873\u001b[0m\n"
      ]
     },
     "metadata": {},
     "output_type": "display_data"
    },
    {
     "name": "stderr",
     "output_type": "stream",
     "text": [
      "Epoch 16/50: 100%|███████████████████████████████████████████████████████████████████████████████████████████████████████████████████████████████████████████████████| 726/726 [01:57<00:00,  6.20it/s]\n"
     ]
    },
    {
     "data": {
      "text/html": [
       "<pre style=\"white-space:pre;overflow-x:auto;line-height:normal;font-family:Menlo,'DejaVu Sans Mono',consolas,'Courier New',monospace\">Epoch <span style=\"color: #008080; text-decoration-color: #008080; font-weight: bold\">16</span>/<span style=\"color: #008080; text-decoration-color: #008080; font-weight: bold\">50</span>\n",
       "</pre>\n"
      ],
      "text/plain": [
       "Epoch \u001b[1;36m16\u001b[0m/\u001b[1;36m50\u001b[0m\n"
      ]
     },
     "metadata": {},
     "output_type": "display_data"
    },
    {
     "data": {
      "text/html": [
       "<pre style=\"white-space:pre;overflow-x:auto;line-height:normal;font-family:Menlo,'DejaVu Sans Mono',consolas,'Courier New',monospace\">Train Loss: <span style=\"color: #008080; text-decoration-color: #008080; font-weight: bold\">637.6617</span>, Val Loss: <span style=\"color: #008080; text-decoration-color: #008080; font-weight: bold\">865.3125</span>\n",
       "</pre>\n"
      ],
      "text/plain": [
       "Train Loss: \u001b[1;36m637.6617\u001b[0m, Val Loss: \u001b[1;36m865.3125\u001b[0m\n"
      ]
     },
     "metadata": {},
     "output_type": "display_data"
    },
    {
     "data": {
      "text/html": [
       "<pre style=\"white-space:pre;overflow-x:auto;line-height:normal;font-family:Menlo,'DejaVu Sans Mono',consolas,'Courier New',monospace\">Learning Rate: <span style=\"color: #008080; text-decoration-color: #008080; font-weight: bold\">0.002000</span>\n",
       "</pre>\n"
      ],
      "text/plain": [
       "Learning Rate: \u001b[1;36m0.002000\u001b[0m\n"
      ]
     },
     "metadata": {},
     "output_type": "display_data"
    },
    {
     "data": {
      "text/html": [
       "<pre style=\"white-space:pre;overflow-x:auto;line-height:normal;font-family:Menlo,'DejaVu Sans Mono',consolas,'Courier New',monospace\">Validation Score: <span style=\"color: #008080; text-decoration-color: #008080; font-weight: bold\">0.5774</span>\n",
       "</pre>\n"
      ],
      "text/plain": [
       "Validation Score: \u001b[1;36m0.5774\u001b[0m\n"
      ]
     },
     "metadata": {},
     "output_type": "display_data"
    },
    {
     "name": "stderr",
     "output_type": "stream",
     "text": [
      "Epoch 17/50: 100%|███████████████████████████████████████████████████████████████████████████████████████████████████████████████████████████████████████████████████| 726/726 [01:58<00:00,  6.12it/s]\n"
     ]
    },
    {
     "data": {
      "text/html": [
       "<pre style=\"white-space:pre;overflow-x:auto;line-height:normal;font-family:Menlo,'DejaVu Sans Mono',consolas,'Courier New',monospace\">Epoch <span style=\"color: #008080; text-decoration-color: #008080; font-weight: bold\">17</span>/<span style=\"color: #008080; text-decoration-color: #008080; font-weight: bold\">50</span>\n",
       "</pre>\n"
      ],
      "text/plain": [
       "Epoch \u001b[1;36m17\u001b[0m/\u001b[1;36m50\u001b[0m\n"
      ]
     },
     "metadata": {},
     "output_type": "display_data"
    },
    {
     "data": {
      "text/html": [
       "<pre style=\"white-space:pre;overflow-x:auto;line-height:normal;font-family:Menlo,'DejaVu Sans Mono',consolas,'Courier New',monospace\">Train Loss: <span style=\"color: #008080; text-decoration-color: #008080; font-weight: bold\">638.2832</span>, Val Loss: <span style=\"color: #008080; text-decoration-color: #008080; font-weight: bold\">919.7274</span>\n",
       "</pre>\n"
      ],
      "text/plain": [
       "Train Loss: \u001b[1;36m638.2832\u001b[0m, Val Loss: \u001b[1;36m919.7274\u001b[0m\n"
      ]
     },
     "metadata": {},
     "output_type": "display_data"
    },
    {
     "data": {
      "text/html": [
       "<pre style=\"white-space:pre;overflow-x:auto;line-height:normal;font-family:Menlo,'DejaVu Sans Mono',consolas,'Courier New',monospace\">Learning Rate: <span style=\"color: #008080; text-decoration-color: #008080; font-weight: bold\">0.002000</span>\n",
       "</pre>\n"
      ],
      "text/plain": [
       "Learning Rate: \u001b[1;36m0.002000\u001b[0m\n"
      ]
     },
     "metadata": {},
     "output_type": "display_data"
    },
    {
     "data": {
      "text/html": [
       "<pre style=\"white-space:pre;overflow-x:auto;line-height:normal;font-family:Menlo,'DejaVu Sans Mono',consolas,'Courier New',monospace\">Validation Score: <span style=\"color: #008080; text-decoration-color: #008080; font-weight: bold\">0.5405</span>\n",
       "</pre>\n"
      ],
      "text/plain": [
       "Validation Score: \u001b[1;36m0.5405\u001b[0m\n"
      ]
     },
     "metadata": {},
     "output_type": "display_data"
    },
    {
     "name": "stderr",
     "output_type": "stream",
     "text": [
      "Epoch 18/50: 100%|███████████████████████████████████████████████████████████████████████████████████████████████████████████████████████████████████████████████████| 726/726 [01:58<00:00,  6.13it/s]\n"
     ]
    },
    {
     "data": {
      "text/html": [
       "<pre style=\"white-space:pre;overflow-x:auto;line-height:normal;font-family:Menlo,'DejaVu Sans Mono',consolas,'Courier New',monospace\">Epoch <span style=\"color: #008080; text-decoration-color: #008080; font-weight: bold\">18</span>/<span style=\"color: #008080; text-decoration-color: #008080; font-weight: bold\">50</span>\n",
       "</pre>\n"
      ],
      "text/plain": [
       "Epoch \u001b[1;36m18\u001b[0m/\u001b[1;36m50\u001b[0m\n"
      ]
     },
     "metadata": {},
     "output_type": "display_data"
    },
    {
     "data": {
      "text/html": [
       "<pre style=\"white-space:pre;overflow-x:auto;line-height:normal;font-family:Menlo,'DejaVu Sans Mono',consolas,'Courier New',monospace\">Train Loss: <span style=\"color: #008080; text-decoration-color: #008080; font-weight: bold\">613.7171</span>, Val Loss: <span style=\"color: #008080; text-decoration-color: #008080; font-weight: bold\">882.9071</span>\n",
       "</pre>\n"
      ],
      "text/plain": [
       "Train Loss: \u001b[1;36m613.7171\u001b[0m, Val Loss: \u001b[1;36m882.9071\u001b[0m\n"
      ]
     },
     "metadata": {},
     "output_type": "display_data"
    },
    {
     "data": {
      "text/html": [
       "<pre style=\"white-space:pre;overflow-x:auto;line-height:normal;font-family:Menlo,'DejaVu Sans Mono',consolas,'Courier New',monospace\">Learning Rate: <span style=\"color: #008080; text-decoration-color: #008080; font-weight: bold\">0.002000</span>\n",
       "</pre>\n"
      ],
      "text/plain": [
       "Learning Rate: \u001b[1;36m0.002000\u001b[0m\n"
      ]
     },
     "metadata": {},
     "output_type": "display_data"
    },
    {
     "data": {
      "text/html": [
       "<pre style=\"white-space:pre;overflow-x:auto;line-height:normal;font-family:Menlo,'DejaVu Sans Mono',consolas,'Courier New',monospace\">Validation Score: <span style=\"color: #008080; text-decoration-color: #008080; font-weight: bold\">0.5851</span>\n",
       "</pre>\n"
      ],
      "text/plain": [
       "Validation Score: \u001b[1;36m0.5851\u001b[0m\n"
      ]
     },
     "metadata": {},
     "output_type": "display_data"
    },
    {
     "name": "stderr",
     "output_type": "stream",
     "text": [
      "Epoch 19/50: 100%|███████████████████████████████████████████████████████████████████████████████████████████████████████████████████████████████████████████████████| 726/726 [01:58<00:00,  6.10it/s]\n"
     ]
    },
    {
     "data": {
      "text/html": [
       "<pre style=\"white-space:pre;overflow-x:auto;line-height:normal;font-family:Menlo,'DejaVu Sans Mono',consolas,'Courier New',monospace\">Epoch <span style=\"color: #008080; text-decoration-color: #008080; font-weight: bold\">19</span>/<span style=\"color: #008080; text-decoration-color: #008080; font-weight: bold\">50</span>\n",
       "</pre>\n"
      ],
      "text/plain": [
       "Epoch \u001b[1;36m19\u001b[0m/\u001b[1;36m50\u001b[0m\n"
      ]
     },
     "metadata": {},
     "output_type": "display_data"
    },
    {
     "data": {
      "text/html": [
       "<pre style=\"white-space:pre;overflow-x:auto;line-height:normal;font-family:Menlo,'DejaVu Sans Mono',consolas,'Courier New',monospace\">Train Loss: <span style=\"color: #008080; text-decoration-color: #008080; font-weight: bold\">603.0916</span>, Val Loss: <span style=\"color: #008080; text-decoration-color: #008080; font-weight: bold\">828.0045</span>\n",
       "</pre>\n"
      ],
      "text/plain": [
       "Train Loss: \u001b[1;36m603.0916\u001b[0m, Val Loss: \u001b[1;36m828.0045\u001b[0m\n"
      ]
     },
     "metadata": {},
     "output_type": "display_data"
    },
    {
     "data": {
      "text/html": [
       "<pre style=\"white-space:pre;overflow-x:auto;line-height:normal;font-family:Menlo,'DejaVu Sans Mono',consolas,'Courier New',monospace\">Learning Rate: <span style=\"color: #008080; text-decoration-color: #008080; font-weight: bold\">0.002000</span>\n",
       "</pre>\n"
      ],
      "text/plain": [
       "Learning Rate: \u001b[1;36m0.002000\u001b[0m\n"
      ]
     },
     "metadata": {},
     "output_type": "display_data"
    },
    {
     "data": {
      "text/html": [
       "<pre style=\"white-space:pre;overflow-x:auto;line-height:normal;font-family:Menlo,'DejaVu Sans Mono',consolas,'Courier New',monospace\">Validation Score: <span style=\"color: #008080; text-decoration-color: #008080; font-weight: bold\">0.5683</span>\n",
       "</pre>\n"
      ],
      "text/plain": [
       "Validation Score: \u001b[1;36m0.5683\u001b[0m\n"
      ]
     },
     "metadata": {},
     "output_type": "display_data"
    },
    {
     "name": "stderr",
     "output_type": "stream",
     "text": [
      "Epoch 20/50: 100%|███████████████████████████████████████████████████████████████████████████████████████████████████████████████████████████████████████████████████| 726/726 [01:58<00:00,  6.10it/s]\n"
     ]
    },
    {
     "data": {
      "text/html": [
       "<pre style=\"white-space:pre;overflow-x:auto;line-height:normal;font-family:Menlo,'DejaVu Sans Mono',consolas,'Courier New',monospace\">Epoch <span style=\"color: #008080; text-decoration-color: #008080; font-weight: bold\">20</span>/<span style=\"color: #008080; text-decoration-color: #008080; font-weight: bold\">50</span>\n",
       "</pre>\n"
      ],
      "text/plain": [
       "Epoch \u001b[1;36m20\u001b[0m/\u001b[1;36m50\u001b[0m\n"
      ]
     },
     "metadata": {},
     "output_type": "display_data"
    },
    {
     "data": {
      "text/html": [
       "<pre style=\"white-space:pre;overflow-x:auto;line-height:normal;font-family:Menlo,'DejaVu Sans Mono',consolas,'Courier New',monospace\">Train Loss: <span style=\"color: #008080; text-decoration-color: #008080; font-weight: bold\">606.0965</span>, Val Loss: <span style=\"color: #008080; text-decoration-color: #008080; font-weight: bold\">910.5045</span>\n",
       "</pre>\n"
      ],
      "text/plain": [
       "Train Loss: \u001b[1;36m606.0965\u001b[0m, Val Loss: \u001b[1;36m910.5045\u001b[0m\n"
      ]
     },
     "metadata": {},
     "output_type": "display_data"
    },
    {
     "data": {
      "text/html": [
       "<pre style=\"white-space:pre;overflow-x:auto;line-height:normal;font-family:Menlo,'DejaVu Sans Mono',consolas,'Courier New',monospace\">Learning Rate: <span style=\"color: #008080; text-decoration-color: #008080; font-weight: bold\">0.002000</span>\n",
       "</pre>\n"
      ],
      "text/plain": [
       "Learning Rate: \u001b[1;36m0.002000\u001b[0m\n"
      ]
     },
     "metadata": {},
     "output_type": "display_data"
    },
    {
     "data": {
      "text/html": [
       "<pre style=\"white-space:pre;overflow-x:auto;line-height:normal;font-family:Menlo,'DejaVu Sans Mono',consolas,'Courier New',monospace\">Validation Score: <span style=\"color: #008080; text-decoration-color: #008080; font-weight: bold\">0.5738</span>\n",
       "</pre>\n"
      ],
      "text/plain": [
       "Validation Score: \u001b[1;36m0.5738\u001b[0m\n"
      ]
     },
     "metadata": {},
     "output_type": "display_data"
    },
    {
     "name": "stderr",
     "output_type": "stream",
     "text": [
      "Epoch 21/50: 100%|███████████████████████████████████████████████████████████████████████████████████████████████████████████████████████████████████████████████████| 726/726 [01:59<00:00,  6.08it/s]\n"
     ]
    },
    {
     "data": {
      "text/html": [
       "<pre style=\"white-space:pre;overflow-x:auto;line-height:normal;font-family:Menlo,'DejaVu Sans Mono',consolas,'Courier New',monospace\">Epoch <span style=\"color: #008080; text-decoration-color: #008080; font-weight: bold\">21</span>/<span style=\"color: #008080; text-decoration-color: #008080; font-weight: bold\">50</span>\n",
       "</pre>\n"
      ],
      "text/plain": [
       "Epoch \u001b[1;36m21\u001b[0m/\u001b[1;36m50\u001b[0m\n"
      ]
     },
     "metadata": {},
     "output_type": "display_data"
    },
    {
     "data": {
      "text/html": [
       "<pre style=\"white-space:pre;overflow-x:auto;line-height:normal;font-family:Menlo,'DejaVu Sans Mono',consolas,'Courier New',monospace\">Train Loss: <span style=\"color: #008080; text-decoration-color: #008080; font-weight: bold\">594.8957</span>, Val Loss: <span style=\"color: #008080; text-decoration-color: #008080; font-weight: bold\">858.8306</span>\n",
       "</pre>\n"
      ],
      "text/plain": [
       "Train Loss: \u001b[1;36m594.8957\u001b[0m, Val Loss: \u001b[1;36m858.8306\u001b[0m\n"
      ]
     },
     "metadata": {},
     "output_type": "display_data"
    },
    {
     "data": {
      "text/html": [
       "<pre style=\"white-space:pre;overflow-x:auto;line-height:normal;font-family:Menlo,'DejaVu Sans Mono',consolas,'Courier New',monospace\">Learning Rate: <span style=\"color: #008080; text-decoration-color: #008080; font-weight: bold\">0.002000</span>\n",
       "</pre>\n"
      ],
      "text/plain": [
       "Learning Rate: \u001b[1;36m0.002000\u001b[0m\n"
      ]
     },
     "metadata": {},
     "output_type": "display_data"
    },
    {
     "data": {
      "text/html": [
       "<pre style=\"white-space:pre;overflow-x:auto;line-height:normal;font-family:Menlo,'DejaVu Sans Mono',consolas,'Courier New',monospace\">Validation Score: <span style=\"color: #008080; text-decoration-color: #008080; font-weight: bold\">0.5823</span>\n",
       "</pre>\n"
      ],
      "text/plain": [
       "Validation Score: \u001b[1;36m0.5823\u001b[0m\n"
      ]
     },
     "metadata": {},
     "output_type": "display_data"
    },
    {
     "name": "stderr",
     "output_type": "stream",
     "text": [
      "Epoch 22/50: 100%|███████████████████████████████████████████████████████████████████████████████████████████████████████████████████████████████████████████████████| 726/726 [01:59<00:00,  6.09it/s]\n"
     ]
    },
    {
     "data": {
      "text/html": [
       "<pre style=\"white-space:pre;overflow-x:auto;line-height:normal;font-family:Menlo,'DejaVu Sans Mono',consolas,'Courier New',monospace\">Epoch <span style=\"color: #008080; text-decoration-color: #008080; font-weight: bold\">22</span>/<span style=\"color: #008080; text-decoration-color: #008080; font-weight: bold\">50</span>\n",
       "</pre>\n"
      ],
      "text/plain": [
       "Epoch \u001b[1;36m22\u001b[0m/\u001b[1;36m50\u001b[0m\n"
      ]
     },
     "metadata": {},
     "output_type": "display_data"
    },
    {
     "data": {
      "text/html": [
       "<pre style=\"white-space:pre;overflow-x:auto;line-height:normal;font-family:Menlo,'DejaVu Sans Mono',consolas,'Courier New',monospace\">Train Loss: <span style=\"color: #008080; text-decoration-color: #008080; font-weight: bold\">589.1783</span>, Val Loss: <span style=\"color: #008080; text-decoration-color: #008080; font-weight: bold\">895.1288</span>\n",
       "</pre>\n"
      ],
      "text/plain": [
       "Train Loss: \u001b[1;36m589.1783\u001b[0m, Val Loss: \u001b[1;36m895.1288\u001b[0m\n"
      ]
     },
     "metadata": {},
     "output_type": "display_data"
    },
    {
     "data": {
      "text/html": [
       "<pre style=\"white-space:pre;overflow-x:auto;line-height:normal;font-family:Menlo,'DejaVu Sans Mono',consolas,'Courier New',monospace\">Learning Rate: <span style=\"color: #008080; text-decoration-color: #008080; font-weight: bold\">0.002000</span>\n",
       "</pre>\n"
      ],
      "text/plain": [
       "Learning Rate: \u001b[1;36m0.002000\u001b[0m\n"
      ]
     },
     "metadata": {},
     "output_type": "display_data"
    },
    {
     "data": {
      "text/html": [
       "<pre style=\"white-space:pre;overflow-x:auto;line-height:normal;font-family:Menlo,'DejaVu Sans Mono',consolas,'Courier New',monospace\">Validation Score: <span style=\"color: #008080; text-decoration-color: #008080; font-weight: bold\">0.5858</span>\n",
       "</pre>\n"
      ],
      "text/plain": [
       "Validation Score: \u001b[1;36m0.5858\u001b[0m\n"
      ]
     },
     "metadata": {},
     "output_type": "display_data"
    },
    {
     "name": "stderr",
     "output_type": "stream",
     "text": [
      "Epoch 23/50: 100%|███████████████████████████████████████████████████████████████████████████████████████████████████████████████████████████████████████████████████| 726/726 [01:59<00:00,  6.07it/s]\n"
     ]
    },
    {
     "data": {
      "text/html": [
       "<pre style=\"white-space:pre;overflow-x:auto;line-height:normal;font-family:Menlo,'DejaVu Sans Mono',consolas,'Courier New',monospace\">Epoch <span style=\"color: #008080; text-decoration-color: #008080; font-weight: bold\">23</span>/<span style=\"color: #008080; text-decoration-color: #008080; font-weight: bold\">50</span>\n",
       "</pre>\n"
      ],
      "text/plain": [
       "Epoch \u001b[1;36m23\u001b[0m/\u001b[1;36m50\u001b[0m\n"
      ]
     },
     "metadata": {},
     "output_type": "display_data"
    },
    {
     "data": {
      "text/html": [
       "<pre style=\"white-space:pre;overflow-x:auto;line-height:normal;font-family:Menlo,'DejaVu Sans Mono',consolas,'Courier New',monospace\">Train Loss: <span style=\"color: #008080; text-decoration-color: #008080; font-weight: bold\">581.5062</span>, Val Loss: <span style=\"color: #008080; text-decoration-color: #008080; font-weight: bold\">864.3054</span>\n",
       "</pre>\n"
      ],
      "text/plain": [
       "Train Loss: \u001b[1;36m581.5062\u001b[0m, Val Loss: \u001b[1;36m864.3054\u001b[0m\n"
      ]
     },
     "metadata": {},
     "output_type": "display_data"
    },
    {
     "data": {
      "text/html": [
       "<pre style=\"white-space:pre;overflow-x:auto;line-height:normal;font-family:Menlo,'DejaVu Sans Mono',consolas,'Courier New',monospace\">Learning Rate: <span style=\"color: #008080; text-decoration-color: #008080; font-weight: bold\">0.002000</span>\n",
       "</pre>\n"
      ],
      "text/plain": [
       "Learning Rate: \u001b[1;36m0.002000\u001b[0m\n"
      ]
     },
     "metadata": {},
     "output_type": "display_data"
    },
    {
     "data": {
      "text/html": [
       "<pre style=\"white-space:pre;overflow-x:auto;line-height:normal;font-family:Menlo,'DejaVu Sans Mono',consolas,'Courier New',monospace\">Validation Score: <span style=\"color: #008080; text-decoration-color: #008080; font-weight: bold\">0.5836</span>\n",
       "</pre>\n"
      ],
      "text/plain": [
       "Validation Score: \u001b[1;36m0.5836\u001b[0m\n"
      ]
     },
     "metadata": {},
     "output_type": "display_data"
    },
    {
     "name": "stderr",
     "output_type": "stream",
     "text": [
      "Epoch 24/50: 100%|███████████████████████████████████████████████████████████████████████████████████████████████████████████████████████████████████████████████████| 726/726 [01:59<00:00,  6.06it/s]\n"
     ]
    },
    {
     "data": {
      "text/html": [
       "<pre style=\"white-space:pre;overflow-x:auto;line-height:normal;font-family:Menlo,'DejaVu Sans Mono',consolas,'Courier New',monospace\">Epoch <span style=\"color: #008080; text-decoration-color: #008080; font-weight: bold\">24</span>/<span style=\"color: #008080; text-decoration-color: #008080; font-weight: bold\">50</span>\n",
       "</pre>\n"
      ],
      "text/plain": [
       "Epoch \u001b[1;36m24\u001b[0m/\u001b[1;36m50\u001b[0m\n"
      ]
     },
     "metadata": {},
     "output_type": "display_data"
    },
    {
     "data": {
      "text/html": [
       "<pre style=\"white-space:pre;overflow-x:auto;line-height:normal;font-family:Menlo,'DejaVu Sans Mono',consolas,'Courier New',monospace\">Train Loss: <span style=\"color: #008080; text-decoration-color: #008080; font-weight: bold\">579.7403</span>, Val Loss: <span style=\"color: #008080; text-decoration-color: #008080; font-weight: bold\">895.5347</span>\n",
       "</pre>\n"
      ],
      "text/plain": [
       "Train Loss: \u001b[1;36m579.7403\u001b[0m, Val Loss: \u001b[1;36m895.5347\u001b[0m\n"
      ]
     },
     "metadata": {},
     "output_type": "display_data"
    },
    {
     "data": {
      "text/html": [
       "<pre style=\"white-space:pre;overflow-x:auto;line-height:normal;font-family:Menlo,'DejaVu Sans Mono',consolas,'Courier New',monospace\">Learning Rate: <span style=\"color: #008080; text-decoration-color: #008080; font-weight: bold\">0.002000</span>\n",
       "</pre>\n"
      ],
      "text/plain": [
       "Learning Rate: \u001b[1;36m0.002000\u001b[0m\n"
      ]
     },
     "metadata": {},
     "output_type": "display_data"
    },
    {
     "data": {
      "text/html": [
       "<pre style=\"white-space:pre;overflow-x:auto;line-height:normal;font-family:Menlo,'DejaVu Sans Mono',consolas,'Courier New',monospace\">Validation Score: <span style=\"color: #008080; text-decoration-color: #008080; font-weight: bold\">0.5344</span>\n",
       "</pre>\n"
      ],
      "text/plain": [
       "Validation Score: \u001b[1;36m0.5344\u001b[0m\n"
      ]
     },
     "metadata": {},
     "output_type": "display_data"
    },
    {
     "name": "stderr",
     "output_type": "stream",
     "text": [
      "Epoch 25/50: 100%|███████████████████████████████████████████████████████████████████████████████████████████████████████████████████████████████████████████████████| 726/726 [02:00<00:00,  6.04it/s]\n"
     ]
    },
    {
     "data": {
      "text/html": [
       "<pre style=\"white-space:pre;overflow-x:auto;line-height:normal;font-family:Menlo,'DejaVu Sans Mono',consolas,'Courier New',monospace\">Epoch <span style=\"color: #008080; text-decoration-color: #008080; font-weight: bold\">25</span>/<span style=\"color: #008080; text-decoration-color: #008080; font-weight: bold\">50</span>\n",
       "</pre>\n"
      ],
      "text/plain": [
       "Epoch \u001b[1;36m25\u001b[0m/\u001b[1;36m50\u001b[0m\n"
      ]
     },
     "metadata": {},
     "output_type": "display_data"
    },
    {
     "data": {
      "text/html": [
       "<pre style=\"white-space:pre;overflow-x:auto;line-height:normal;font-family:Menlo,'DejaVu Sans Mono',consolas,'Courier New',monospace\">Train Loss: <span style=\"color: #008080; text-decoration-color: #008080; font-weight: bold\">582.2685</span>, Val Loss: <span style=\"color: #008080; text-decoration-color: #008080; font-weight: bold\">841.5123</span>\n",
       "</pre>\n"
      ],
      "text/plain": [
       "Train Loss: \u001b[1;36m582.2685\u001b[0m, Val Loss: \u001b[1;36m841.5123\u001b[0m\n"
      ]
     },
     "metadata": {},
     "output_type": "display_data"
    },
    {
     "data": {
      "text/html": [
       "<pre style=\"white-space:pre;overflow-x:auto;line-height:normal;font-family:Menlo,'DejaVu Sans Mono',consolas,'Courier New',monospace\">Learning Rate: <span style=\"color: #008080; text-decoration-color: #008080; font-weight: bold\">0.002000</span>\n",
       "</pre>\n"
      ],
      "text/plain": [
       "Learning Rate: \u001b[1;36m0.002000\u001b[0m\n"
      ]
     },
     "metadata": {},
     "output_type": "display_data"
    },
    {
     "data": {
      "text/html": [
       "<pre style=\"white-space:pre;overflow-x:auto;line-height:normal;font-family:Menlo,'DejaVu Sans Mono',consolas,'Courier New',monospace\">Validation Score: <span style=\"color: #008080; text-decoration-color: #008080; font-weight: bold\">0.5725</span>\n",
       "</pre>\n"
      ],
      "text/plain": [
       "Validation Score: \u001b[1;36m0.5725\u001b[0m\n"
      ]
     },
     "metadata": {},
     "output_type": "display_data"
    },
    {
     "name": "stderr",
     "output_type": "stream",
     "text": [
      "Epoch 26/50: 100%|███████████████████████████████████████████████████████████████████████████████████████████████████████████████████████████████████████████████████| 726/726 [01:59<00:00,  6.07it/s]\n"
     ]
    },
    {
     "data": {
      "text/html": [
       "<pre style=\"white-space:pre;overflow-x:auto;line-height:normal;font-family:Menlo,'DejaVu Sans Mono',consolas,'Courier New',monospace\">Epoch <span style=\"color: #008080; text-decoration-color: #008080; font-weight: bold\">26</span>/<span style=\"color: #008080; text-decoration-color: #008080; font-weight: bold\">50</span>\n",
       "</pre>\n"
      ],
      "text/plain": [
       "Epoch \u001b[1;36m26\u001b[0m/\u001b[1;36m50\u001b[0m\n"
      ]
     },
     "metadata": {},
     "output_type": "display_data"
    },
    {
     "data": {
      "text/html": [
       "<pre style=\"white-space:pre;overflow-x:auto;line-height:normal;font-family:Menlo,'DejaVu Sans Mono',consolas,'Courier New',monospace\">Train Loss: <span style=\"color: #008080; text-decoration-color: #008080; font-weight: bold\">579.3713</span>, Val Loss: <span style=\"color: #008080; text-decoration-color: #008080; font-weight: bold\">827.9904</span>\n",
       "</pre>\n"
      ],
      "text/plain": [
       "Train Loss: \u001b[1;36m579.3713\u001b[0m, Val Loss: \u001b[1;36m827.9904\u001b[0m\n"
      ]
     },
     "metadata": {},
     "output_type": "display_data"
    },
    {
     "data": {
      "text/html": [
       "<pre style=\"white-space:pre;overflow-x:auto;line-height:normal;font-family:Menlo,'DejaVu Sans Mono',consolas,'Courier New',monospace\">Learning Rate: <span style=\"color: #008080; text-decoration-color: #008080; font-weight: bold\">0.002000</span>\n",
       "</pre>\n"
      ],
      "text/plain": [
       "Learning Rate: \u001b[1;36m0.002000\u001b[0m\n"
      ]
     },
     "metadata": {},
     "output_type": "display_data"
    },
    {
     "data": {
      "text/html": [
       "<pre style=\"white-space:pre;overflow-x:auto;line-height:normal;font-family:Menlo,'DejaVu Sans Mono',consolas,'Courier New',monospace\">Validation Score: <span style=\"color: #008080; text-decoration-color: #008080; font-weight: bold\">0.6005</span>\n",
       "</pre>\n"
      ],
      "text/plain": [
       "Validation Score: \u001b[1;36m0.6005\u001b[0m\n"
      ]
     },
     "metadata": {},
     "output_type": "display_data"
    },
    {
     "name": "stderr",
     "output_type": "stream",
     "text": [
      "Epoch 27/50: 100%|███████████████████████████████████████████████████████████████████████████████████████████████████████████████████████████████████████████████████| 726/726 [01:59<00:00,  6.06it/s]\n"
     ]
    },
    {
     "data": {
      "text/html": [
       "<pre style=\"white-space:pre;overflow-x:auto;line-height:normal;font-family:Menlo,'DejaVu Sans Mono',consolas,'Courier New',monospace\">Epoch <span style=\"color: #008080; text-decoration-color: #008080; font-weight: bold\">27</span>/<span style=\"color: #008080; text-decoration-color: #008080; font-weight: bold\">50</span>\n",
       "</pre>\n"
      ],
      "text/plain": [
       "Epoch \u001b[1;36m27\u001b[0m/\u001b[1;36m50\u001b[0m\n"
      ]
     },
     "metadata": {},
     "output_type": "display_data"
    },
    {
     "data": {
      "text/html": [
       "<pre style=\"white-space:pre;overflow-x:auto;line-height:normal;font-family:Menlo,'DejaVu Sans Mono',consolas,'Courier New',monospace\">Train Loss: <span style=\"color: #008080; text-decoration-color: #008080; font-weight: bold\">569.0969</span>, Val Loss: <span style=\"color: #008080; text-decoration-color: #008080; font-weight: bold\">861.8091</span>\n",
       "</pre>\n"
      ],
      "text/plain": [
       "Train Loss: \u001b[1;36m569.0969\u001b[0m, Val Loss: \u001b[1;36m861.8091\u001b[0m\n"
      ]
     },
     "metadata": {},
     "output_type": "display_data"
    },
    {
     "data": {
      "text/html": [
       "<pre style=\"white-space:pre;overflow-x:auto;line-height:normal;font-family:Menlo,'DejaVu Sans Mono',consolas,'Courier New',monospace\">Learning Rate: <span style=\"color: #008080; text-decoration-color: #008080; font-weight: bold\">0.002000</span>\n",
       "</pre>\n"
      ],
      "text/plain": [
       "Learning Rate: \u001b[1;36m0.002000\u001b[0m\n"
      ]
     },
     "metadata": {},
     "output_type": "display_data"
    },
    {
     "data": {
      "text/html": [
       "<pre style=\"white-space:pre;overflow-x:auto;line-height:normal;font-family:Menlo,'DejaVu Sans Mono',consolas,'Courier New',monospace\">Validation Score: <span style=\"color: #008080; text-decoration-color: #008080; font-weight: bold\">0.5909</span>\n",
       "</pre>\n"
      ],
      "text/plain": [
       "Validation Score: \u001b[1;36m0.5909\u001b[0m\n"
      ]
     },
     "metadata": {},
     "output_type": "display_data"
    },
    {
     "name": "stderr",
     "output_type": "stream",
     "text": [
      "Epoch 28/50: 100%|███████████████████████████████████████████████████████████████████████████████████████████████████████████████████████████████████████████████████| 726/726 [02:00<00:00,  6.05it/s]\n"
     ]
    },
    {
     "data": {
      "text/html": [
       "<pre style=\"white-space:pre;overflow-x:auto;line-height:normal;font-family:Menlo,'DejaVu Sans Mono',consolas,'Courier New',monospace\">Epoch <span style=\"color: #008080; text-decoration-color: #008080; font-weight: bold\">28</span>/<span style=\"color: #008080; text-decoration-color: #008080; font-weight: bold\">50</span>\n",
       "</pre>\n"
      ],
      "text/plain": [
       "Epoch \u001b[1;36m28\u001b[0m/\u001b[1;36m50\u001b[0m\n"
      ]
     },
     "metadata": {},
     "output_type": "display_data"
    },
    {
     "data": {
      "text/html": [
       "<pre style=\"white-space:pre;overflow-x:auto;line-height:normal;font-family:Menlo,'DejaVu Sans Mono',consolas,'Courier New',monospace\">Train Loss: <span style=\"color: #008080; text-decoration-color: #008080; font-weight: bold\">575.0144</span>, Val Loss: <span style=\"color: #008080; text-decoration-color: #008080; font-weight: bold\">865.7484</span>\n",
       "</pre>\n"
      ],
      "text/plain": [
       "Train Loss: \u001b[1;36m575.0144\u001b[0m, Val Loss: \u001b[1;36m865.7484\u001b[0m\n"
      ]
     },
     "metadata": {},
     "output_type": "display_data"
    },
    {
     "data": {
      "text/html": [
       "<pre style=\"white-space:pre;overflow-x:auto;line-height:normal;font-family:Menlo,'DejaVu Sans Mono',consolas,'Courier New',monospace\">Learning Rate: <span style=\"color: #008080; text-decoration-color: #008080; font-weight: bold\">0.002000</span>\n",
       "</pre>\n"
      ],
      "text/plain": [
       "Learning Rate: \u001b[1;36m0.002000\u001b[0m\n"
      ]
     },
     "metadata": {},
     "output_type": "display_data"
    },
    {
     "data": {
      "text/html": [
       "<pre style=\"white-space:pre;overflow-x:auto;line-height:normal;font-family:Menlo,'DejaVu Sans Mono',consolas,'Courier New',monospace\">Validation Score: <span style=\"color: #008080; text-decoration-color: #008080; font-weight: bold\">0.5511</span>\n",
       "</pre>\n"
      ],
      "text/plain": [
       "Validation Score: \u001b[1;36m0.5511\u001b[0m\n"
      ]
     },
     "metadata": {},
     "output_type": "display_data"
    },
    {
     "name": "stderr",
     "output_type": "stream",
     "text": [
      "Epoch 29/50: 100%|███████████████████████████████████████████████████████████████████████████████████████████████████████████████████████████████████████████████████| 726/726 [02:00<00:00,  6.01it/s]\n"
     ]
    },
    {
     "data": {
      "text/html": [
       "<pre style=\"white-space:pre;overflow-x:auto;line-height:normal;font-family:Menlo,'DejaVu Sans Mono',consolas,'Courier New',monospace\">Epoch <span style=\"color: #008080; text-decoration-color: #008080; font-weight: bold\">29</span>/<span style=\"color: #008080; text-decoration-color: #008080; font-weight: bold\">50</span>\n",
       "</pre>\n"
      ],
      "text/plain": [
       "Epoch \u001b[1;36m29\u001b[0m/\u001b[1;36m50\u001b[0m\n"
      ]
     },
     "metadata": {},
     "output_type": "display_data"
    },
    {
     "data": {
      "text/html": [
       "<pre style=\"white-space:pre;overflow-x:auto;line-height:normal;font-family:Menlo,'DejaVu Sans Mono',consolas,'Courier New',monospace\">Train Loss: <span style=\"color: #008080; text-decoration-color: #008080; font-weight: bold\">568.6719</span>, Val Loss: <span style=\"color: #008080; text-decoration-color: #008080; font-weight: bold\">881.4577</span>\n",
       "</pre>\n"
      ],
      "text/plain": [
       "Train Loss: \u001b[1;36m568.6719\u001b[0m, Val Loss: \u001b[1;36m881.4577\u001b[0m\n"
      ]
     },
     "metadata": {},
     "output_type": "display_data"
    },
    {
     "data": {
      "text/html": [
       "<pre style=\"white-space:pre;overflow-x:auto;line-height:normal;font-family:Menlo,'DejaVu Sans Mono',consolas,'Courier New',monospace\">Learning Rate: <span style=\"color: #008080; text-decoration-color: #008080; font-weight: bold\">0.002000</span>\n",
       "</pre>\n"
      ],
      "text/plain": [
       "Learning Rate: \u001b[1;36m0.002000\u001b[0m\n"
      ]
     },
     "metadata": {},
     "output_type": "display_data"
    },
    {
     "data": {
      "text/html": [
       "<pre style=\"white-space:pre;overflow-x:auto;line-height:normal;font-family:Menlo,'DejaVu Sans Mono',consolas,'Courier New',monospace\">Validation Score: <span style=\"color: #008080; text-decoration-color: #008080; font-weight: bold\">0.6094</span>\n",
       "</pre>\n"
      ],
      "text/plain": [
       "Validation Score: \u001b[1;36m0.6094\u001b[0m\n"
      ]
     },
     "metadata": {},
     "output_type": "display_data"
    },
    {
     "data": {
      "text/html": [
       "<pre style=\"white-space:pre;overflow-x:auto;line-height:normal;font-family:Menlo,'DejaVu Sans Mono',consolas,'Courier New',monospace\">New best model found with socre: <span style=\"color: #008080; text-decoration-color: #008080; font-weight: bold\">0.6094</span>\n",
       "</pre>\n"
      ],
      "text/plain": [
       "New best model found with socre: \u001b[1;36m0.6094\u001b[0m\n"
      ]
     },
     "metadata": {},
     "output_type": "display_data"
    },
    {
     "name": "stderr",
     "output_type": "stream",
     "text": [
      "Epoch 30/50: 100%|███████████████████████████████████████████████████████████████████████████████████████████████████████████████████████████████████████████████████| 726/726 [02:03<00:00,  5.86it/s]\n"
     ]
    },
    {
     "data": {
      "text/html": [
       "<pre style=\"white-space:pre;overflow-x:auto;line-height:normal;font-family:Menlo,'DejaVu Sans Mono',consolas,'Courier New',monospace\">Epoch <span style=\"color: #008080; text-decoration-color: #008080; font-weight: bold\">30</span>/<span style=\"color: #008080; text-decoration-color: #008080; font-weight: bold\">50</span>\n",
       "</pre>\n"
      ],
      "text/plain": [
       "Epoch \u001b[1;36m30\u001b[0m/\u001b[1;36m50\u001b[0m\n"
      ]
     },
     "metadata": {},
     "output_type": "display_data"
    },
    {
     "data": {
      "text/html": [
       "<pre style=\"white-space:pre;overflow-x:auto;line-height:normal;font-family:Menlo,'DejaVu Sans Mono',consolas,'Courier New',monospace\">Train Loss: <span style=\"color: #008080; text-decoration-color: #008080; font-weight: bold\">560.2003</span>, Val Loss: <span style=\"color: #008080; text-decoration-color: #008080; font-weight: bold\">834.0455</span>\n",
       "</pre>\n"
      ],
      "text/plain": [
       "Train Loss: \u001b[1;36m560.2003\u001b[0m, Val Loss: \u001b[1;36m834.0455\u001b[0m\n"
      ]
     },
     "metadata": {},
     "output_type": "display_data"
    },
    {
     "data": {
      "text/html": [
       "<pre style=\"white-space:pre;overflow-x:auto;line-height:normal;font-family:Menlo,'DejaVu Sans Mono',consolas,'Courier New',monospace\">Learning Rate: <span style=\"color: #008080; text-decoration-color: #008080; font-weight: bold\">0.002000</span>\n",
       "</pre>\n"
      ],
      "text/plain": [
       "Learning Rate: \u001b[1;36m0.002000\u001b[0m\n"
      ]
     },
     "metadata": {},
     "output_type": "display_data"
    },
    {
     "data": {
      "text/html": [
       "<pre style=\"white-space:pre;overflow-x:auto;line-height:normal;font-family:Menlo,'DejaVu Sans Mono',consolas,'Courier New',monospace\">Validation Score: <span style=\"color: #008080; text-decoration-color: #008080; font-weight: bold\">0.5984</span>\n",
       "</pre>\n"
      ],
      "text/plain": [
       "Validation Score: \u001b[1;36m0.5984\u001b[0m\n"
      ]
     },
     "metadata": {},
     "output_type": "display_data"
    },
    {
     "name": "stderr",
     "output_type": "stream",
     "text": [
      "Epoch 31/50: 100%|███████████████████████████████████████████████████████████████████████████████████████████████████████████████████████████████████████████████████| 726/726 [02:00<00:00,  6.01it/s]\n"
     ]
    },
    {
     "data": {
      "text/html": [
       "<pre style=\"white-space:pre;overflow-x:auto;line-height:normal;font-family:Menlo,'DejaVu Sans Mono',consolas,'Courier New',monospace\">Epoch <span style=\"color: #008080; text-decoration-color: #008080; font-weight: bold\">31</span>/<span style=\"color: #008080; text-decoration-color: #008080; font-weight: bold\">50</span>\n",
       "</pre>\n"
      ],
      "text/plain": [
       "Epoch \u001b[1;36m31\u001b[0m/\u001b[1;36m50\u001b[0m\n"
      ]
     },
     "metadata": {},
     "output_type": "display_data"
    },
    {
     "data": {
      "text/html": [
       "<pre style=\"white-space:pre;overflow-x:auto;line-height:normal;font-family:Menlo,'DejaVu Sans Mono',consolas,'Courier New',monospace\">Train Loss: <span style=\"color: #008080; text-decoration-color: #008080; font-weight: bold\">554.2267</span>, Val Loss: <span style=\"color: #008080; text-decoration-color: #008080; font-weight: bold\">857.8252</span>\n",
       "</pre>\n"
      ],
      "text/plain": [
       "Train Loss: \u001b[1;36m554.2267\u001b[0m, Val Loss: \u001b[1;36m857.8252\u001b[0m\n"
      ]
     },
     "metadata": {},
     "output_type": "display_data"
    },
    {
     "data": {
      "text/html": [
       "<pre style=\"white-space:pre;overflow-x:auto;line-height:normal;font-family:Menlo,'DejaVu Sans Mono',consolas,'Courier New',monospace\">Learning Rate: <span style=\"color: #008080; text-decoration-color: #008080; font-weight: bold\">0.002000</span>\n",
       "</pre>\n"
      ],
      "text/plain": [
       "Learning Rate: \u001b[1;36m0.002000\u001b[0m\n"
      ]
     },
     "metadata": {},
     "output_type": "display_data"
    },
    {
     "data": {
      "text/html": [
       "<pre style=\"white-space:pre;overflow-x:auto;line-height:normal;font-family:Menlo,'DejaVu Sans Mono',consolas,'Courier New',monospace\">Validation Score: <span style=\"color: #008080; text-decoration-color: #008080; font-weight: bold\">0.5920</span>\n",
       "</pre>\n"
      ],
      "text/plain": [
       "Validation Score: \u001b[1;36m0.5920\u001b[0m\n"
      ]
     },
     "metadata": {},
     "output_type": "display_data"
    },
    {
     "name": "stderr",
     "output_type": "stream",
     "text": [
      "Epoch 32/50: 100%|███████████████████████████████████████████████████████████████████████████████████████████████████████████████████████████████████████████████████| 726/726 [01:58<00:00,  6.11it/s]\n"
     ]
    },
    {
     "data": {
      "text/html": [
       "<pre style=\"white-space:pre;overflow-x:auto;line-height:normal;font-family:Menlo,'DejaVu Sans Mono',consolas,'Courier New',monospace\">Epoch <span style=\"color: #008080; text-decoration-color: #008080; font-weight: bold\">32</span>/<span style=\"color: #008080; text-decoration-color: #008080; font-weight: bold\">50</span>\n",
       "</pre>\n"
      ],
      "text/plain": [
       "Epoch \u001b[1;36m32\u001b[0m/\u001b[1;36m50\u001b[0m\n"
      ]
     },
     "metadata": {},
     "output_type": "display_data"
    },
    {
     "data": {
      "text/html": [
       "<pre style=\"white-space:pre;overflow-x:auto;line-height:normal;font-family:Menlo,'DejaVu Sans Mono',consolas,'Courier New',monospace\">Train Loss: <span style=\"color: #008080; text-decoration-color: #008080; font-weight: bold\">549.1495</span>, Val Loss: <span style=\"color: #008080; text-decoration-color: #008080; font-weight: bold\">834.9176</span>\n",
       "</pre>\n"
      ],
      "text/plain": [
       "Train Loss: \u001b[1;36m549.1495\u001b[0m, Val Loss: \u001b[1;36m834.9176\u001b[0m\n"
      ]
     },
     "metadata": {},
     "output_type": "display_data"
    },
    {
     "data": {
      "text/html": [
       "<pre style=\"white-space:pre;overflow-x:auto;line-height:normal;font-family:Menlo,'DejaVu Sans Mono',consolas,'Courier New',monospace\">Learning Rate: <span style=\"color: #008080; text-decoration-color: #008080; font-weight: bold\">0.002000</span>\n",
       "</pre>\n"
      ],
      "text/plain": [
       "Learning Rate: \u001b[1;36m0.002000\u001b[0m\n"
      ]
     },
     "metadata": {},
     "output_type": "display_data"
    },
    {
     "data": {
      "text/html": [
       "<pre style=\"white-space:pre;overflow-x:auto;line-height:normal;font-family:Menlo,'DejaVu Sans Mono',consolas,'Courier New',monospace\">Validation Score: <span style=\"color: #008080; text-decoration-color: #008080; font-weight: bold\">0.6174</span>\n",
       "</pre>\n"
      ],
      "text/plain": [
       "Validation Score: \u001b[1;36m0.6174\u001b[0m\n"
      ]
     },
     "metadata": {},
     "output_type": "display_data"
    },
    {
     "data": {
      "text/html": [
       "<pre style=\"white-space:pre;overflow-x:auto;line-height:normal;font-family:Menlo,'DejaVu Sans Mono',consolas,'Courier New',monospace\">New best model found with socre: <span style=\"color: #008080; text-decoration-color: #008080; font-weight: bold\">0.6174</span>\n",
       "</pre>\n"
      ],
      "text/plain": [
       "New best model found with socre: \u001b[1;36m0.6174\u001b[0m\n"
      ]
     },
     "metadata": {},
     "output_type": "display_data"
    },
    {
     "name": "stderr",
     "output_type": "stream",
     "text": [
      "Epoch 33/50: 100%|███████████████████████████████████████████████████████████████████████████████████████████████████████████████████████████████████████████████████| 726/726 [02:01<00:00,  5.96it/s]\n"
     ]
    },
    {
     "data": {
      "text/html": [
       "<pre style=\"white-space:pre;overflow-x:auto;line-height:normal;font-family:Menlo,'DejaVu Sans Mono',consolas,'Courier New',monospace\">Epoch <span style=\"color: #008080; text-decoration-color: #008080; font-weight: bold\">33</span>/<span style=\"color: #008080; text-decoration-color: #008080; font-weight: bold\">50</span>\n",
       "</pre>\n"
      ],
      "text/plain": [
       "Epoch \u001b[1;36m33\u001b[0m/\u001b[1;36m50\u001b[0m\n"
      ]
     },
     "metadata": {},
     "output_type": "display_data"
    },
    {
     "data": {
      "text/html": [
       "<pre style=\"white-space:pre;overflow-x:auto;line-height:normal;font-family:Menlo,'DejaVu Sans Mono',consolas,'Courier New',monospace\">Train Loss: <span style=\"color: #008080; text-decoration-color: #008080; font-weight: bold\">549.4745</span>, Val Loss: <span style=\"color: #008080; text-decoration-color: #008080; font-weight: bold\">848.2819</span>\n",
       "</pre>\n"
      ],
      "text/plain": [
       "Train Loss: \u001b[1;36m549.4745\u001b[0m, Val Loss: \u001b[1;36m848.2819\u001b[0m\n"
      ]
     },
     "metadata": {},
     "output_type": "display_data"
    },
    {
     "data": {
      "text/html": [
       "<pre style=\"white-space:pre;overflow-x:auto;line-height:normal;font-family:Menlo,'DejaVu Sans Mono',consolas,'Courier New',monospace\">Learning Rate: <span style=\"color: #008080; text-decoration-color: #008080; font-weight: bold\">0.002000</span>\n",
       "</pre>\n"
      ],
      "text/plain": [
       "Learning Rate: \u001b[1;36m0.002000\u001b[0m\n"
      ]
     },
     "metadata": {},
     "output_type": "display_data"
    },
    {
     "data": {
      "text/html": [
       "<pre style=\"white-space:pre;overflow-x:auto;line-height:normal;font-family:Menlo,'DejaVu Sans Mono',consolas,'Courier New',monospace\">Validation Score: <span style=\"color: #008080; text-decoration-color: #008080; font-weight: bold\">0.5824</span>\n",
       "</pre>\n"
      ],
      "text/plain": [
       "Validation Score: \u001b[1;36m0.5824\u001b[0m\n"
      ]
     },
     "metadata": {},
     "output_type": "display_data"
    },
    {
     "name": "stderr",
     "output_type": "stream",
     "text": [
      "Epoch 34/50: 100%|███████████████████████████████████████████████████████████████████████████████████████████████████████████████████████████████████████████████████| 726/726 [02:00<00:00,  6.02it/s]\n"
     ]
    },
    {
     "data": {
      "text/html": [
       "<pre style=\"white-space:pre;overflow-x:auto;line-height:normal;font-family:Menlo,'DejaVu Sans Mono',consolas,'Courier New',monospace\">Epoch <span style=\"color: #008080; text-decoration-color: #008080; font-weight: bold\">34</span>/<span style=\"color: #008080; text-decoration-color: #008080; font-weight: bold\">50</span>\n",
       "</pre>\n"
      ],
      "text/plain": [
       "Epoch \u001b[1;36m34\u001b[0m/\u001b[1;36m50\u001b[0m\n"
      ]
     },
     "metadata": {},
     "output_type": "display_data"
    },
    {
     "data": {
      "text/html": [
       "<pre style=\"white-space:pre;overflow-x:auto;line-height:normal;font-family:Menlo,'DejaVu Sans Mono',consolas,'Courier New',monospace\">Train Loss: <span style=\"color: #008080; text-decoration-color: #008080; font-weight: bold\">549.3716</span>, Val Loss: <span style=\"color: #008080; text-decoration-color: #008080; font-weight: bold\">840.3848</span>\n",
       "</pre>\n"
      ],
      "text/plain": [
       "Train Loss: \u001b[1;36m549.3716\u001b[0m, Val Loss: \u001b[1;36m840.3848\u001b[0m\n"
      ]
     },
     "metadata": {},
     "output_type": "display_data"
    },
    {
     "data": {
      "text/html": [
       "<pre style=\"white-space:pre;overflow-x:auto;line-height:normal;font-family:Menlo,'DejaVu Sans Mono',consolas,'Courier New',monospace\">Learning Rate: <span style=\"color: #008080; text-decoration-color: #008080; font-weight: bold\">0.002000</span>\n",
       "</pre>\n"
      ],
      "text/plain": [
       "Learning Rate: \u001b[1;36m0.002000\u001b[0m\n"
      ]
     },
     "metadata": {},
     "output_type": "display_data"
    },
    {
     "data": {
      "text/html": [
       "<pre style=\"white-space:pre;overflow-x:auto;line-height:normal;font-family:Menlo,'DejaVu Sans Mono',consolas,'Courier New',monospace\">Validation Score: <span style=\"color: #008080; text-decoration-color: #008080; font-weight: bold\">0.6195</span>\n",
       "</pre>\n"
      ],
      "text/plain": [
       "Validation Score: \u001b[1;36m0.6195\u001b[0m\n"
      ]
     },
     "metadata": {},
     "output_type": "display_data"
    },
    {
     "data": {
      "text/html": [
       "<pre style=\"white-space:pre;overflow-x:auto;line-height:normal;font-family:Menlo,'DejaVu Sans Mono',consolas,'Courier New',monospace\">New best model found with socre: <span style=\"color: #008080; text-decoration-color: #008080; font-weight: bold\">0.6195</span>\n",
       "</pre>\n"
      ],
      "text/plain": [
       "New best model found with socre: \u001b[1;36m0.6195\u001b[0m\n"
      ]
     },
     "metadata": {},
     "output_type": "display_data"
    },
    {
     "name": "stderr",
     "output_type": "stream",
     "text": [
      "Epoch 35/50: 100%|███████████████████████████████████████████████████████████████████████████████████████████████████████████████████████████████████████████████████| 726/726 [02:01<00:00,  6.00it/s]\n"
     ]
    },
    {
     "data": {
      "text/html": [
       "<pre style=\"white-space:pre;overflow-x:auto;line-height:normal;font-family:Menlo,'DejaVu Sans Mono',consolas,'Courier New',monospace\">Epoch <span style=\"color: #008080; text-decoration-color: #008080; font-weight: bold\">35</span>/<span style=\"color: #008080; text-decoration-color: #008080; font-weight: bold\">50</span>\n",
       "</pre>\n"
      ],
      "text/plain": [
       "Epoch \u001b[1;36m35\u001b[0m/\u001b[1;36m50\u001b[0m\n"
      ]
     },
     "metadata": {},
     "output_type": "display_data"
    },
    {
     "data": {
      "text/html": [
       "<pre style=\"white-space:pre;overflow-x:auto;line-height:normal;font-family:Menlo,'DejaVu Sans Mono',consolas,'Courier New',monospace\">Train Loss: <span style=\"color: #008080; text-decoration-color: #008080; font-weight: bold\">551.6274</span>, Val Loss: <span style=\"color: #008080; text-decoration-color: #008080; font-weight: bold\">843.5495</span>\n",
       "</pre>\n"
      ],
      "text/plain": [
       "Train Loss: \u001b[1;36m551.6274\u001b[0m, Val Loss: \u001b[1;36m843.5495\u001b[0m\n"
      ]
     },
     "metadata": {},
     "output_type": "display_data"
    },
    {
     "data": {
      "text/html": [
       "<pre style=\"white-space:pre;overflow-x:auto;line-height:normal;font-family:Menlo,'DejaVu Sans Mono',consolas,'Courier New',monospace\">Learning Rate: <span style=\"color: #008080; text-decoration-color: #008080; font-weight: bold\">0.002000</span>\n",
       "</pre>\n"
      ],
      "text/plain": [
       "Learning Rate: \u001b[1;36m0.002000\u001b[0m\n"
      ]
     },
     "metadata": {},
     "output_type": "display_data"
    },
    {
     "data": {
      "text/html": [
       "<pre style=\"white-space:pre;overflow-x:auto;line-height:normal;font-family:Menlo,'DejaVu Sans Mono',consolas,'Courier New',monospace\">Validation Score: <span style=\"color: #008080; text-decoration-color: #008080; font-weight: bold\">0.5896</span>\n",
       "</pre>\n"
      ],
      "text/plain": [
       "Validation Score: \u001b[1;36m0.5896\u001b[0m\n"
      ]
     },
     "metadata": {},
     "output_type": "display_data"
    },
    {
     "name": "stderr",
     "output_type": "stream",
     "text": [
      "Epoch 36/50: 100%|███████████████████████████████████████████████████████████████████████████████████████████████████████████████████████████████████████████████████| 726/726 [01:52<00:00,  6.45it/s]\n"
     ]
    },
    {
     "data": {
      "text/html": [
       "<pre style=\"white-space:pre;overflow-x:auto;line-height:normal;font-family:Menlo,'DejaVu Sans Mono',consolas,'Courier New',monospace\">Epoch <span style=\"color: #008080; text-decoration-color: #008080; font-weight: bold\">36</span>/<span style=\"color: #008080; text-decoration-color: #008080; font-weight: bold\">50</span>\n",
       "</pre>\n"
      ],
      "text/plain": [
       "Epoch \u001b[1;36m36\u001b[0m/\u001b[1;36m50\u001b[0m\n"
      ]
     },
     "metadata": {},
     "output_type": "display_data"
    },
    {
     "data": {
      "text/html": [
       "<pre style=\"white-space:pre;overflow-x:auto;line-height:normal;font-family:Menlo,'DejaVu Sans Mono',consolas,'Courier New',monospace\">Train Loss: <span style=\"color: #008080; text-decoration-color: #008080; font-weight: bold\">539.3358</span>, Val Loss: <span style=\"color: #008080; text-decoration-color: #008080; font-weight: bold\">855.9551</span>\n",
       "</pre>\n"
      ],
      "text/plain": [
       "Train Loss: \u001b[1;36m539.3358\u001b[0m, Val Loss: \u001b[1;36m855.9551\u001b[0m\n"
      ]
     },
     "metadata": {},
     "output_type": "display_data"
    },
    {
     "data": {
      "text/html": [
       "<pre style=\"white-space:pre;overflow-x:auto;line-height:normal;font-family:Menlo,'DejaVu Sans Mono',consolas,'Courier New',monospace\">Learning Rate: <span style=\"color: #008080; text-decoration-color: #008080; font-weight: bold\">0.002000</span>\n",
       "</pre>\n"
      ],
      "text/plain": [
       "Learning Rate: \u001b[1;36m0.002000\u001b[0m\n"
      ]
     },
     "metadata": {},
     "output_type": "display_data"
    },
    {
     "data": {
      "text/html": [
       "<pre style=\"white-space:pre;overflow-x:auto;line-height:normal;font-family:Menlo,'DejaVu Sans Mono',consolas,'Courier New',monospace\">Validation Score: <span style=\"color: #008080; text-decoration-color: #008080; font-weight: bold\">0.6058</span>\n",
       "</pre>\n"
      ],
      "text/plain": [
       "Validation Score: \u001b[1;36m0.6058\u001b[0m\n"
      ]
     },
     "metadata": {},
     "output_type": "display_data"
    },
    {
     "name": "stderr",
     "output_type": "stream",
     "text": [
      "Epoch 37/50: 100%|███████████████████████████████████████████████████████████████████████████████████████████████████████████████████████████████████████████████████| 726/726 [01:50<00:00,  6.55it/s]\n"
     ]
    },
    {
     "data": {
      "text/html": [
       "<pre style=\"white-space:pre;overflow-x:auto;line-height:normal;font-family:Menlo,'DejaVu Sans Mono',consolas,'Courier New',monospace\">Epoch <span style=\"color: #008080; text-decoration-color: #008080; font-weight: bold\">37</span>/<span style=\"color: #008080; text-decoration-color: #008080; font-weight: bold\">50</span>\n",
       "</pre>\n"
      ],
      "text/plain": [
       "Epoch \u001b[1;36m37\u001b[0m/\u001b[1;36m50\u001b[0m\n"
      ]
     },
     "metadata": {},
     "output_type": "display_data"
    },
    {
     "data": {
      "text/html": [
       "<pre style=\"white-space:pre;overflow-x:auto;line-height:normal;font-family:Menlo,'DejaVu Sans Mono',consolas,'Courier New',monospace\">Train Loss: <span style=\"color: #008080; text-decoration-color: #008080; font-weight: bold\">534.7458</span>, Val Loss: <span style=\"color: #008080; text-decoration-color: #008080; font-weight: bold\">886.6640</span>\n",
       "</pre>\n"
      ],
      "text/plain": [
       "Train Loss: \u001b[1;36m534.7458\u001b[0m, Val Loss: \u001b[1;36m886.6640\u001b[0m\n"
      ]
     },
     "metadata": {},
     "output_type": "display_data"
    },
    {
     "data": {
      "text/html": [
       "<pre style=\"white-space:pre;overflow-x:auto;line-height:normal;font-family:Menlo,'DejaVu Sans Mono',consolas,'Courier New',monospace\">Learning Rate: <span style=\"color: #008080; text-decoration-color: #008080; font-weight: bold\">0.002000</span>\n",
       "</pre>\n"
      ],
      "text/plain": [
       "Learning Rate: \u001b[1;36m0.002000\u001b[0m\n"
      ]
     },
     "metadata": {},
     "output_type": "display_data"
    },
    {
     "data": {
      "text/html": [
       "<pre style=\"white-space:pre;overflow-x:auto;line-height:normal;font-family:Menlo,'DejaVu Sans Mono',consolas,'Courier New',monospace\">Validation Score: <span style=\"color: #008080; text-decoration-color: #008080; font-weight: bold\">0.5713</span>\n",
       "</pre>\n"
      ],
      "text/plain": [
       "Validation Score: \u001b[1;36m0.5713\u001b[0m\n"
      ]
     },
     "metadata": {},
     "output_type": "display_data"
    },
    {
     "name": "stderr",
     "output_type": "stream",
     "text": [
      "Epoch 38/50: 100%|███████████████████████████████████████████████████████████████████████████████████████████████████████████████████████████████████████████████████| 726/726 [01:52<00:00,  6.47it/s]\n"
     ]
    },
    {
     "data": {
      "text/html": [
       "<pre style=\"white-space:pre;overflow-x:auto;line-height:normal;font-family:Menlo,'DejaVu Sans Mono',consolas,'Courier New',monospace\">Epoch <span style=\"color: #008080; text-decoration-color: #008080; font-weight: bold\">38</span>/<span style=\"color: #008080; text-decoration-color: #008080; font-weight: bold\">50</span>\n",
       "</pre>\n"
      ],
      "text/plain": [
       "Epoch \u001b[1;36m38\u001b[0m/\u001b[1;36m50\u001b[0m\n"
      ]
     },
     "metadata": {},
     "output_type": "display_data"
    },
    {
     "data": {
      "text/html": [
       "<pre style=\"white-space:pre;overflow-x:auto;line-height:normal;font-family:Menlo,'DejaVu Sans Mono',consolas,'Courier New',monospace\">Train Loss: <span style=\"color: #008080; text-decoration-color: #008080; font-weight: bold\">528.3637</span>, Val Loss: <span style=\"color: #008080; text-decoration-color: #008080; font-weight: bold\">831.7739</span>\n",
       "</pre>\n"
      ],
      "text/plain": [
       "Train Loss: \u001b[1;36m528.3637\u001b[0m, Val Loss: \u001b[1;36m831.7739\u001b[0m\n"
      ]
     },
     "metadata": {},
     "output_type": "display_data"
    },
    {
     "data": {
      "text/html": [
       "<pre style=\"white-space:pre;overflow-x:auto;line-height:normal;font-family:Menlo,'DejaVu Sans Mono',consolas,'Courier New',monospace\">Learning Rate: <span style=\"color: #008080; text-decoration-color: #008080; font-weight: bold\">0.002000</span>\n",
       "</pre>\n"
      ],
      "text/plain": [
       "Learning Rate: \u001b[1;36m0.002000\u001b[0m\n"
      ]
     },
     "metadata": {},
     "output_type": "display_data"
    },
    {
     "data": {
      "text/html": [
       "<pre style=\"white-space:pre;overflow-x:auto;line-height:normal;font-family:Menlo,'DejaVu Sans Mono',consolas,'Courier New',monospace\">Validation Score: <span style=\"color: #008080; text-decoration-color: #008080; font-weight: bold\">0.6082</span>\n",
       "</pre>\n"
      ],
      "text/plain": [
       "Validation Score: \u001b[1;36m0.6082\u001b[0m\n"
      ]
     },
     "metadata": {},
     "output_type": "display_data"
    },
    {
     "name": "stderr",
     "output_type": "stream",
     "text": [
      "Epoch 39/50: 100%|███████████████████████████████████████████████████████████████████████████████████████████████████████████████████████████████████████████████████| 726/726 [01:51<00:00,  6.51it/s]\n"
     ]
    },
    {
     "data": {
      "text/html": [
       "<pre style=\"white-space:pre;overflow-x:auto;line-height:normal;font-family:Menlo,'DejaVu Sans Mono',consolas,'Courier New',monospace\">Epoch <span style=\"color: #008080; text-decoration-color: #008080; font-weight: bold\">39</span>/<span style=\"color: #008080; text-decoration-color: #008080; font-weight: bold\">50</span>\n",
       "</pre>\n"
      ],
      "text/plain": [
       "Epoch \u001b[1;36m39\u001b[0m/\u001b[1;36m50\u001b[0m\n"
      ]
     },
     "metadata": {},
     "output_type": "display_data"
    },
    {
     "data": {
      "text/html": [
       "<pre style=\"white-space:pre;overflow-x:auto;line-height:normal;font-family:Menlo,'DejaVu Sans Mono',consolas,'Courier New',monospace\">Train Loss: <span style=\"color: #008080; text-decoration-color: #008080; font-weight: bold\">529.8608</span>, Val Loss: <span style=\"color: #008080; text-decoration-color: #008080; font-weight: bold\">863.7467</span>\n",
       "</pre>\n"
      ],
      "text/plain": [
       "Train Loss: \u001b[1;36m529.8608\u001b[0m, Val Loss: \u001b[1;36m863.7467\u001b[0m\n"
      ]
     },
     "metadata": {},
     "output_type": "display_data"
    },
    {
     "data": {
      "text/html": [
       "<pre style=\"white-space:pre;overflow-x:auto;line-height:normal;font-family:Menlo,'DejaVu Sans Mono',consolas,'Courier New',monospace\">Learning Rate: <span style=\"color: #008080; text-decoration-color: #008080; font-weight: bold\">0.002000</span>\n",
       "</pre>\n"
      ],
      "text/plain": [
       "Learning Rate: \u001b[1;36m0.002000\u001b[0m\n"
      ]
     },
     "metadata": {},
     "output_type": "display_data"
    },
    {
     "data": {
      "text/html": [
       "<pre style=\"white-space:pre;overflow-x:auto;line-height:normal;font-family:Menlo,'DejaVu Sans Mono',consolas,'Courier New',monospace\">Validation Score: <span style=\"color: #008080; text-decoration-color: #008080; font-weight: bold\">0.5919</span>\n",
       "</pre>\n"
      ],
      "text/plain": [
       "Validation Score: \u001b[1;36m0.5919\u001b[0m\n"
      ]
     },
     "metadata": {},
     "output_type": "display_data"
    },
    {
     "name": "stderr",
     "output_type": "stream",
     "text": [
      "Epoch 40/50: 100%|███████████████████████████████████████████████████████████████████████████████████████████████████████████████████████████████████████████████████| 726/726 [01:53<00:00,  6.40it/s]\n"
     ]
    },
    {
     "data": {
      "text/html": [
       "<pre style=\"white-space:pre;overflow-x:auto;line-height:normal;font-family:Menlo,'DejaVu Sans Mono',consolas,'Courier New',monospace\">Epoch <span style=\"color: #008080; text-decoration-color: #008080; font-weight: bold\">40</span>/<span style=\"color: #008080; text-decoration-color: #008080; font-weight: bold\">50</span>\n",
       "</pre>\n"
      ],
      "text/plain": [
       "Epoch \u001b[1;36m40\u001b[0m/\u001b[1;36m50\u001b[0m\n"
      ]
     },
     "metadata": {},
     "output_type": "display_data"
    },
    {
     "data": {
      "text/html": [
       "<pre style=\"white-space:pre;overflow-x:auto;line-height:normal;font-family:Menlo,'DejaVu Sans Mono',consolas,'Courier New',monospace\">Train Loss: <span style=\"color: #008080; text-decoration-color: #008080; font-weight: bold\">522.4330</span>, Val Loss: <span style=\"color: #008080; text-decoration-color: #008080; font-weight: bold\">874.2570</span>\n",
       "</pre>\n"
      ],
      "text/plain": [
       "Train Loss: \u001b[1;36m522.4330\u001b[0m, Val Loss: \u001b[1;36m874.2570\u001b[0m\n"
      ]
     },
     "metadata": {},
     "output_type": "display_data"
    },
    {
     "data": {
      "text/html": [
       "<pre style=\"white-space:pre;overflow-x:auto;line-height:normal;font-family:Menlo,'DejaVu Sans Mono',consolas,'Courier New',monospace\">Learning Rate: <span style=\"color: #008080; text-decoration-color: #008080; font-weight: bold\">0.002000</span>\n",
       "</pre>\n"
      ],
      "text/plain": [
       "Learning Rate: \u001b[1;36m0.002000\u001b[0m\n"
      ]
     },
     "metadata": {},
     "output_type": "display_data"
    },
    {
     "data": {
      "text/html": [
       "<pre style=\"white-space:pre;overflow-x:auto;line-height:normal;font-family:Menlo,'DejaVu Sans Mono',consolas,'Courier New',monospace\">Validation Score: <span style=\"color: #008080; text-decoration-color: #008080; font-weight: bold\">0.6035</span>\n",
       "</pre>\n"
      ],
      "text/plain": [
       "Validation Score: \u001b[1;36m0.6035\u001b[0m\n"
      ]
     },
     "metadata": {},
     "output_type": "display_data"
    },
    {
     "name": "stderr",
     "output_type": "stream",
     "text": [
      "Epoch 41/50: 100%|███████████████████████████████████████████████████████████████████████████████████████████████████████████████████████████████████████████████████| 726/726 [01:52<00:00,  6.45it/s]\n"
     ]
    },
    {
     "data": {
      "text/html": [
       "<pre style=\"white-space:pre;overflow-x:auto;line-height:normal;font-family:Menlo,'DejaVu Sans Mono',consolas,'Courier New',monospace\">Epoch <span style=\"color: #008080; text-decoration-color: #008080; font-weight: bold\">41</span>/<span style=\"color: #008080; text-decoration-color: #008080; font-weight: bold\">50</span>\n",
       "</pre>\n"
      ],
      "text/plain": [
       "Epoch \u001b[1;36m41\u001b[0m/\u001b[1;36m50\u001b[0m\n"
      ]
     },
     "metadata": {},
     "output_type": "display_data"
    },
    {
     "data": {
      "text/html": [
       "<pre style=\"white-space:pre;overflow-x:auto;line-height:normal;font-family:Menlo,'DejaVu Sans Mono',consolas,'Courier New',monospace\">Train Loss: <span style=\"color: #008080; text-decoration-color: #008080; font-weight: bold\">518.9104</span>, Val Loss: <span style=\"color: #008080; text-decoration-color: #008080; font-weight: bold\">847.4694</span>\n",
       "</pre>\n"
      ],
      "text/plain": [
       "Train Loss: \u001b[1;36m518.9104\u001b[0m, Val Loss: \u001b[1;36m847.4694\u001b[0m\n"
      ]
     },
     "metadata": {},
     "output_type": "display_data"
    },
    {
     "data": {
      "text/html": [
       "<pre style=\"white-space:pre;overflow-x:auto;line-height:normal;font-family:Menlo,'DejaVu Sans Mono',consolas,'Courier New',monospace\">Learning Rate: <span style=\"color: #008080; text-decoration-color: #008080; font-weight: bold\">0.002000</span>\n",
       "</pre>\n"
      ],
      "text/plain": [
       "Learning Rate: \u001b[1;36m0.002000\u001b[0m\n"
      ]
     },
     "metadata": {},
     "output_type": "display_data"
    },
    {
     "data": {
      "text/html": [
       "<pre style=\"white-space:pre;overflow-x:auto;line-height:normal;font-family:Menlo,'DejaVu Sans Mono',consolas,'Courier New',monospace\">Validation Score: <span style=\"color: #008080; text-decoration-color: #008080; font-weight: bold\">0.6183</span>\n",
       "</pre>\n"
      ],
      "text/plain": [
       "Validation Score: \u001b[1;36m0.6183\u001b[0m\n"
      ]
     },
     "metadata": {},
     "output_type": "display_data"
    },
    {
     "name": "stderr",
     "output_type": "stream",
     "text": [
      "Epoch 42/50: 100%|███████████████████████████████████████████████████████████████████████████████████████████████████████████████████████████████████████████████████| 726/726 [01:56<00:00,  6.24it/s]\n"
     ]
    },
    {
     "data": {
      "text/html": [
       "<pre style=\"white-space:pre;overflow-x:auto;line-height:normal;font-family:Menlo,'DejaVu Sans Mono',consolas,'Courier New',monospace\">Epoch <span style=\"color: #008080; text-decoration-color: #008080; font-weight: bold\">42</span>/<span style=\"color: #008080; text-decoration-color: #008080; font-weight: bold\">50</span>\n",
       "</pre>\n"
      ],
      "text/plain": [
       "Epoch \u001b[1;36m42\u001b[0m/\u001b[1;36m50\u001b[0m\n"
      ]
     },
     "metadata": {},
     "output_type": "display_data"
    },
    {
     "data": {
      "text/html": [
       "<pre style=\"white-space:pre;overflow-x:auto;line-height:normal;font-family:Menlo,'DejaVu Sans Mono',consolas,'Courier New',monospace\">Train Loss: <span style=\"color: #008080; text-decoration-color: #008080; font-weight: bold\">521.2654</span>, Val Loss: <span style=\"color: #008080; text-decoration-color: #008080; font-weight: bold\">855.5441</span>\n",
       "</pre>\n"
      ],
      "text/plain": [
       "Train Loss: \u001b[1;36m521.2654\u001b[0m, Val Loss: \u001b[1;36m855.5441\u001b[0m\n"
      ]
     },
     "metadata": {},
     "output_type": "display_data"
    },
    {
     "data": {
      "text/html": [
       "<pre style=\"white-space:pre;overflow-x:auto;line-height:normal;font-family:Menlo,'DejaVu Sans Mono',consolas,'Courier New',monospace\">Learning Rate: <span style=\"color: #008080; text-decoration-color: #008080; font-weight: bold\">0.002000</span>\n",
       "</pre>\n"
      ],
      "text/plain": [
       "Learning Rate: \u001b[1;36m0.002000\u001b[0m\n"
      ]
     },
     "metadata": {},
     "output_type": "display_data"
    },
    {
     "data": {
      "text/html": [
       "<pre style=\"white-space:pre;overflow-x:auto;line-height:normal;font-family:Menlo,'DejaVu Sans Mono',consolas,'Courier New',monospace\">Validation Score: <span style=\"color: #008080; text-decoration-color: #008080; font-weight: bold\">0.6063</span>\n",
       "</pre>\n"
      ],
      "text/plain": [
       "Validation Score: \u001b[1;36m0.6063\u001b[0m\n"
      ]
     },
     "metadata": {},
     "output_type": "display_data"
    },
    {
     "name": "stderr",
     "output_type": "stream",
     "text": [
      "Epoch 43/50: 100%|███████████████████████████████████████████████████████████████████████████████████████████████████████████████████████████████████████████████████| 726/726 [01:55<00:00,  6.28it/s]\n"
     ]
    },
    {
     "data": {
      "text/html": [
       "<pre style=\"white-space:pre;overflow-x:auto;line-height:normal;font-family:Menlo,'DejaVu Sans Mono',consolas,'Courier New',monospace\">Epoch <span style=\"color: #008080; text-decoration-color: #008080; font-weight: bold\">43</span>/<span style=\"color: #008080; text-decoration-color: #008080; font-weight: bold\">50</span>\n",
       "</pre>\n"
      ],
      "text/plain": [
       "Epoch \u001b[1;36m43\u001b[0m/\u001b[1;36m50\u001b[0m\n"
      ]
     },
     "metadata": {},
     "output_type": "display_data"
    },
    {
     "data": {
      "text/html": [
       "<pre style=\"white-space:pre;overflow-x:auto;line-height:normal;font-family:Menlo,'DejaVu Sans Mono',consolas,'Courier New',monospace\">Train Loss: <span style=\"color: #008080; text-decoration-color: #008080; font-weight: bold\">518.2380</span>, Val Loss: <span style=\"color: #008080; text-decoration-color: #008080; font-weight: bold\">870.2891</span>\n",
       "</pre>\n"
      ],
      "text/plain": [
       "Train Loss: \u001b[1;36m518.2380\u001b[0m, Val Loss: \u001b[1;36m870.2891\u001b[0m\n"
      ]
     },
     "metadata": {},
     "output_type": "display_data"
    },
    {
     "data": {
      "text/html": [
       "<pre style=\"white-space:pre;overflow-x:auto;line-height:normal;font-family:Menlo,'DejaVu Sans Mono',consolas,'Courier New',monospace\">Learning Rate: <span style=\"color: #008080; text-decoration-color: #008080; font-weight: bold\">0.002000</span>\n",
       "</pre>\n"
      ],
      "text/plain": [
       "Learning Rate: \u001b[1;36m0.002000\u001b[0m\n"
      ]
     },
     "metadata": {},
     "output_type": "display_data"
    },
    {
     "data": {
      "text/html": [
       "<pre style=\"white-space:pre;overflow-x:auto;line-height:normal;font-family:Menlo,'DejaVu Sans Mono',consolas,'Courier New',monospace\">Validation Score: <span style=\"color: #008080; text-decoration-color: #008080; font-weight: bold\">0.6110</span>\n",
       "</pre>\n"
      ],
      "text/plain": [
       "Validation Score: \u001b[1;36m0.6110\u001b[0m\n"
      ]
     },
     "metadata": {},
     "output_type": "display_data"
    },
    {
     "name": "stderr",
     "output_type": "stream",
     "text": [
      "Epoch 44/50: 100%|███████████████████████████████████████████████████████████████████████████████████████████████████████████████████████████████████████████████████| 726/726 [01:54<00:00,  6.33it/s]\n"
     ]
    },
    {
     "data": {
      "text/html": [
       "<pre style=\"white-space:pre;overflow-x:auto;line-height:normal;font-family:Menlo,'DejaVu Sans Mono',consolas,'Courier New',monospace\">Epoch <span style=\"color: #008080; text-decoration-color: #008080; font-weight: bold\">44</span>/<span style=\"color: #008080; text-decoration-color: #008080; font-weight: bold\">50</span>\n",
       "</pre>\n"
      ],
      "text/plain": [
       "Epoch \u001b[1;36m44\u001b[0m/\u001b[1;36m50\u001b[0m\n"
      ]
     },
     "metadata": {},
     "output_type": "display_data"
    },
    {
     "data": {
      "text/html": [
       "<pre style=\"white-space:pre;overflow-x:auto;line-height:normal;font-family:Menlo,'DejaVu Sans Mono',consolas,'Courier New',monospace\">Train Loss: <span style=\"color: #008080; text-decoration-color: #008080; font-weight: bold\">524.7962</span>, Val Loss: <span style=\"color: #008080; text-decoration-color: #008080; font-weight: bold\">858.3941</span>\n",
       "</pre>\n"
      ],
      "text/plain": [
       "Train Loss: \u001b[1;36m524.7962\u001b[0m, Val Loss: \u001b[1;36m858.3941\u001b[0m\n"
      ]
     },
     "metadata": {},
     "output_type": "display_data"
    },
    {
     "data": {
      "text/html": [
       "<pre style=\"white-space:pre;overflow-x:auto;line-height:normal;font-family:Menlo,'DejaVu Sans Mono',consolas,'Courier New',monospace\">Learning Rate: <span style=\"color: #008080; text-decoration-color: #008080; font-weight: bold\">0.002000</span>\n",
       "</pre>\n"
      ],
      "text/plain": [
       "Learning Rate: \u001b[1;36m0.002000\u001b[0m\n"
      ]
     },
     "metadata": {},
     "output_type": "display_data"
    },
    {
     "data": {
      "text/html": [
       "<pre style=\"white-space:pre;overflow-x:auto;line-height:normal;font-family:Menlo,'DejaVu Sans Mono',consolas,'Courier New',monospace\">Validation Score: <span style=\"color: #008080; text-decoration-color: #008080; font-weight: bold\">0.6076</span>\n",
       "</pre>\n"
      ],
      "text/plain": [
       "Validation Score: \u001b[1;36m0.6076\u001b[0m\n"
      ]
     },
     "metadata": {},
     "output_type": "display_data"
    },
    {
     "name": "stderr",
     "output_type": "stream",
     "text": [
      "Epoch 45/50: 100%|███████████████████████████████████████████████████████████████████████████████████████████████████████████████████████████████████████████████████| 726/726 [01:55<00:00,  6.29it/s]\n"
     ]
    },
    {
     "data": {
      "text/html": [
       "<pre style=\"white-space:pre;overflow-x:auto;line-height:normal;font-family:Menlo,'DejaVu Sans Mono',consolas,'Courier New',monospace\">Epoch <span style=\"color: #008080; text-decoration-color: #008080; font-weight: bold\">45</span>/<span style=\"color: #008080; text-decoration-color: #008080; font-weight: bold\">50</span>\n",
       "</pre>\n"
      ],
      "text/plain": [
       "Epoch \u001b[1;36m45\u001b[0m/\u001b[1;36m50\u001b[0m\n"
      ]
     },
     "metadata": {},
     "output_type": "display_data"
    },
    {
     "data": {
      "text/html": [
       "<pre style=\"white-space:pre;overflow-x:auto;line-height:normal;font-family:Menlo,'DejaVu Sans Mono',consolas,'Courier New',monospace\">Train Loss: <span style=\"color: #008080; text-decoration-color: #008080; font-weight: bold\">524.9765</span>, Val Loss: <span style=\"color: #008080; text-decoration-color: #008080; font-weight: bold\">852.3848</span>\n",
       "</pre>\n"
      ],
      "text/plain": [
       "Train Loss: \u001b[1;36m524.9765\u001b[0m, Val Loss: \u001b[1;36m852.3848\u001b[0m\n"
      ]
     },
     "metadata": {},
     "output_type": "display_data"
    },
    {
     "data": {
      "text/html": [
       "<pre style=\"white-space:pre;overflow-x:auto;line-height:normal;font-family:Menlo,'DejaVu Sans Mono',consolas,'Courier New',monospace\">Learning Rate: <span style=\"color: #008080; text-decoration-color: #008080; font-weight: bold\">0.002000</span>\n",
       "</pre>\n"
      ],
      "text/plain": [
       "Learning Rate: \u001b[1;36m0.002000\u001b[0m\n"
      ]
     },
     "metadata": {},
     "output_type": "display_data"
    },
    {
     "data": {
      "text/html": [
       "<pre style=\"white-space:pre;overflow-x:auto;line-height:normal;font-family:Menlo,'DejaVu Sans Mono',consolas,'Courier New',monospace\">Validation Score: <span style=\"color: #008080; text-decoration-color: #008080; font-weight: bold\">0.6153</span>\n",
       "</pre>\n"
      ],
      "text/plain": [
       "Validation Score: \u001b[1;36m0.6153\u001b[0m\n"
      ]
     },
     "metadata": {},
     "output_type": "display_data"
    },
    {
     "name": "stderr",
     "output_type": "stream",
     "text": [
      "Epoch 46/50: 100%|███████████████████████████████████████████████████████████████████████████████████████████████████████████████████████████████████████████████████| 726/726 [01:52<00:00,  6.44it/s]\n"
     ]
    },
    {
     "data": {
      "text/html": [
       "<pre style=\"white-space:pre;overflow-x:auto;line-height:normal;font-family:Menlo,'DejaVu Sans Mono',consolas,'Courier New',monospace\">Epoch <span style=\"color: #008080; text-decoration-color: #008080; font-weight: bold\">46</span>/<span style=\"color: #008080; text-decoration-color: #008080; font-weight: bold\">50</span>\n",
       "</pre>\n"
      ],
      "text/plain": [
       "Epoch \u001b[1;36m46\u001b[0m/\u001b[1;36m50\u001b[0m\n"
      ]
     },
     "metadata": {},
     "output_type": "display_data"
    },
    {
     "data": {
      "text/html": [
       "<pre style=\"white-space:pre;overflow-x:auto;line-height:normal;font-family:Menlo,'DejaVu Sans Mono',consolas,'Courier New',monospace\">Train Loss: <span style=\"color: #008080; text-decoration-color: #008080; font-weight: bold\">521.3656</span>, Val Loss: <span style=\"color: #008080; text-decoration-color: #008080; font-weight: bold\">884.8079</span>\n",
       "</pre>\n"
      ],
      "text/plain": [
       "Train Loss: \u001b[1;36m521.3656\u001b[0m, Val Loss: \u001b[1;36m884.8079\u001b[0m\n"
      ]
     },
     "metadata": {},
     "output_type": "display_data"
    },
    {
     "data": {
      "text/html": [
       "<pre style=\"white-space:pre;overflow-x:auto;line-height:normal;font-family:Menlo,'DejaVu Sans Mono',consolas,'Courier New',monospace\">Learning Rate: <span style=\"color: #008080; text-decoration-color: #008080; font-weight: bold\">0.002000</span>\n",
       "</pre>\n"
      ],
      "text/plain": [
       "Learning Rate: \u001b[1;36m0.002000\u001b[0m\n"
      ]
     },
     "metadata": {},
     "output_type": "display_data"
    },
    {
     "data": {
      "text/html": [
       "<pre style=\"white-space:pre;overflow-x:auto;line-height:normal;font-family:Menlo,'DejaVu Sans Mono',consolas,'Courier New',monospace\">Validation Score: <span style=\"color: #008080; text-decoration-color: #008080; font-weight: bold\">0.5954</span>\n",
       "</pre>\n"
      ],
      "text/plain": [
       "Validation Score: \u001b[1;36m0.5954\u001b[0m\n"
      ]
     },
     "metadata": {},
     "output_type": "display_data"
    },
    {
     "name": "stderr",
     "output_type": "stream",
     "text": [
      "Epoch 47/50: 100%|███████████████████████████████████████████████████████████████████████████████████████████████████████████████████████████████████████████████████| 726/726 [01:54<00:00,  6.33it/s]\n"
     ]
    },
    {
     "data": {
      "text/html": [
       "<pre style=\"white-space:pre;overflow-x:auto;line-height:normal;font-family:Menlo,'DejaVu Sans Mono',consolas,'Courier New',monospace\">Epoch <span style=\"color: #008080; text-decoration-color: #008080; font-weight: bold\">47</span>/<span style=\"color: #008080; text-decoration-color: #008080; font-weight: bold\">50</span>\n",
       "</pre>\n"
      ],
      "text/plain": [
       "Epoch \u001b[1;36m47\u001b[0m/\u001b[1;36m50\u001b[0m\n"
      ]
     },
     "metadata": {},
     "output_type": "display_data"
    },
    {
     "data": {
      "text/html": [
       "<pre style=\"white-space:pre;overflow-x:auto;line-height:normal;font-family:Menlo,'DejaVu Sans Mono',consolas,'Courier New',monospace\">Train Loss: <span style=\"color: #008080; text-decoration-color: #008080; font-weight: bold\">519.7074</span>, Val Loss: <span style=\"color: #008080; text-decoration-color: #008080; font-weight: bold\">854.4200</span>\n",
       "</pre>\n"
      ],
      "text/plain": [
       "Train Loss: \u001b[1;36m519.7074\u001b[0m, Val Loss: \u001b[1;36m854.4200\u001b[0m\n"
      ]
     },
     "metadata": {},
     "output_type": "display_data"
    },
    {
     "data": {
      "text/html": [
       "<pre style=\"white-space:pre;overflow-x:auto;line-height:normal;font-family:Menlo,'DejaVu Sans Mono',consolas,'Courier New',monospace\">Learning Rate: <span style=\"color: #008080; text-decoration-color: #008080; font-weight: bold\">0.002000</span>\n",
       "</pre>\n"
      ],
      "text/plain": [
       "Learning Rate: \u001b[1;36m0.002000\u001b[0m\n"
      ]
     },
     "metadata": {},
     "output_type": "display_data"
    },
    {
     "data": {
      "text/html": [
       "<pre style=\"white-space:pre;overflow-x:auto;line-height:normal;font-family:Menlo,'DejaVu Sans Mono',consolas,'Courier New',monospace\">Validation Score: <span style=\"color: #008080; text-decoration-color: #008080; font-weight: bold\">0.5924</span>\n",
       "</pre>\n"
      ],
      "text/plain": [
       "Validation Score: \u001b[1;36m0.5924\u001b[0m\n"
      ]
     },
     "metadata": {},
     "output_type": "display_data"
    },
    {
     "name": "stderr",
     "output_type": "stream",
     "text": [
      "Epoch 48/50: 100%|███████████████████████████████████████████████████████████████████████████████████████████████████████████████████████████████████████████████████| 726/726 [01:54<00:00,  6.34it/s]\n"
     ]
    },
    {
     "data": {
      "text/html": [
       "<pre style=\"white-space:pre;overflow-x:auto;line-height:normal;font-family:Menlo,'DejaVu Sans Mono',consolas,'Courier New',monospace\">Epoch <span style=\"color: #008080; text-decoration-color: #008080; font-weight: bold\">48</span>/<span style=\"color: #008080; text-decoration-color: #008080; font-weight: bold\">50</span>\n",
       "</pre>\n"
      ],
      "text/plain": [
       "Epoch \u001b[1;36m48\u001b[0m/\u001b[1;36m50\u001b[0m\n"
      ]
     },
     "metadata": {},
     "output_type": "display_data"
    },
    {
     "data": {
      "text/html": [
       "<pre style=\"white-space:pre;overflow-x:auto;line-height:normal;font-family:Menlo,'DejaVu Sans Mono',consolas,'Courier New',monospace\">Train Loss: <span style=\"color: #008080; text-decoration-color: #008080; font-weight: bold\">516.3930</span>, Val Loss: <span style=\"color: #008080; text-decoration-color: #008080; font-weight: bold\">819.0353</span>\n",
       "</pre>\n"
      ],
      "text/plain": [
       "Train Loss: \u001b[1;36m516.3930\u001b[0m, Val Loss: \u001b[1;36m819.0353\u001b[0m\n"
      ]
     },
     "metadata": {},
     "output_type": "display_data"
    },
    {
     "data": {
      "text/html": [
       "<pre style=\"white-space:pre;overflow-x:auto;line-height:normal;font-family:Menlo,'DejaVu Sans Mono',consolas,'Courier New',monospace\">Learning Rate: <span style=\"color: #008080; text-decoration-color: #008080; font-weight: bold\">0.002000</span>\n",
       "</pre>\n"
      ],
      "text/plain": [
       "Learning Rate: \u001b[1;36m0.002000\u001b[0m\n"
      ]
     },
     "metadata": {},
     "output_type": "display_data"
    },
    {
     "data": {
      "text/html": [
       "<pre style=\"white-space:pre;overflow-x:auto;line-height:normal;font-family:Menlo,'DejaVu Sans Mono',consolas,'Courier New',monospace\">Validation Score: <span style=\"color: #008080; text-decoration-color: #008080; font-weight: bold\">0.6097</span>\n",
       "</pre>\n"
      ],
      "text/plain": [
       "Validation Score: \u001b[1;36m0.6097\u001b[0m\n"
      ]
     },
     "metadata": {},
     "output_type": "display_data"
    },
    {
     "name": "stderr",
     "output_type": "stream",
     "text": [
      "Epoch 49/50: 100%|███████████████████████████████████████████████████████████████████████████████████████████████████████████████████████████████████████████████████| 726/726 [01:53<00:00,  6.41it/s]\n"
     ]
    },
    {
     "data": {
      "text/html": [
       "<pre style=\"white-space:pre;overflow-x:auto;line-height:normal;font-family:Menlo,'DejaVu Sans Mono',consolas,'Courier New',monospace\">Epoch <span style=\"color: #008080; text-decoration-color: #008080; font-weight: bold\">49</span>/<span style=\"color: #008080; text-decoration-color: #008080; font-weight: bold\">50</span>\n",
       "</pre>\n"
      ],
      "text/plain": [
       "Epoch \u001b[1;36m49\u001b[0m/\u001b[1;36m50\u001b[0m\n"
      ]
     },
     "metadata": {},
     "output_type": "display_data"
    },
    {
     "data": {
      "text/html": [
       "<pre style=\"white-space:pre;overflow-x:auto;line-height:normal;font-family:Menlo,'DejaVu Sans Mono',consolas,'Courier New',monospace\">Train Loss: <span style=\"color: #008080; text-decoration-color: #008080; font-weight: bold\">514.3835</span>, Val Loss: <span style=\"color: #008080; text-decoration-color: #008080; font-weight: bold\">887.6525</span>\n",
       "</pre>\n"
      ],
      "text/plain": [
       "Train Loss: \u001b[1;36m514.3835\u001b[0m, Val Loss: \u001b[1;36m887.6525\u001b[0m\n"
      ]
     },
     "metadata": {},
     "output_type": "display_data"
    },
    {
     "data": {
      "text/html": [
       "<pre style=\"white-space:pre;overflow-x:auto;line-height:normal;font-family:Menlo,'DejaVu Sans Mono',consolas,'Courier New',monospace\">Learning Rate: <span style=\"color: #008080; text-decoration-color: #008080; font-weight: bold\">0.002000</span>\n",
       "</pre>\n"
      ],
      "text/plain": [
       "Learning Rate: \u001b[1;36m0.002000\u001b[0m\n"
      ]
     },
     "metadata": {},
     "output_type": "display_data"
    },
    {
     "data": {
      "text/html": [
       "<pre style=\"white-space:pre;overflow-x:auto;line-height:normal;font-family:Menlo,'DejaVu Sans Mono',consolas,'Courier New',monospace\">Validation Score: <span style=\"color: #008080; text-decoration-color: #008080; font-weight: bold\">0.6018</span>\n",
       "</pre>\n"
      ],
      "text/plain": [
       "Validation Score: \u001b[1;36m0.6018\u001b[0m\n"
      ]
     },
     "metadata": {},
     "output_type": "display_data"
    },
    {
     "name": "stderr",
     "output_type": "stream",
     "text": [
      "Epoch 50/50: 100%|███████████████████████████████████████████████████████████████████████████████████████████████████████████████████████████████████████████████████| 726/726 [01:55<00:00,  6.31it/s]\n"
     ]
    },
    {
     "data": {
      "text/html": [
       "<pre style=\"white-space:pre;overflow-x:auto;line-height:normal;font-family:Menlo,'DejaVu Sans Mono',consolas,'Courier New',monospace\">Epoch <span style=\"color: #008080; text-decoration-color: #008080; font-weight: bold\">50</span>/<span style=\"color: #008080; text-decoration-color: #008080; font-weight: bold\">50</span>\n",
       "</pre>\n"
      ],
      "text/plain": [
       "Epoch \u001b[1;36m50\u001b[0m/\u001b[1;36m50\u001b[0m\n"
      ]
     },
     "metadata": {},
     "output_type": "display_data"
    },
    {
     "data": {
      "text/html": [
       "<pre style=\"white-space:pre;overflow-x:auto;line-height:normal;font-family:Menlo,'DejaVu Sans Mono',consolas,'Courier New',monospace\">Train Loss: <span style=\"color: #008080; text-decoration-color: #008080; font-weight: bold\">511.6843</span>, Val Loss: <span style=\"color: #008080; text-decoration-color: #008080; font-weight: bold\">831.8473</span>\n",
       "</pre>\n"
      ],
      "text/plain": [
       "Train Loss: \u001b[1;36m511.6843\u001b[0m, Val Loss: \u001b[1;36m831.8473\u001b[0m\n"
      ]
     },
     "metadata": {},
     "output_type": "display_data"
    },
    {
     "data": {
      "text/html": [
       "<pre style=\"white-space:pre;overflow-x:auto;line-height:normal;font-family:Menlo,'DejaVu Sans Mono',consolas,'Courier New',monospace\">Learning Rate: <span style=\"color: #008080; text-decoration-color: #008080; font-weight: bold\">0.002000</span>\n",
       "</pre>\n"
      ],
      "text/plain": [
       "Learning Rate: \u001b[1;36m0.002000\u001b[0m\n"
      ]
     },
     "metadata": {},
     "output_type": "display_data"
    },
    {
     "data": {
      "text/html": [
       "<pre style=\"white-space:pre;overflow-x:auto;line-height:normal;font-family:Menlo,'DejaVu Sans Mono',consolas,'Courier New',monospace\">Validation Score: <span style=\"color: #008080; text-decoration-color: #008080; font-weight: bold\">0.6038</span>\n",
       "</pre>\n"
      ],
      "text/plain": [
       "Validation Score: \u001b[1;36m0.6038\u001b[0m\n"
      ]
     },
     "metadata": {},
     "output_type": "display_data"
    },
    {
     "data": {
      "text/plain": [
       "OrderedDict([('embedding.weight',\n",
       "              tensor([[ 0.0000,  0.0000,  0.0000,  ...,  0.0000,  0.0000,  0.0000],\n",
       "                      [-0.2887, -0.4800, -0.6377,  ..., -1.0781, -0.0733, -0.2984],\n",
       "                      [ 0.0484,  0.1830, -1.0581,  ..., -0.1943, -0.8987,  0.2708],\n",
       "                      ...,\n",
       "                      [ 0.9330,  0.8001,  0.4689,  ..., -1.6466,  0.1337,  0.2197],\n",
       "                      [ 0.4705,  0.2970, -0.1352,  ..., -0.0710,  0.2592, -2.4104],\n",
       "                      [-1.3390, -1.2971,  1.6403,  ...,  0.4002,  0.8238, -0.2867]])),\n",
       "             ('lstm.weight_ih_l0',\n",
       "              tensor([[-0.0904,  0.3925, -0.1041,  ..., -0.2597,  0.0713, -0.2107],\n",
       "                      [ 0.3379,  0.3167, -0.4686,  ..., -0.0332, -0.0452,  0.1079],\n",
       "                      [ 0.3379,  0.1414,  0.2184,  ...,  0.4023,  0.1695,  0.2794],\n",
       "                      ...,\n",
       "                      [ 0.3224, -0.4389,  0.0124,  ...,  0.2079, -0.0164, -0.2543],\n",
       "                      [ 0.4327,  0.1136,  0.5009,  ...,  0.0110, -0.2339,  0.2894],\n",
       "                      [ 0.2258, -0.0463, -0.2235,  ...,  0.0746, -0.2005, -0.2184]])),\n",
       "             ('lstm.weight_hh_l0',\n",
       "              tensor([[ 1.0280e+00, -5.8373e-02,  3.3771e-01,  ..., -1.1433e-01,\n",
       "                        7.9002e-01, -2.9070e-01],\n",
       "                      [-1.3648e-01,  5.1792e-02,  2.2715e-01,  ...,  4.9514e-01,\n",
       "                        1.1761e-01, -1.5830e-01],\n",
       "                      [ 5.3848e-03,  3.7926e-01, -5.2125e-02,  ..., -1.2498e-01,\n",
       "                        6.6391e-01,  5.2068e-01],\n",
       "                      ...,\n",
       "                      [ 5.5269e-01,  3.2645e-01, -6.3738e-01,  ..., -4.3981e-04,\n",
       "                       -4.5727e-02,  2.5910e-01],\n",
       "                      [ 3.5559e-01,  4.1089e-01, -2.8445e-01,  ...,  2.3681e-01,\n",
       "                       -1.0747e-01, -6.8129e-02],\n",
       "                      [ 3.2413e-01, -9.3255e-02, -1.6401e+00,  ..., -3.4815e-01,\n",
       "                       -2.0070e-01, -3.0478e-01]])),\n",
       "             ('lstm.bias_ih_l0',\n",
       "              tensor([ 0.0268,  0.3313, -0.1523,  ...,  0.1417, -0.0628, -0.2103])),\n",
       "             ('lstm.bias_hh_l0',\n",
       "              tensor([ 0.0325,  0.3304, -0.1088,  ...,  0.2081,  0.0005, -0.2243])),\n",
       "             ('lstm.weight_ih_l0_reverse',\n",
       "              tensor([[-0.7432,  0.1554,  0.1879,  ...,  0.2861,  0.0902, -0.1887],\n",
       "                      [-0.2947,  0.0240,  0.1581,  ...,  0.3639,  0.0733, -0.0527],\n",
       "                      [ 0.0197,  0.2923,  0.1426,  ..., -0.1688,  0.0080, -0.1006],\n",
       "                      ...,\n",
       "                      [ 0.1034, -0.2158, -0.2427,  ...,  0.0720,  0.1568,  0.2491],\n",
       "                      [-0.0052, -0.2149,  0.0504,  ...,  0.1002,  0.4247, -0.3077],\n",
       "                      [ 0.0834,  0.2079, -0.6507,  ...,  0.1920, -0.2540,  0.8327]])),\n",
       "             ('lstm.weight_hh_l0_reverse',\n",
       "              tensor([[-0.2078,  0.3891,  0.2331,  ...,  0.0065,  0.0075,  0.0158],\n",
       "                      [ 0.0416, -0.0752, -0.4533,  ...,  0.5312,  0.0359,  0.2388],\n",
       "                      [-0.1786, -0.1871, -0.1013,  ...,  0.2593,  0.3671,  0.0456],\n",
       "                      ...,\n",
       "                      [-0.1410,  0.1864, -0.1944,  ...,  0.4499, -0.0821, -0.5355],\n",
       "                      [-0.1179,  0.4197, -0.0295,  ..., -0.2314,  0.1624, -0.0851],\n",
       "                      [-0.1862,  0.3493,  0.1941,  ..., -0.0399,  0.0537,  0.0332]])),\n",
       "             ('lstm.bias_ih_l0_reverse',\n",
       "              tensor([-1.1459, -1.5117, -0.3527,  ..., -0.8517, -1.2238, -1.7334])),\n",
       "             ('lstm.bias_hh_l0_reverse',\n",
       "              tensor([-1.2096, -1.4938, -0.4091,  ..., -0.8356, -1.2546, -1.6925])),\n",
       "             ('lstm.weight_ih_l1',\n",
       "              tensor([[ 2.2470e-01,  5.1822e-01, -6.1852e-02,  ..., -8.7895e-01,\n",
       "                       -6.8222e-02, -3.6630e-01],\n",
       "                      [-4.5318e-01, -2.5970e-01, -4.3953e-02,  ..., -5.3442e-01,\n",
       "                       -3.7676e-01,  4.6809e-01],\n",
       "                      [ 1.0560e-01,  4.6072e-01,  1.2198e-02,  ...,  6.4000e-02,\n",
       "                        4.2042e-01,  2.8750e-01],\n",
       "                      ...,\n",
       "                      [-2.4043e-01, -7.3815e-01,  8.6636e-02,  ..., -1.8121e-02,\n",
       "                        1.7669e-01, -3.6782e-04],\n",
       "                      [-1.0013e-01, -3.3987e-06,  3.2936e-01,  ...,  8.7234e-03,\n",
       "                        2.0124e-01,  2.5562e-01],\n",
       "                      [ 1.1454e-01,  1.5174e-01,  6.9310e-01,  ..., -1.7806e-01,\n",
       "                       -4.3338e-01, -1.0409e-01]])),\n",
       "             ('lstm.weight_hh_l1',\n",
       "              tensor([[ 0.2377,  0.0400,  0.0475,  ...,  0.4102, -0.4557, -0.0386],\n",
       "                      [-0.1393,  0.7424, -0.3268,  ..., -0.1853,  0.4773, -0.0865],\n",
       "                      [ 0.1788, -0.0131, -0.2163,  ..., -0.0387, -0.1229,  0.0834],\n",
       "                      ...,\n",
       "                      [-0.3143,  0.1641, -0.0230,  ..., -0.0249, -0.0692,  0.2347],\n",
       "                      [-0.3257,  0.4218, -0.3414,  ..., -0.0748,  0.1519,  0.1229],\n",
       "                      [-0.3252, -0.1217, -0.0457,  ..., -0.0756, -0.3192, -0.3371]])),\n",
       "             ('lstm.bias_ih_l1',\n",
       "              tensor([-0.4297, -0.1714,  0.2821,  ..., -0.5582, -0.7413, -0.0949])),\n",
       "             ('lstm.bias_hh_l1',\n",
       "              tensor([-0.4847, -0.1715,  0.1796,  ..., -0.5980, -0.6391, -0.1384])),\n",
       "             ('lstm.weight_ih_l1_reverse',\n",
       "              tensor([[-0.4112,  0.1753, -0.0742,  ...,  0.1819,  0.0456, -0.2358],\n",
       "                      [-0.6112, -0.1907, -0.1354,  ..., -0.0046, -0.5382,  0.3082],\n",
       "                      [ 0.0465,  0.1346,  0.4951,  ..., -0.3231,  0.0242,  0.2499],\n",
       "                      ...,\n",
       "                      [-0.0489,  0.3725,  0.4267,  ...,  0.1672,  0.3525, -0.0827],\n",
       "                      [ 0.1799, -0.3873,  0.2109,  ..., -0.5977, -0.5313,  0.0109],\n",
       "                      [-0.0292, -0.4454,  0.3619,  ...,  0.3420,  0.2225, -0.1311]])),\n",
       "             ('lstm.weight_hh_l1_reverse',\n",
       "              tensor([[ 0.0724, -0.1340, -0.2034,  ...,  0.1394,  0.0250, -0.1888],\n",
       "                      [ 0.3943, -0.3705,  0.0225,  ...,  0.4202,  0.0190, -0.3774],\n",
       "                      [ 0.2574, -0.0438, -0.4334,  ...,  0.2670,  0.8164,  0.4386],\n",
       "                      ...,\n",
       "                      [-0.1880,  0.4185,  0.0910,  ...,  0.1888, -0.4505,  0.3413],\n",
       "                      [ 0.3256, -0.3660, -0.4586,  ...,  0.1317, -0.1651,  0.1223],\n",
       "                      [-0.3336,  0.2559,  0.0526,  ...,  0.2063, -0.3308, -0.0352]])),\n",
       "             ('lstm.bias_ih_l1_reverse',\n",
       "              tensor([-0.2955, -0.6673, -0.4617,  ..., -0.2280, -0.2904, -0.2330])),\n",
       "             ('lstm.bias_hh_l1_reverse',\n",
       "              tensor([-0.3286, -0.6779, -0.4948,  ..., -0.1998, -0.3009, -0.1738])),\n",
       "             ('lstm.weight_ih_l2',\n",
       "              tensor([[-0.9874,  0.4827,  0.1883,  ...,  0.0536, -0.3157, -0.0296],\n",
       "                      [ 0.0931, -0.0831,  0.1593,  ...,  0.0331, -0.1046, -0.0228],\n",
       "                      [ 0.3289, -0.1415,  0.2878,  ...,  0.0647,  0.1756, -0.1480],\n",
       "                      ...,\n",
       "                      [-0.0762,  0.1840, -0.3206,  ..., -0.0188,  0.4331, -0.9986],\n",
       "                      [-0.3829,  0.0927,  0.0343,  ...,  0.1405,  0.1037,  0.0623],\n",
       "                      [ 0.0913, -0.0438,  0.7144,  ..., -0.3139, -0.0441,  0.1376]])),\n",
       "             ('lstm.weight_hh_l2',\n",
       "              tensor([[-0.4590,  0.2994, -0.1495,  ...,  0.5061, -0.2251, -0.0616],\n",
       "                      [ 0.1025,  0.0110, -0.1146,  ...,  0.0721, -0.0679,  0.0556],\n",
       "                      [ 0.0217, -0.0209, -0.0223,  ...,  0.0080,  0.0270,  0.1102],\n",
       "                      ...,\n",
       "                      [-0.8142, -0.1319,  0.3703,  ..., -0.4465, -0.1094, -0.2423],\n",
       "                      [ 0.0743, -0.0320,  0.1290,  ...,  0.4628, -0.0141, -0.0780],\n",
       "                      [ 0.0158, -0.2030, -0.0887,  ..., -0.0672,  0.0400, -0.1635]])),\n",
       "             ('lstm.bias_ih_l2',\n",
       "              tensor([ 0.0514,  0.3489,  0.4953,  ..., -0.5300, -0.5274, -0.4551])),\n",
       "             ('lstm.bias_hh_l2',\n",
       "              tensor([ 0.1218,  0.4126,  0.5206,  ..., -0.4251, -0.5141, -0.5126])),\n",
       "             ('lstm.weight_ih_l2_reverse',\n",
       "              tensor([[ 0.5534,  0.0864,  0.1746,  ...,  0.1758,  0.3972, -0.4173],\n",
       "                      [-0.0089,  0.2398, -0.0763,  ..., -0.2082,  0.0799, -0.9556],\n",
       "                      [ 0.2096,  0.8516, -0.0641,  ..., -0.4013,  0.3944, -0.3429],\n",
       "                      ...,\n",
       "                      [ 0.2022,  0.1719,  0.0906,  ..., -0.1223, -0.2265, -0.1580],\n",
       "                      [ 0.0238,  0.5675, -0.5247,  ..., -0.2431,  0.3107,  0.0732],\n",
       "                      [ 0.1403,  0.2303,  0.3009,  ...,  0.3434,  0.4502,  0.4071]])),\n",
       "             ('lstm.weight_hh_l2_reverse',\n",
       "              tensor([[ 0.0328,  0.1166,  0.2929,  ..., -0.3772, -0.0743, -0.1409],\n",
       "                      [ 0.1067, -0.1032,  0.2396,  ..., -0.0306,  0.0482, -0.2189],\n",
       "                      [-0.1876,  0.5378,  0.1275,  ..., -0.2743, -0.1036, -0.5041],\n",
       "                      ...,\n",
       "                      [ 0.6088, -0.5394,  0.1288,  ..., -0.4155, -0.0457, -0.2487],\n",
       "                      [ 0.4032,  0.3142,  0.1794,  ...,  0.5508,  0.0773, -0.1450],\n",
       "                      [ 0.0731, -0.3608,  0.3835,  ..., -0.0252,  0.2352, -0.5700]])),\n",
       "             ('lstm.bias_ih_l2_reverse',\n",
       "              tensor([ 0.1952, -0.3326,  0.0142,  ..., -0.2946, -0.7251, -0.0522])),\n",
       "             ('lstm.bias_hh_l2_reverse',\n",
       "              tensor([ 0.1837, -0.2548, -0.0606,  ..., -0.3422, -0.6496, -0.0644])),\n",
       "             ('attention.weight',\n",
       "              tensor([[ 7.7247e-03, -7.2323e-02, -8.8086e-02, -4.4201e-02,  1.6144e-01,\n",
       "                        3.3035e-01, -8.6291e-02,  5.0611e-01,  2.1052e-01, -1.3851e-01,\n",
       "                       -1.2057e-01, -2.0595e-01, -1.2223e-01,  1.5130e-01, -2.4090e-01,\n",
       "                       -7.2922e-02,  7.4491e-01,  2.9511e-01,  2.7431e-01, -1.6292e-01,\n",
       "                       -2.5172e-01,  3.9076e-03,  2.3635e-03, -5.6858e-02,  2.7726e-02,\n",
       "                        1.1764e-01, -3.4499e-03, -2.8799e-02,  1.0365e-01,  8.5949e-02,\n",
       "                       -2.4536e-01, -2.9014e-02, -1.6716e-01,  5.4295e-01,  1.8670e-01,\n",
       "                       -4.7657e-01, -8.5849e-02,  3.4845e-02, -3.0688e-02,  1.4497e-01,\n",
       "                       -1.4663e-02, -6.2327e-02, -2.8932e-02,  1.0019e-01, -2.3848e-01,\n",
       "                       -1.6934e-01,  1.1375e-01, -1.5847e-01, -3.2205e-02, -6.4353e-01,\n",
       "                       -1.4767e-01,  1.4577e-01, -2.5349e-01, -9.0125e-01, -1.7176e-01,\n",
       "                       -7.3551e-02,  3.9483e-01, -2.3182e-02,  1.5150e-01,  2.0727e-01,\n",
       "                       -6.7647e-02, -5.4806e-01,  1.8026e-01, -3.5140e-02,  6.6345e-02,\n",
       "                        7.6345e-03,  1.0125e+00, -6.2323e-02,  8.3105e-02, -1.5502e-03,\n",
       "                       -4.8455e-02,  1.6093e-01, -6.0417e-03,  2.3661e-01,  6.5009e-02,\n",
       "                        3.1629e-01,  7.8881e-02,  2.7883e-01,  1.7335e-01, -9.7757e-02,\n",
       "                        2.1937e-01, -8.5887e-02,  2.0092e-01, -1.5538e-01, -2.1117e-01,\n",
       "                        5.8519e-02,  1.5077e-01, -1.9529e-01, -4.5521e-02, -1.8378e-01,\n",
       "                       -1.3765e-01, -3.7590e-01,  1.9082e-01,  1.8552e-01,  1.6343e-02,\n",
       "                        5.0789e-01, -5.0278e-03,  6.3066e-02,  1.2956e-01, -1.2206e-01,\n",
       "                       -9.5658e-02, -3.3347e-01,  1.1600e-01, -6.8252e-02,  3.6302e-01,\n",
       "                       -3.7915e-01,  3.3475e-01, -1.3120e-01,  1.5159e-01,  5.2934e-02,\n",
       "                        2.2811e-01, -6.0828e-03,  1.0980e-01, -1.1293e-01, -2.9751e-01,\n",
       "                        3.2416e-02, -2.9970e-01,  2.3516e-01,  1.8295e-01,  1.9081e-01,\n",
       "                       -5.3929e-02, -3.5781e-02,  3.9011e-02,  2.8787e-01, -3.3751e-01,\n",
       "                       -1.8506e-02, -1.2644e-01, -2.2543e-02, -1.6304e-01,  1.3237e-01,\n",
       "                        6.2056e-02,  4.0948e-02, -2.4270e-02, -1.1302e-01,  2.9793e-01,\n",
       "                        1.3317e-01, -9.6615e-02,  1.3055e-01, -9.6010e-02, -6.6141e-03,\n",
       "                       -2.7296e-02,  3.5355e-01, -2.2226e-01, -3.9329e-01, -1.7914e-01,\n",
       "                       -5.2628e-02,  3.8918e-01, -7.6410e-02, -4.5491e-02,  2.1772e-01,\n",
       "                        7.1321e-03,  6.8282e-02,  3.1539e-02, -1.4958e-01, -1.5543e-02,\n",
       "                        1.5249e-01, -1.9423e-01,  1.5766e-01,  5.3819e-01, -1.0490e-01,\n",
       "                       -1.0461e-01,  3.1900e-02,  1.9124e-01,  7.0239e-02, -1.8245e-01,\n",
       "                       -1.2920e-01,  2.1901e-01, -3.4218e-01, -1.7459e-01, -4.7256e-02,\n",
       "                        7.6044e-02,  3.4649e-01, -5.6881e-02, -3.0577e-01, -7.3701e-02,\n",
       "                       -2.1869e-01,  4.0643e-02,  1.6206e-02,  2.4959e-01, -4.2563e-01,\n",
       "                        3.3137e-01, -2.7168e-02, -2.5445e-01,  4.9742e-01,  9.6598e-02,\n",
       "                       -1.9047e-01,  3.4176e-01,  3.7588e-01, -7.6142e-02,  5.2553e-01,\n",
       "                       -7.1027e-02, -5.3957e-03, -7.8072e-02,  5.6335e-01,  6.9795e-01,\n",
       "                       -7.9842e-02, -1.6442e-01, -1.9986e-01, -8.9967e-02, -2.5652e-01,\n",
       "                       -2.5278e-03, -9.1828e-03,  2.1946e-01, -1.0229e-01,  2.4612e-01,\n",
       "                       -3.1382e-01,  1.3885e-01,  1.0454e-02, -2.6432e-01, -1.3681e-02,\n",
       "                        5.3920e-02,  8.6167e-02, -1.8352e-01, -1.6614e-01,  3.2736e-02,\n",
       "                        1.5464e-01,  4.7748e-02, -2.1184e-01, -3.6041e-01, -2.3762e-01,\n",
       "                       -9.5974e-01,  4.1063e-01, -9.0823e-01,  3.4877e-01, -1.0486e-01,\n",
       "                        1.4436e-02, -2.9763e-01,  1.5410e-01,  9.4108e-02, -3.2619e-01,\n",
       "                        7.5300e-03,  1.1735e-01,  2.6661e-01, -1.7956e-02, -1.8724e-01,\n",
       "                        4.1548e-02,  3.0022e-01, -3.0546e-01,  3.6906e-01, -4.7887e-02,\n",
       "                        1.0200e-01, -3.6958e-01,  3.2588e-01,  2.4172e-01, -1.1028e-01,\n",
       "                        9.8040e-02, -2.4784e-01, -5.3042e-01,  2.0649e-01,  1.9461e-01,\n",
       "                        9.0267e-02, -3.4295e-01, -4.0690e-01, -8.0053e-02,  1.5529e-01,\n",
       "                       -4.2509e-01,  1.0253e-01, -3.8817e-02, -1.2550e-01, -4.9348e-02,\n",
       "                        1.0995e-01, -1.1388e-01, -1.1037e-01,  3.3715e-01,  5.1375e-02,\n",
       "                        1.2452e-01, -2.0217e-02,  9.1220e-02, -1.0729e-01, -7.0884e-02,\n",
       "                       -3.3307e-02,  9.0908e-02,  4.0914e-03,  7.8630e-02,  3.0700e-02,\n",
       "                       -8.5531e-02, -2.0050e-01, -4.1207e-02, -3.5573e-02, -8.0504e-02,\n",
       "                        1.0928e-01, -1.1876e-02,  5.5677e-02,  6.4571e-02,  4.6723e-01,\n",
       "                        2.2983e-01,  3.9530e-01, -3.1762e-02,  8.1381e-02,  2.5353e-02,\n",
       "                       -9.3549e-02,  1.4181e-01,  2.6780e-01,  7.4442e-02, -9.0254e-02,\n",
       "                       -5.7485e-03,  1.5966e-01,  1.3026e-01,  1.7882e-02, -6.8866e-02,\n",
       "                       -1.5324e-01, -7.1094e-02, -1.9797e-01, -2.1752e-01, -7.9923e-02,\n",
       "                       -2.7871e-03, -3.5688e-01, -4.2678e-02,  3.5348e-02, -6.4580e-02,\n",
       "                       -3.2773e-01,  3.7949e-02, -1.0153e-01,  1.4805e-01, -1.8737e-01,\n",
       "                       -1.3926e-01, -3.4393e-02,  2.0693e-01,  9.5705e-03,  2.0767e-02,\n",
       "                        2.8881e-01,  5.7751e-02, -7.6635e-02, -1.6529e-01, -5.4045e-02,\n",
       "                       -7.9772e-02,  3.5055e-02,  3.5912e-02,  3.4186e-01, -1.8180e-01,\n",
       "                        2.4188e-01,  2.5968e-02,  1.3202e-02,  3.6858e-02, -1.2974e-02,\n",
       "                       -1.0556e-01, -5.1261e-02,  4.7164e-01, -6.4343e-02,  1.9904e-01,\n",
       "                        2.2550e-03, -2.5139e-02, -6.2303e-02,  5.5705e-03, -7.8633e-02,\n",
       "                       -5.4497e-02,  5.1712e-01,  1.4054e-01,  1.5059e-01, -1.2538e-01,\n",
       "                        8.4195e-02, -3.6569e-03, -9.3092e-03,  2.4804e-02, -2.1083e-01,\n",
       "                        2.4245e-01,  5.5710e-02, -3.8766e-02,  1.8004e-01, -1.3677e-01,\n",
       "                        1.0958e-01, -3.1829e-01,  2.7219e-01, -2.1509e-01, -1.9690e-01,\n",
       "                       -7.5339e-02, -3.1423e-02,  1.2633e-01, -7.7389e-03, -1.4641e-02,\n",
       "                       -3.9939e-01, -2.2333e-01, -9.1693e-02, -4.9693e-02, -4.5553e-02,\n",
       "                        1.5855e-01,  8.3974e-02, -1.1109e-01, -1.0643e-01,  9.4343e-02,\n",
       "                        2.2502e-02, -1.2641e-01, -8.8934e-02, -3.1983e-02, -1.3541e-02,\n",
       "                       -3.6854e-01, -9.9580e-03,  9.0805e-02,  1.6870e-02, -1.7137e-02,\n",
       "                        1.1986e-02, -2.9493e-01,  1.3913e-01, -1.9500e-02,  2.8111e-01,\n",
       "                       -2.2882e-01,  5.1072e-02, -6.9755e-02, -1.8447e-02, -6.8538e-02,\n",
       "                       -9.4629e-02, -1.0735e-01,  1.1191e-01, -2.6048e-01, -6.2749e-02,\n",
       "                       -3.7528e-02, -1.0119e-01, -8.4758e-02, -3.4789e-02, -4.5255e-01,\n",
       "                        1.9650e-01,  1.3420e-01,  2.7648e-01,  7.7465e-02, -2.8629e-02,\n",
       "                        3.3916e-01,  4.9360e-02,  2.3344e-02, -1.0692e-01, -5.5464e-02,\n",
       "                       -6.1533e-03, -2.6945e-02, -4.6589e-02,  3.1703e-03,  5.0583e-02,\n",
       "                       -1.0103e-01,  1.6644e-02, -1.0237e-01, -1.3543e-02, -1.0311e-01,\n",
       "                        1.2100e-01, -2.1410e-01, -1.2653e-01,  2.4951e-02,  3.1260e-02,\n",
       "                        1.1849e-01, -5.1412e-02, -8.2315e-02,  3.9808e-02,  3.5517e-02,\n",
       "                       -3.1026e-01, -1.2648e-01,  1.8788e-01, -1.1250e-02, -1.0370e-01,\n",
       "                       -2.4876e-01, -1.0858e-01,  1.6919e-01,  6.3182e-02, -1.2544e-02,\n",
       "                        4.9182e-02,  1.3619e-01,  5.7594e-02,  1.1612e-02,  1.0479e-01,\n",
       "                       -1.4529e-01,  4.1037e-03, -1.4138e-01,  1.5970e-01,  8.7111e-03,\n",
       "                       -1.6401e-01,  8.8833e-02, -1.1432e-02, -1.4875e-02,  2.0327e-01,\n",
       "                       -7.8317e-02, -1.4714e-01, -1.5807e-02,  1.5774e-01, -2.8537e-02,\n",
       "                        1.4494e-02,  2.0145e-01,  2.7588e-01,  6.4061e-02,  2.0695e-01,\n",
       "                        7.5723e-02, -2.6618e-01, -1.2203e-01,  2.0106e-01,  6.9598e-02,\n",
       "                        3.3224e-02, -6.3837e-02,  8.1902e-02,  4.9064e-02, -1.2493e-01,\n",
       "                        2.8103e-01, -1.8198e-01, -4.7780e-02, -9.0428e-02,  1.5703e-02,\n",
       "                        3.9858e-02,  3.8351e-02, -1.3095e-04, -1.3495e-01, -6.5954e-02,\n",
       "                        8.1788e-02, -1.8884e-01,  2.2463e-01,  2.0911e-01, -8.0176e-02,\n",
       "                        2.8753e-02, -1.5300e-01,  2.8381e-01,  1.0856e-02, -2.0842e-01,\n",
       "                       -3.3049e-01, -1.3219e-02,  1.1996e-01,  3.1051e-01,  8.9012e-02,\n",
       "                        3.5244e-01,  1.5791e-01]])),\n",
       "             ('attention.bias', tensor([-0.2954])),\n",
       "             ('fc.weight',\n",
       "              tensor([[ 0.2680, -0.0014, -0.3251,  ..., -0.3827,  0.0009,  0.0659]])),\n",
       "             ('fc.bias', tensor([0.4851])),\n",
       "             ('layer_norm.weight',\n",
       "              tensor([1.1802, 0.2666, 1.1638,  ..., 1.2883, 0.5300, 0.5662])),\n",
       "             ('layer_norm.bias',\n",
       "              tensor([ 0.4000, -0.0008, -0.3704,  ..., -0.4600,  0.0018,  0.0005]))])"
      ]
     },
     "execution_count": 103,
     "metadata": {},
     "output_type": "execute_result"
    }
   ],
   "source": [
    "\n",
    "train_model(model, train_loader, val_loader, criterion, optimizer, 50, device)\n"
   ]
  },
  {
   "cell_type": "code",
   "execution_count": 8,
   "id": "3ef8953c-bf99-4d31-a6a7-bef0fcd8452a",
   "metadata": {},
   "outputs": [
    {
     "data": {
      "text/html": [
       "<div>\n",
       "<style scoped>\n",
       "    .dataframe tbody tr th:only-of-type {\n",
       "        vertical-align: middle;\n",
       "    }\n",
       "\n",
       "    .dataframe tbody tr th {\n",
       "        vertical-align: top;\n",
       "    }\n",
       "\n",
       "    .dataframe thead th {\n",
       "        text-align: right;\n",
       "    }\n",
       "</style>\n",
       "<table border=\"1\" class=\"dataframe\">\n",
       "  <thead>\n",
       "    <tr style=\"text-align: right;\">\n",
       "      <th></th>\n",
       "      <th>id</th>\n",
       "      <th>publication_id</th>\n",
       "      <th>gene_target_symbol_name</th>\n",
       "      <th>gene_target_ncbi_id</th>\n",
       "      <th>gene_target_species</th>\n",
       "      <th>siRNA_duplex_id</th>\n",
       "      <th>siRNA_sense_seq</th>\n",
       "      <th>siRNA_antisense_seq</th>\n",
       "      <th>cell_line_donor</th>\n",
       "      <th>siRNA_concentration</th>\n",
       "      <th>concentration_unit</th>\n",
       "      <th>Transfection_method</th>\n",
       "      <th>Duration_after_transfection_h</th>\n",
       "      <th>modified_siRNA_sense_seq</th>\n",
       "      <th>modified_siRNA_antisense_seq</th>\n",
       "      <th>modified_siRNA_sense_seq_list</th>\n",
       "      <th>modified_siRNA_antisense_seq_list</th>\n",
       "      <th>gene_target_seq</th>\n",
       "      <th>mRNA_remaining_pct</th>\n",
       "    </tr>\n",
       "  </thead>\n",
       "  <tbody>\n",
       "    <tr>\n",
       "      <th>15055</th>\n",
       "      <td>31472</td>\n",
       "      <td>WOda137ca368</td>\n",
       "      <td>ANGPTL3</td>\n",
       "      <td>NM_014495.3</td>\n",
       "      <td>Homo sapiens</td>\n",
       "      <td>AD-1479424.1</td>\n",
       "      <td>UGUUCACAAUUAAGCUCCUUU</td>\n",
       "      <td>AAAGGAGCUUAAUUGUGAACG</td>\n",
       "      <td>Primary Monkey Hepatocytes</td>\n",
       "      <td>0.1</td>\n",
       "      <td>nM</td>\n",
       "      <td>Lipofectamine</td>\n",
       "      <td>24.0</td>\n",
       "      <td>uguucaCfaAfUfUfaagcuccuuuL96</td>\n",
       "      <td>adAagdGa(G2p)cuuaauUfgUfgaacg</td>\n",
       "      <td>u g u u c a Cf a Af Uf Uf a a g c u c c u u u L96</td>\n",
       "      <td>a dA a g dG a (G2p) c u u a a u Uf g Uf g a a c g</td>\n",
       "      <td>ATATATAGAGTTAAGAAGTCTAGGTCTGCTTCCAGAAGAAAACAGT...</td>\n",
       "      <td>100.520</td>\n",
       "    </tr>\n",
       "    <tr>\n",
       "      <th>17579</th>\n",
       "      <td>37098</td>\n",
       "      <td>WOf5583f6d6e</td>\n",
       "      <td>Flna</td>\n",
       "      <td>XM_006527911.5</td>\n",
       "      <td>Mus musculus</td>\n",
       "      <td>AD-1692616.1</td>\n",
       "      <td>GCCUUACUGUUUCUAGUCUUA</td>\n",
       "      <td>UAAGACUAGAAACAGUAAGGCGG</td>\n",
       "      <td>COS-7 Cells</td>\n",
       "      <td>1.0</td>\n",
       "      <td>nM</td>\n",
       "      <td>Lipofectamine</td>\n",
       "      <td>48.0</td>\n",
       "      <td>gccuu(Ahd)CfuGfUfUfucuagucuua</td>\n",
       "      <td>VPuAfagaCfuAfGfaaacAfgUfaaggcgg</td>\n",
       "      <td>g c c u u (Ahd) Cf u Gf Uf Uf u c u a g u c u u a</td>\n",
       "      <td>VP u Af a g a Cf u Af Gf a a a c Af g Uf a a g...</td>\n",
       "      <td>TGAGCGGGGCACTTGAGCTCGTGGCGAGCCCCGCACCCACTCCCTG...</td>\n",
       "      <td>14.100</td>\n",
       "    </tr>\n",
       "    <tr>\n",
       "      <th>4057</th>\n",
       "      <td>8396</td>\n",
       "      <td>WO6db0c26e50</td>\n",
       "      <td>SCN9A</td>\n",
       "      <td>NM_001365536.1</td>\n",
       "      <td>Homo sapiens</td>\n",
       "      <td>AD-795132.1</td>\n",
       "      <td>AAGGGAAAACAAUCUUCCGUA</td>\n",
       "      <td>UACGGAAGAUUGUUUUCCCUUUG</td>\n",
       "      <td>BE(2)-C Cells</td>\n",
       "      <td>0.1</td>\n",
       "      <td>nM</td>\n",
       "      <td>Lipofectamine</td>\n",
       "      <td>24.0</td>\n",
       "      <td>aaggg(Ahd)AfaAfCfAfaucuuccguaL96</td>\n",
       "      <td>VPuAfcggAfaGfAfuuguUfuUfcccuuug</td>\n",
       "      <td>a a g g g (Ahd) Af a Af Cf Af a u c u u c c g ...</td>\n",
       "      <td>VP u Af c g g Af a Gf Af u u g u Uf u Uf c c c...</td>\n",
       "      <td>AGTCTGCTTGCAGGCGGTCGCCAGCGCTCCAGCGGCGGCTGTCGGC...</td>\n",
       "      <td>83.300</td>\n",
       "    </tr>\n",
       "    <tr>\n",
       "      <th>7109</th>\n",
       "      <td>17672</td>\n",
       "      <td>WO2527cd3fe5</td>\n",
       "      <td>ATXN2</td>\n",
       "      <td>NM_002973.3</td>\n",
       "      <td>Homo sapiens</td>\n",
       "      <td>AD-367853.1</td>\n",
       "      <td>GUGAUUCUUGCUGCUAUUACU</td>\n",
       "      <td>AGUAAUAGCAGCAAGAAUCACUC</td>\n",
       "      <td>Hep3B Cells</td>\n",
       "      <td>0.1</td>\n",
       "      <td>nM</td>\n",
       "      <td>Lipofectamine</td>\n",
       "      <td>24.0</td>\n",
       "      <td>gugauuCfuUfGfCfugcuauuacuL96</td>\n",
       "      <td>aGfuaau(Agn)gcagcaAfgAfaucacuc</td>\n",
       "      <td>g u g a u u Cf u Uf Gf Cf u g c u a u u a c u L96</td>\n",
       "      <td>a Gf u a a u (Agn) g c a g c a Af g Af a u c a...</td>\n",
       "      <td>ACCCCCGAGAAAGCAACCCAGCGCGCCGCCCGCTCCTCACGTGTCC...</td>\n",
       "      <td>102.800</td>\n",
       "    </tr>\n",
       "    <tr>\n",
       "      <th>3111</th>\n",
       "      <td>6628</td>\n",
       "      <td>WO182f2c5b3a</td>\n",
       "      <td>NaN</td>\n",
       "      <td>NaN</td>\n",
       "      <td>NaN</td>\n",
       "      <td>AD-958787.1</td>\n",
       "      <td>CAGGGCUACCCUUCUAAGGUA</td>\n",
       "      <td>UACCUUAGAAGGGUAGCCCUGCA</td>\n",
       "      <td>Human Trabecular Meshwork Cells</td>\n",
       "      <td>50.0</td>\n",
       "      <td>nM</td>\n",
       "      <td>Lipofectamine</td>\n",
       "      <td>24.0</td>\n",
       "      <td>caggg(Chd)uadCcdCuucuaagguaL96</td>\n",
       "      <td>VPudAccdTudAgaagdGgdTagcccugca</td>\n",
       "      <td>c a g g g (Chd) u a dC c dC u u c u a a g g u ...</td>\n",
       "      <td>VP u dA c c dT u dA g a a g dG g dT a g c c c ...</td>\n",
       "      <td>NaN</td>\n",
       "      <td>64.470</td>\n",
       "    </tr>\n",
       "    <tr>\n",
       "      <th>...</th>\n",
       "      <td>...</td>\n",
       "      <td>...</td>\n",
       "      <td>...</td>\n",
       "      <td>...</td>\n",
       "      <td>...</td>\n",
       "      <td>...</td>\n",
       "      <td>...</td>\n",
       "      <td>...</td>\n",
       "      <td>...</td>\n",
       "      <td>...</td>\n",
       "      <td>...</td>\n",
       "      <td>...</td>\n",
       "      <td>...</td>\n",
       "      <td>...</td>\n",
       "      <td>...</td>\n",
       "      <td>...</td>\n",
       "      <td>...</td>\n",
       "      <td>...</td>\n",
       "      <td>...</td>\n",
       "    </tr>\n",
       "    <tr>\n",
       "      <th>21575</th>\n",
       "      <td>48744</td>\n",
       "      <td>WO1b379c9eef</td>\n",
       "      <td>CIDEB</td>\n",
       "      <td>NM_001393338.1</td>\n",
       "      <td>Homo sapiens</td>\n",
       "      <td>AD-1700917.1</td>\n",
       "      <td>UUCACCUUUGACGUGUACAAU</td>\n",
       "      <td>AUUGUACACGUCAAAGGUGAAUC</td>\n",
       "      <td>Hep3B Cells</td>\n",
       "      <td>0.1</td>\n",
       "      <td>nM</td>\n",
       "      <td>Lipofectamine</td>\n",
       "      <td>24.0</td>\n",
       "      <td>uucaccUfuUfGfAfcguguacaauL96</td>\n",
       "      <td>aUfugdTa(Cgn)acgucaAfaGfgugaauc</td>\n",
       "      <td>u u c a c c Uf u Uf Gf Af c g u g u a c a a u L96</td>\n",
       "      <td>a Uf u g dT a (Cgn) a c g u c a Af a Gf g u g ...</td>\n",
       "      <td>CCCTTCCGGTGGAGCCAGCGCTGCGACCGCCTGCAGAAGGTTGACT...</td>\n",
       "      <td>65.700</td>\n",
       "    </tr>\n",
       "    <tr>\n",
       "      <th>5390</th>\n",
       "      <td>10992</td>\n",
       "      <td>WOd9a3dd8c47</td>\n",
       "      <td>CFB</td>\n",
       "      <td>NM_001710.5</td>\n",
       "      <td>Homo sapiens</td>\n",
       "      <td>AD-558965.1</td>\n",
       "      <td>UCAGGCUCCAUGAACAUCUAU</td>\n",
       "      <td>AUAGAUGUUCAUGGAGCCUGAAG</td>\n",
       "      <td>Primary Mouse Hepatocytes</td>\n",
       "      <td>1.0</td>\n",
       "      <td>nM</td>\n",
       "      <td>Lipofectamine</td>\n",
       "      <td>24.0</td>\n",
       "      <td>ucaggcUfcCfAfUfgaacaucuauL96</td>\n",
       "      <td>aUfagaUfgUfUfcaugGfaGfccugaag</td>\n",
       "      <td>u c a g g c Uf c Cf Af Uf g a a c a u c u a u L96</td>\n",
       "      <td>a Uf a g a Uf g Uf Uf c a u g Gf a Gf c c u g ...</td>\n",
       "      <td>GACTTCTGCAGTTTCTGTTTCCTTGACTGGCAGCTCAGCGGGGCCC...</td>\n",
       "      <td>94.610</td>\n",
       "    </tr>\n",
       "    <tr>\n",
       "      <th>860</th>\n",
       "      <td>2474</td>\n",
       "      <td>WO28aca1a182</td>\n",
       "      <td>ACE2</td>\n",
       "      <td>XM_005593037.2</td>\n",
       "      <td>Macaca fascicularis</td>\n",
       "      <td>AD-1230860.1</td>\n",
       "      <td>UAAAUGUCUGUUGAAUUUCUA</td>\n",
       "      <td>UAGAAAUUCAACAGACAUUUACA</td>\n",
       "      <td>Primary Human Hepatocytes</td>\n",
       "      <td>1.0</td>\n",
       "      <td>nM</td>\n",
       "      <td>Lipofectamine</td>\n",
       "      <td>24.0</td>\n",
       "      <td>uaaaug(Uhd)cUfGfUfugaauuucua</td>\n",
       "      <td>VPuAfgaaAfuucaacaGfaCfauuuaca</td>\n",
       "      <td>u a a a u g (Uhd) c Uf Gf Uf u g a a u u u c u a</td>\n",
       "      <td>VP u Af g a a Af u u c a a c a Gf a Cf a u u u...</td>\n",
       "      <td>CATACATACACTCTAGTAATGAGGACACTGAGCTCGCGTCTGAAAT...</td>\n",
       "      <td>29.770</td>\n",
       "    </tr>\n",
       "    <tr>\n",
       "      <th>15795</th>\n",
       "      <td>32464</td>\n",
       "      <td>WO5355a219aa</td>\n",
       "      <td>GSK3A</td>\n",
       "      <td>NM_019884.3</td>\n",
       "      <td>Homo sapiens</td>\n",
       "      <td>AD-1622539.1</td>\n",
       "      <td>UGAUUACACCUCAUCCAUCGA</td>\n",
       "      <td>UCGAUGGAUGAGGUGUAAUCAGU</td>\n",
       "      <td>A549 Cells</td>\n",
       "      <td>10.0</td>\n",
       "      <td>nM</td>\n",
       "      <td>Lipofectamine</td>\n",
       "      <td>24.0</td>\n",
       "      <td>ugauu(Ahd)CfaCfCfUfcauccaucga</td>\n",
       "      <td>VPuCfgauGfgAfUfgaggUfgUfaaucagu</td>\n",
       "      <td>u g a u u (Ahd) Cf a Cf Cf Uf c a u c c a u c g a</td>\n",
       "      <td>VP u Cf g a u Gf g Af Uf g a g g Uf g Uf a a u...</td>\n",
       "      <td>GCTGGGCCGGAGCCGGAGCCCAAGCCAGAGCGGCGCGGCCTGGAAG...</td>\n",
       "      <td>30.587</td>\n",
       "    </tr>\n",
       "    <tr>\n",
       "      <th>23654</th>\n",
       "      <td>53908</td>\n",
       "      <td>WO6fe860fef8</td>\n",
       "      <td>CFB</td>\n",
       "      <td>NM_001710.6</td>\n",
       "      <td>Homo sapiens</td>\n",
       "      <td>AD-1725193.1</td>\n",
       "      <td>AAUUAUGAAGACCACAAGUUU</td>\n",
       "      <td>AAACUUGUGGUCUUCAUAAUUGA</td>\n",
       "      <td>Primary Monkey Hepatocytes</td>\n",
       "      <td>100.0</td>\n",
       "      <td>nM</td>\n",
       "      <td>Free uptake</td>\n",
       "      <td>48.0</td>\n",
       "      <td>aauuaugaAfGfAfccacaaguuuL96</td>\n",
       "      <td>adAacdTudGuggudCuUfcauaauuga</td>\n",
       "      <td>a a u u a u g a Af Gf Af c c a c a a g u u u L96</td>\n",
       "      <td>a dA a c dT u dG u g g u dC u Uf c a u a a u u...</td>\n",
       "      <td>GGGAAGGGAATGTGACCAGGTCTAGGTCTGGAGTTTCAGCTTGGAC...</td>\n",
       "      <td>32.000</td>\n",
       "    </tr>\n",
       "  </tbody>\n",
       "</table>\n",
       "<p>23203 rows × 19 columns</p>\n",
       "</div>"
      ],
      "text/plain": [
       "          id publication_id gene_target_symbol_name gene_target_ncbi_id  \\\n",
       "15055  31472   WOda137ca368                 ANGPTL3         NM_014495.3   \n",
       "17579  37098   WOf5583f6d6e                    Flna      XM_006527911.5   \n",
       "4057    8396   WO6db0c26e50                   SCN9A      NM_001365536.1   \n",
       "7109   17672   WO2527cd3fe5                   ATXN2         NM_002973.3   \n",
       "3111    6628   WO182f2c5b3a                     NaN                 NaN   \n",
       "...      ...            ...                     ...                 ...   \n",
       "21575  48744   WO1b379c9eef                   CIDEB      NM_001393338.1   \n",
       "5390   10992   WOd9a3dd8c47                     CFB         NM_001710.5   \n",
       "860     2474   WO28aca1a182                    ACE2      XM_005593037.2   \n",
       "15795  32464   WO5355a219aa                   GSK3A         NM_019884.3   \n",
       "23654  53908   WO6fe860fef8                     CFB         NM_001710.6   \n",
       "\n",
       "       gene_target_species siRNA_duplex_id        siRNA_sense_seq  \\\n",
       "15055         Homo sapiens    AD-1479424.1  UGUUCACAAUUAAGCUCCUUU   \n",
       "17579         Mus musculus    AD-1692616.1  GCCUUACUGUUUCUAGUCUUA   \n",
       "4057          Homo sapiens     AD-795132.1  AAGGGAAAACAAUCUUCCGUA   \n",
       "7109          Homo sapiens     AD-367853.1  GUGAUUCUUGCUGCUAUUACU   \n",
       "3111                   NaN     AD-958787.1  CAGGGCUACCCUUCUAAGGUA   \n",
       "...                    ...             ...                    ...   \n",
       "21575         Homo sapiens    AD-1700917.1  UUCACCUUUGACGUGUACAAU   \n",
       "5390          Homo sapiens     AD-558965.1  UCAGGCUCCAUGAACAUCUAU   \n",
       "860    Macaca fascicularis    AD-1230860.1  UAAAUGUCUGUUGAAUUUCUA   \n",
       "15795         Homo sapiens    AD-1622539.1  UGAUUACACCUCAUCCAUCGA   \n",
       "23654         Homo sapiens    AD-1725193.1  AAUUAUGAAGACCACAAGUUU   \n",
       "\n",
       "           siRNA_antisense_seq                  cell_line_donor  \\\n",
       "15055    AAAGGAGCUUAAUUGUGAACG       Primary Monkey Hepatocytes   \n",
       "17579  UAAGACUAGAAACAGUAAGGCGG                      COS-7 Cells   \n",
       "4057   UACGGAAGAUUGUUUUCCCUUUG                    BE(2)-C Cells   \n",
       "7109   AGUAAUAGCAGCAAGAAUCACUC                      Hep3B Cells   \n",
       "3111   UACCUUAGAAGGGUAGCCCUGCA  Human Trabecular Meshwork Cells   \n",
       "...                        ...                              ...   \n",
       "21575  AUUGUACACGUCAAAGGUGAAUC                      Hep3B Cells   \n",
       "5390   AUAGAUGUUCAUGGAGCCUGAAG        Primary Mouse Hepatocytes   \n",
       "860    UAGAAAUUCAACAGACAUUUACA        Primary Human Hepatocytes   \n",
       "15795  UCGAUGGAUGAGGUGUAAUCAGU                       A549 Cells   \n",
       "23654  AAACUUGUGGUCUUCAUAAUUGA       Primary Monkey Hepatocytes   \n",
       "\n",
       "       siRNA_concentration concentration_unit Transfection_method  \\\n",
       "15055                  0.1                 nM       Lipofectamine   \n",
       "17579                  1.0                 nM       Lipofectamine   \n",
       "4057                   0.1                 nM       Lipofectamine   \n",
       "7109                   0.1                 nM       Lipofectamine   \n",
       "3111                  50.0                 nM       Lipofectamine   \n",
       "...                    ...                ...                 ...   \n",
       "21575                  0.1                 nM       Lipofectamine   \n",
       "5390                   1.0                 nM       Lipofectamine   \n",
       "860                    1.0                 nM       Lipofectamine   \n",
       "15795                 10.0                 nM       Lipofectamine   \n",
       "23654                100.0                 nM         Free uptake   \n",
       "\n",
       "       Duration_after_transfection_h          modified_siRNA_sense_seq  \\\n",
       "15055                           24.0      uguucaCfaAfUfUfaagcuccuuuL96   \n",
       "17579                           48.0     gccuu(Ahd)CfuGfUfUfucuagucuua   \n",
       "4057                            24.0  aaggg(Ahd)AfaAfCfAfaucuuccguaL96   \n",
       "7109                            24.0      gugauuCfuUfGfCfugcuauuacuL96   \n",
       "3111                            24.0    caggg(Chd)uadCcdCuucuaagguaL96   \n",
       "...                              ...                               ...   \n",
       "21575                           24.0      uucaccUfuUfGfAfcguguacaauL96   \n",
       "5390                            24.0      ucaggcUfcCfAfUfgaacaucuauL96   \n",
       "860                             24.0      uaaaug(Uhd)cUfGfUfugaauuucua   \n",
       "15795                           24.0     ugauu(Ahd)CfaCfCfUfcauccaucga   \n",
       "23654                           48.0       aauuaugaAfGfAfccacaaguuuL96   \n",
       "\n",
       "          modified_siRNA_antisense_seq  \\\n",
       "15055    adAagdGa(G2p)cuuaauUfgUfgaacg   \n",
       "17579  VPuAfagaCfuAfGfaaacAfgUfaaggcgg   \n",
       "4057   VPuAfcggAfaGfAfuuguUfuUfcccuuug   \n",
       "7109    aGfuaau(Agn)gcagcaAfgAfaucacuc   \n",
       "3111    VPudAccdTudAgaagdGgdTagcccugca   \n",
       "...                                ...   \n",
       "21575  aUfugdTa(Cgn)acgucaAfaGfgugaauc   \n",
       "5390     aUfagaUfgUfUfcaugGfaGfccugaag   \n",
       "860      VPuAfgaaAfuucaacaGfaCfauuuaca   \n",
       "15795  VPuCfgauGfgAfUfgaggUfgUfaaucagu   \n",
       "23654     adAacdTudGuggudCuUfcauaauuga   \n",
       "\n",
       "                           modified_siRNA_sense_seq_list  \\\n",
       "15055  u g u u c a Cf a Af Uf Uf a a g c u c c u u u L96   \n",
       "17579  g c c u u (Ahd) Cf u Gf Uf Uf u c u a g u c u u a   \n",
       "4057   a a g g g (Ahd) Af a Af Cf Af a u c u u c c g ...   \n",
       "7109   g u g a u u Cf u Uf Gf Cf u g c u a u u a c u L96   \n",
       "3111   c a g g g (Chd) u a dC c dC u u c u a a g g u ...   \n",
       "...                                                  ...   \n",
       "21575  u u c a c c Uf u Uf Gf Af c g u g u a c a a u L96   \n",
       "5390   u c a g g c Uf c Cf Af Uf g a a c a u c u a u L96   \n",
       "860     u a a a u g (Uhd) c Uf Gf Uf u g a a u u u c u a   \n",
       "15795  u g a u u (Ahd) Cf a Cf Cf Uf c a u c c a u c g a   \n",
       "23654   a a u u a u g a Af Gf Af c c a c a a g u u u L96   \n",
       "\n",
       "                       modified_siRNA_antisense_seq_list  \\\n",
       "15055  a dA a g dG a (G2p) c u u a a u Uf g Uf g a a c g   \n",
       "17579  VP u Af a g a Cf u Af Gf a a a c Af g Uf a a g...   \n",
       "4057   VP u Af c g g Af a Gf Af u u g u Uf u Uf c c c...   \n",
       "7109   a Gf u a a u (Agn) g c a g c a Af g Af a u c a...   \n",
       "3111   VP u dA c c dT u dA g a a g dG g dT a g c c c ...   \n",
       "...                                                  ...   \n",
       "21575  a Uf u g dT a (Cgn) a c g u c a Af a Gf g u g ...   \n",
       "5390   a Uf a g a Uf g Uf Uf c a u g Gf a Gf c c u g ...   \n",
       "860    VP u Af g a a Af u u c a a c a Gf a Cf a u u u...   \n",
       "15795  VP u Cf g a u Gf g Af Uf g a g g Uf g Uf a a u...   \n",
       "23654  a dA a c dT u dG u g g u dC u Uf c a u a a u u...   \n",
       "\n",
       "                                         gene_target_seq  mRNA_remaining_pct  \n",
       "15055  ATATATAGAGTTAAGAAGTCTAGGTCTGCTTCCAGAAGAAAACAGT...             100.520  \n",
       "17579  TGAGCGGGGCACTTGAGCTCGTGGCGAGCCCCGCACCCACTCCCTG...              14.100  \n",
       "4057   AGTCTGCTTGCAGGCGGTCGCCAGCGCTCCAGCGGCGGCTGTCGGC...              83.300  \n",
       "7109   ACCCCCGAGAAAGCAACCCAGCGCGCCGCCCGCTCCTCACGTGTCC...             102.800  \n",
       "3111                                                 NaN              64.470  \n",
       "...                                                  ...                 ...  \n",
       "21575  CCCTTCCGGTGGAGCCAGCGCTGCGACCGCCTGCAGAAGGTTGACT...              65.700  \n",
       "5390   GACTTCTGCAGTTTCTGTTTCCTTGACTGGCAGCTCAGCGGGGCCC...              94.610  \n",
       "860    CATACATACACTCTAGTAATGAGGACACTGAGCTCGCGTCTGAAAT...              29.770  \n",
       "15795  GCTGGGCCGGAGCCGGAGCCCAAGCCAGAGCGGCGCGGCCTGGAAG...              30.587  \n",
       "23654  GGGAAGGGAATGTGACCAGGTCTAGGTCTGGAGTTTCAGCTTGGAC...              32.000  \n",
       "\n",
       "[23203 rows x 19 columns]"
      ]
     },
     "execution_count": 8,
     "metadata": {},
     "output_type": "execute_result"
    }
   ],
   "source": [
    "train_data\n",
    "# a Af u a a Af a u u c a g g Af a Uf u c c u g c u\n",
    "# a Af u a a Af a u u c a g g Af a Uf u c c u g c u"
   ]
  },
  {
   "cell_type": "code",
   "execution_count": null,
   "id": "bf06a0ab-5f9a-402e-830e-3a0e7b6d6748",
   "metadata": {},
   "outputs": [],
   "source": []
  },
  {
   "cell_type": "code",
   "execution_count": null,
   "id": "d71116b2-d37e-431f-ba25-c73d1f19b44d",
   "metadata": {},
   "outputs": [],
   "source": []
  },
  {
   "cell_type": "code",
   "execution_count": 9,
   "id": "12425eb0-0d82-48f5-9397-2ac3b90b2500",
   "metadata": {},
   "outputs": [],
   "source": [
    "for inputs, targets in train_loader:\n",
    "    inputs = [x.to(device) for x in inputs]\n",
    "    targets = targets.to(device)\n",
    "            \n",
    "    optimizer.zero_grad()\n",
    "    outputs = model(inputs)\n",
    "    break\n"
   ]
  },
  {
   "cell_type": "code",
   "execution_count": 10,
   "id": "07196cb9-7fa0-4823-a75f-114f2425bf15",
   "metadata": {},
   "outputs": [
    {
     "data": {
      "text/plain": [
       "tensor([53.1601, 53.1601, 53.1601, 53.1601, 53.1601, 53.1601, 53.1601, 53.1601,\n",
       "        53.1601, 53.1601, 53.1601, 53.1601, 53.1601, 53.1601, 53.1601, 53.1601,\n",
       "        53.1601, 53.1601, 53.1601, 53.1601, 53.1601, 53.1601, 53.1601, 53.1601,\n",
       "        53.1601, 53.1601, 53.1601, 53.1601, 53.1601, 53.1601, 53.1601, 53.1601],\n",
       "       grad_fn=<SqueezeBackward0>)"
      ]
     },
     "execution_count": 10,
     "metadata": {},
     "output_type": "execute_result"
    }
   ],
   "source": [
    "outputs"
   ]
  },
  {
   "cell_type": "code",
   "execution_count": 11,
   "id": "91e2acd3-4a24-4325-bc9d-df6954ce88d1",
   "metadata": {},
   "outputs": [
    {
     "data": {
      "text/plain": [
       "([tensor([999, 907, 553, 509, 305, 152,   0,   0,   0,   0,   0,   0,   0,   0,\n",
       "            0,   0,   0,   0,   0,   0,   0,   0,   0,   0,   0]),\n",
       "  tensor([ 1,  8,  2,  1,  1,  2, 15,  3,  4,  1,  3,  4,  1,  6,  3,  6,  1,  2,\n",
       "           4,  1,  4,  2,  4,  0,  0])],\n",
       " tensor(102.8000))"
      ]
     },
     "execution_count": 11,
     "metadata": {},
     "output_type": "execute_result"
    }
   ],
   "source": [
    "train_dataset.__getitem__(3)"
   ]
  },
  {
   "cell_type": "code",
   "execution_count": null,
   "id": "b98945a1-2f19-40ed-b8f0-c02e0ee21d22",
   "metadata": {},
   "outputs": [],
   "source": []
  },
  {
   "cell_type": "code",
   "execution_count": null,
   "id": "52cdfdc0-b5e6-4f32-8b44-f7ca3b4224c1",
   "metadata": {},
   "outputs": [],
   "source": []
  },
  {
   "cell_type": "code",
   "execution_count": null,
   "id": "82c48dfb-a537-4042-b770-c07f3bec0846",
   "metadata": {},
   "outputs": [],
   "source": []
  }
 ],
 "metadata": {
  "kernelspec": {
   "display_name": "Python 3 (ipykernel)",
   "language": "python",
   "name": "python3"
  },
  "language_info": {
   "codemirror_mode": {
    "name": "ipython",
    "version": 3
   },
   "file_extension": ".py",
   "mimetype": "text/x-python",
   "name": "python",
   "nbconvert_exporter": "python",
   "pygments_lexer": "ipython3",
   "version": "3.9.17"
  }
 },
 "nbformat": 4,
 "nbformat_minor": 5
}
